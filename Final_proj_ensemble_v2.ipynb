{
 "cells": [
  {
   "cell_type": "code",
   "execution_count": 1,
   "metadata": {},
   "outputs": [
    {
     "name": "stdout",
     "output_type": "stream",
     "text": [
      "\n",
      "The following command must be run outside of the IPython shell:\n",
      "\n",
      "    $ pip freeze\n",
      "\n",
      "The Python package manager (pip) can only be used from outside of IPython.\n",
      "Please reissue the `pip` command in a separate terminal or command prompt.\n",
      "\n",
      "See the Python documentation for more information on how to install packages:\n",
      "\n",
      "    https://docs.python.org/3/installing/\n"
     ]
    }
   ],
   "source": [
    "pip freeze"
   ]
  },
  {
   "cell_type": "code",
   "execution_count": 19,
   "metadata": {},
   "outputs": [],
   "source": [
    "import pandas as pd\n",
    "import numpy as np\n",
    "import matplotlib.pyplot as plt\n",
    "%matplotlib inline\n",
    "import seaborn as sns\n",
    "import datetime\n",
    "from workalendar.europe import Russia\n",
    "from sklearn.preprocessing import LabelEncoder\n",
    "from sklearn.model_selection import StratifiedKFold\n",
    "from sklearn.metrics import mean_squared_error\n",
    "import gc\n",
    "from itertools import product\n",
    "from datetime import date\n",
    "import time\n",
    "\n",
    "from sklearn.preprocessing import StandardScaler\n",
    "from sklearn.preprocessing import MinMaxScaler\n",
    "\n",
    "from sklearn.linear_model import LinearRegression, BayesianRidge, Ridge, Lasso\n",
    "from sklearn.svm import SVR\n",
    "from sklearn.neighbors import KNeighborsRegressor\n",
    "from sklearn.ensemble import AdaBoostRegressor, GradientBoostingRegressor\n",
    "from sklearn.tree import DecisionTreeRegressor\n",
    "from sklearn.ensemble import RandomForestRegressor\n",
    "\n",
    "\n",
    "import lightgbm as lgb\n",
    "from xgboost import XGBRegressor\n",
    "from xgboost import plot_importance\n",
    "from catboost import CatBoostRegressor\n",
    "\n",
    "from keras.layers import Input, Dense, Dropout\n",
    "from keras.models import Model\n",
    "from keras import optimizers\n",
    "from keras.models import load_model"
   ]
  },
  {
   "cell_type": "code",
   "execution_count": null,
   "metadata": {
    "collapsed": true
   },
   "outputs": [],
   "source": []
  },
  {
   "cell_type": "code",
   "execution_count": null,
   "metadata": {
    "collapsed": true
   },
   "outputs": [],
   "source": []
  },
  {
   "cell_type": "markdown",
   "metadata": {},
   "source": [
    "# Functions"
   ]
  },
  {
   "cell_type": "code",
   "execution_count": null,
   "metadata": {
    "collapsed": true
   },
   "outputs": [],
   "source": []
  },
  {
   "cell_type": "code",
   "execution_count": 20,
   "metadata": {
    "collapsed": true
   },
   "outputs": [],
   "source": [
    "def downcast_dtypes(df):\n",
    "    '''\n",
    "        Changes column types in the dataframe: \n",
    "                \n",
    "                `float64` type to `float32`\n",
    "                `int64`   type to `int32`\n",
    "    '''\n",
    "    \n",
    "    # Select columns to downcast\n",
    "    float_cols = [c for c in df if df[c].dtype == \"float64\"]\n",
    "    int_cols =   [c for c in df if df[c].dtype == \"int64\"]\n",
    "    \n",
    "    # Downcast\n",
    "    df[float_cols] = df[float_cols].astype(np.float32)\n",
    "    df[int_cols]   = df[int_cols].astype(np.int32)\n",
    "    \n",
    "    return df\n",
    "\n",
    "def mean_enc(all_data, group_cols, target_col, name, fill_c):\n",
    "    gb = all_data[group_cols + [target_col]].groupby(group_cols,as_index=False).agg({target_col:{name + '_mean':'mean'}})\n",
    "    #gb.reset_index(inplace=True)\n",
    "    gb.columns = [col[0] if col[-1] == '' else col[-1] for col in gb.columns.values]\n",
    "    all_data = pd.merge(all_data, gb, how='left', on=group_cols).fillna(fill_c)\n",
    "    return all_data\n",
    "  \n",
    "def mean_KFenc(data, enc_col, target_col, fill_c, n_splits):\n",
    "    data= data.copy()\n",
    "    y= data[target_col]; X= data[enc_col]\n",
    "    new_col= enc_col + '_mean_skf'\n",
    "    data[new_col]= fill_c\n",
    "    skf = StratifiedKFold(n_splits=n_splits, shuffle= False, random_state=0)\n",
    "    for train_index, test_index in skf.split(X, y):\n",
    "        enc= data.loc[train_index].groupby(enc_col)[target_col].mean()\n",
    "        #enc.reset_index(inplace=True)\n",
    "        data[new_col].loc[test_index]= data[enc_col].loc[test_index].map(enc)    \n",
    "    data[new_col].fillna(fill_c, inplace=True)\n",
    "    return data\n",
    "\n",
    "def feature_lags(all_data, time_col, inx_cols, name, lags, fill_c):  \n",
    "    for lag in lags:\n",
    "        d= all_data[inx_cols + [name]].copy().drop_duplicates(subset=inx_cols)\n",
    "        d[time_col] += lag\n",
    "        d= d.rename(columns= {name: name + '_previous_' + str(lag)})\n",
    "        all_data = pd.merge(all_data, d, how='left', on=inx_cols).fillna(fill_c)\n",
    "    del d\n",
    "    return all_data\n",
    "\n",
    "def first_last(all_data, p_cols, reference, name, fl):\n",
    "    gb= all_data[p_cols + [reference]].groupby(p_cols, as_index=False)\n",
    "    #gb.reset_index(inplace=True)\n",
    "    if fl== 'first': \n",
    "        a=gb.first()\n",
    "    if fl== 'last':\n",
    "        a=gb.last()\n",
    "    a= a.rename(columns={reference:fl + '_' + name})\n",
    "    all_data = pd.merge(all_data, a, how='left', on=p_cols)\n",
    "    if fl== 'first': \n",
    "        all_data['delta_' + fl + '_' + name]= (all_data[reference] - all_data[fl + '_' + name]).fillna(0)\n",
    "    if fl== 'last': \n",
    "        all_data['delta_' + fl + '_' + name]= (all_data[reference] - all_data[fl + '_' + name]).fillna(33)\n",
    "    return all_data\n",
    "\n",
    "fill_c= 0"
   ]
  },
  {
   "cell_type": "code",
   "execution_count": null,
   "metadata": {
    "collapsed": true
   },
   "outputs": [],
   "source": []
  },
  {
   "cell_type": "markdown",
   "metadata": {},
   "source": [
    "# Load data"
   ]
  },
  {
   "cell_type": "code",
   "execution_count": null,
   "metadata": {
    "collapsed": true
   },
   "outputs": [],
   "source": []
  },
  {
   "cell_type": "code",
   "execution_count": 21,
   "metadata": {
    "collapsed": true
   },
   "outputs": [],
   "source": [
    "#read_data\n",
    "path= 'Data/'\n",
    "t          = pd.read_csv(path + 'sales_train.csv.gz')\n",
    "test            = pd.read_csv(path + 'test.csv')\n",
    "items           = pd.read_csv(path + 'items.csv')\n",
    "item_cats = pd.read_csv(path + 'item_categories.csv')\n",
    "shops           = pd.read_csv(path + 'shops.csv')\n",
    "\n",
    "t['date']= pd.to_datetime(t['date'], format= '%d.%m.%Y')\n",
    "t= t.sort_values('date')"
   ]
  },
  {
   "cell_type": "code",
   "execution_count": null,
   "metadata": {
    "collapsed": true
   },
   "outputs": [],
   "source": []
  },
  {
   "cell_type": "markdown",
   "metadata": {},
   "source": [
    "# EDA"
   ]
  },
  {
   "cell_type": "markdown",
   "metadata": {},
   "source": [
    "## Sales\n",
    "* Checking whether there ares new items in test data."
   ]
  },
  {
   "cell_type": "code",
   "execution_count": 5,
   "metadata": {
    "scrolled": true
   },
   "outputs": [
    {
     "data": {
      "text/plain": [
       "363"
      ]
     },
     "execution_count": 5,
     "metadata": {},
     "output_type": "execute_result"
    }
   ],
   "source": [
    "# Checking whether there ares new items in test data.\n",
    "col= 'item_id'\n",
    "new_items=len(list(set(test[col]) - set(test[col]).intersection(set(t[col]))))\n",
    "new_items"
   ]
  },
  {
   "cell_type": "code",
   "execution_count": 6,
   "metadata": {
    "collapsed": true
   },
   "outputs": [],
   "source": [
    "#plt.scatter(t['item_id'], t['item_price'], s=0.5); plt.show()"
   ]
  },
  {
   "cell_type": "code",
   "execution_count": 7,
   "metadata": {
    "collapsed": true
   },
   "outputs": [],
   "source": [
    "#plt.scatter(t['item_id'], t['item_cnt_day'], s=0.5); plt.show()"
   ]
  },
  {
   "cell_type": "code",
   "execution_count": 143,
   "metadata": {
    "collapsed": true
   },
   "outputs": [],
   "source": []
  },
  {
   "cell_type": "markdown",
   "metadata": {},
   "source": [
    "## Shops\n",
    "* There seems to be a duplications of shops 0 with 57, 1 with 58 & 10 with 11.\n",
    "* Need to analyse location from google, e.g. mall, street, level, city center...  "
   ]
  },
  {
   "cell_type": "code",
   "execution_count": null,
   "metadata": {
    "collapsed": true
   },
   "outputs": [],
   "source": []
  },
  {
   "cell_type": "code",
   "execution_count": 8,
   "metadata": {},
   "outputs": [
    {
     "data": {
      "text/plain": [
       "[]"
      ]
     },
     "execution_count": 8,
     "metadata": {},
     "output_type": "execute_result"
    }
   ],
   "source": [
    "# Checking wether there are new shops in test data.\n",
    "col= 'shop_id'\n",
    "new_shops=list(set(test[col]) - set(test[col]).intersection(set(shops[col])))\n",
    "new_shops"
   ]
  },
  {
   "cell_type": "code",
   "execution_count": 9,
   "metadata": {
    "scrolled": true
   },
   "outputs": [
    {
     "data": {
      "text/html": [
       "<div>\n",
       "<style scoped>\n",
       "    .dataframe tbody tr th:only-of-type {\n",
       "        vertical-align: middle;\n",
       "    }\n",
       "\n",
       "    .dataframe tbody tr th {\n",
       "        vertical-align: top;\n",
       "    }\n",
       "\n",
       "    .dataframe thead th {\n",
       "        text-align: right;\n",
       "    }\n",
       "</style>\n",
       "<table border=\"1\" class=\"dataframe\">\n",
       "  <thead>\n",
       "    <tr style=\"text-align: right;\">\n",
       "      <th></th>\n",
       "      <th>shop_name</th>\n",
       "      <th>shop_id</th>\n",
       "    </tr>\n",
       "  </thead>\n",
       "  <tbody>\n",
       "    <tr>\n",
       "      <th>0</th>\n",
       "      <td>!Якутск Орджоникидзе, 56 фран</td>\n",
       "      <td>0</td>\n",
       "    </tr>\n",
       "    <tr>\n",
       "      <th>1</th>\n",
       "      <td>!Якутск ТЦ \"Центральный\" фран</td>\n",
       "      <td>1</td>\n",
       "    </tr>\n",
       "    <tr>\n",
       "      <th>2</th>\n",
       "      <td>Адыгея ТЦ \"Мега\"</td>\n",
       "      <td>2</td>\n",
       "    </tr>\n",
       "    <tr>\n",
       "      <th>3</th>\n",
       "      <td>Балашиха ТРК \"Октябрь-Киномир\"</td>\n",
       "      <td>3</td>\n",
       "    </tr>\n",
       "    <tr>\n",
       "      <th>4</th>\n",
       "      <td>Волжский ТЦ \"Волга Молл\"</td>\n",
       "      <td>4</td>\n",
       "    </tr>\n",
       "    <tr>\n",
       "      <th>5</th>\n",
       "      <td>Вологда ТРЦ \"Мармелад\"</td>\n",
       "      <td>5</td>\n",
       "    </tr>\n",
       "    <tr>\n",
       "      <th>6</th>\n",
       "      <td>Воронеж (Плехановская, 13)</td>\n",
       "      <td>6</td>\n",
       "    </tr>\n",
       "    <tr>\n",
       "      <th>7</th>\n",
       "      <td>Воронеж ТРЦ \"Максимир\"</td>\n",
       "      <td>7</td>\n",
       "    </tr>\n",
       "    <tr>\n",
       "      <th>8</th>\n",
       "      <td>Воронеж ТРЦ Сити-Парк \"Град\"</td>\n",
       "      <td>8</td>\n",
       "    </tr>\n",
       "    <tr>\n",
       "      <th>9</th>\n",
       "      <td>Выездная Торговля</td>\n",
       "      <td>9</td>\n",
       "    </tr>\n",
       "    <tr>\n",
       "      <th>10</th>\n",
       "      <td>Жуковский ул. Чкалова 39м?</td>\n",
       "      <td>10</td>\n",
       "    </tr>\n",
       "    <tr>\n",
       "      <th>11</th>\n",
       "      <td>Жуковский ул. Чкалова 39м²</td>\n",
       "      <td>11</td>\n",
       "    </tr>\n",
       "    <tr>\n",
       "      <th>12</th>\n",
       "      <td>Интернет-магазин ЧС</td>\n",
       "      <td>12</td>\n",
       "    </tr>\n",
       "    <tr>\n",
       "      <th>13</th>\n",
       "      <td>Казань ТЦ \"Бехетле\"</td>\n",
       "      <td>13</td>\n",
       "    </tr>\n",
       "    <tr>\n",
       "      <th>14</th>\n",
       "      <td>Казань ТЦ \"ПаркХаус\" II</td>\n",
       "      <td>14</td>\n",
       "    </tr>\n",
       "    <tr>\n",
       "      <th>15</th>\n",
       "      <td>Калуга ТРЦ \"XXI век\"</td>\n",
       "      <td>15</td>\n",
       "    </tr>\n",
       "    <tr>\n",
       "      <th>16</th>\n",
       "      <td>Коломна ТЦ \"Рио\"</td>\n",
       "      <td>16</td>\n",
       "    </tr>\n",
       "    <tr>\n",
       "      <th>17</th>\n",
       "      <td>Красноярск ТЦ \"Взлетка Плаза\"</td>\n",
       "      <td>17</td>\n",
       "    </tr>\n",
       "    <tr>\n",
       "      <th>18</th>\n",
       "      <td>Красноярск ТЦ \"Июнь\"</td>\n",
       "      <td>18</td>\n",
       "    </tr>\n",
       "    <tr>\n",
       "      <th>19</th>\n",
       "      <td>Курск ТЦ \"Пушкинский\"</td>\n",
       "      <td>19</td>\n",
       "    </tr>\n",
       "    <tr>\n",
       "      <th>20</th>\n",
       "      <td>Москва \"Распродажа\"</td>\n",
       "      <td>20</td>\n",
       "    </tr>\n",
       "    <tr>\n",
       "      <th>21</th>\n",
       "      <td>Москва МТРЦ \"Афи Молл\"</td>\n",
       "      <td>21</td>\n",
       "    </tr>\n",
       "    <tr>\n",
       "      <th>22</th>\n",
       "      <td>Москва Магазин С21</td>\n",
       "      <td>22</td>\n",
       "    </tr>\n",
       "    <tr>\n",
       "      <th>23</th>\n",
       "      <td>Москва ТК \"Буденовский\" (пав.А2)</td>\n",
       "      <td>23</td>\n",
       "    </tr>\n",
       "    <tr>\n",
       "      <th>24</th>\n",
       "      <td>Москва ТК \"Буденовский\" (пав.К7)</td>\n",
       "      <td>24</td>\n",
       "    </tr>\n",
       "    <tr>\n",
       "      <th>25</th>\n",
       "      <td>Москва ТРК \"Атриум\"</td>\n",
       "      <td>25</td>\n",
       "    </tr>\n",
       "    <tr>\n",
       "      <th>26</th>\n",
       "      <td>Москва ТЦ \"Ареал\" (Беляево)</td>\n",
       "      <td>26</td>\n",
       "    </tr>\n",
       "    <tr>\n",
       "      <th>27</th>\n",
       "      <td>Москва ТЦ \"МЕГА Белая Дача II\"</td>\n",
       "      <td>27</td>\n",
       "    </tr>\n",
       "    <tr>\n",
       "      <th>28</th>\n",
       "      <td>Москва ТЦ \"МЕГА Теплый Стан\" II</td>\n",
       "      <td>28</td>\n",
       "    </tr>\n",
       "    <tr>\n",
       "      <th>29</th>\n",
       "      <td>Москва ТЦ \"Новый век\" (Новокосино)</td>\n",
       "      <td>29</td>\n",
       "    </tr>\n",
       "    <tr>\n",
       "      <th>30</th>\n",
       "      <td>Москва ТЦ \"Перловский\"</td>\n",
       "      <td>30</td>\n",
       "    </tr>\n",
       "    <tr>\n",
       "      <th>31</th>\n",
       "      <td>Москва ТЦ \"Семеновский\"</td>\n",
       "      <td>31</td>\n",
       "    </tr>\n",
       "    <tr>\n",
       "      <th>32</th>\n",
       "      <td>Москва ТЦ \"Серебряный Дом\"</td>\n",
       "      <td>32</td>\n",
       "    </tr>\n",
       "    <tr>\n",
       "      <th>33</th>\n",
       "      <td>Мытищи ТРК \"XL-3\"</td>\n",
       "      <td>33</td>\n",
       "    </tr>\n",
       "    <tr>\n",
       "      <th>34</th>\n",
       "      <td>Н.Новгород ТРЦ \"РИО\"</td>\n",
       "      <td>34</td>\n",
       "    </tr>\n",
       "    <tr>\n",
       "      <th>35</th>\n",
       "      <td>Н.Новгород ТРЦ \"Фантастика\"</td>\n",
       "      <td>35</td>\n",
       "    </tr>\n",
       "    <tr>\n",
       "      <th>36</th>\n",
       "      <td>Новосибирск ТРЦ \"Галерея Новосибирск\"</td>\n",
       "      <td>36</td>\n",
       "    </tr>\n",
       "    <tr>\n",
       "      <th>37</th>\n",
       "      <td>Новосибирск ТЦ \"Мега\"</td>\n",
       "      <td>37</td>\n",
       "    </tr>\n",
       "    <tr>\n",
       "      <th>38</th>\n",
       "      <td>Омск ТЦ \"Мега\"</td>\n",
       "      <td>38</td>\n",
       "    </tr>\n",
       "    <tr>\n",
       "      <th>39</th>\n",
       "      <td>РостовНаДону ТРК \"Мегацентр Горизонт\"</td>\n",
       "      <td>39</td>\n",
       "    </tr>\n",
       "    <tr>\n",
       "      <th>40</th>\n",
       "      <td>РостовНаДону ТРК \"Мегацентр Горизонт\" Островной</td>\n",
       "      <td>40</td>\n",
       "    </tr>\n",
       "    <tr>\n",
       "      <th>41</th>\n",
       "      <td>РостовНаДону ТЦ \"Мега\"</td>\n",
       "      <td>41</td>\n",
       "    </tr>\n",
       "    <tr>\n",
       "      <th>42</th>\n",
       "      <td>СПб ТК \"Невский Центр\"</td>\n",
       "      <td>42</td>\n",
       "    </tr>\n",
       "    <tr>\n",
       "      <th>43</th>\n",
       "      <td>СПб ТК \"Сенная\"</td>\n",
       "      <td>43</td>\n",
       "    </tr>\n",
       "    <tr>\n",
       "      <th>44</th>\n",
       "      <td>Самара ТЦ \"Мелодия\"</td>\n",
       "      <td>44</td>\n",
       "    </tr>\n",
       "    <tr>\n",
       "      <th>45</th>\n",
       "      <td>Самара ТЦ \"ПаркХаус\"</td>\n",
       "      <td>45</td>\n",
       "    </tr>\n",
       "    <tr>\n",
       "      <th>46</th>\n",
       "      <td>Сергиев Посад ТЦ \"7Я\"</td>\n",
       "      <td>46</td>\n",
       "    </tr>\n",
       "    <tr>\n",
       "      <th>47</th>\n",
       "      <td>Сургут ТРЦ \"Сити Молл\"</td>\n",
       "      <td>47</td>\n",
       "    </tr>\n",
       "    <tr>\n",
       "      <th>48</th>\n",
       "      <td>Томск ТРЦ \"Изумрудный Город\"</td>\n",
       "      <td>48</td>\n",
       "    </tr>\n",
       "    <tr>\n",
       "      <th>49</th>\n",
       "      <td>Тюмень ТРЦ \"Кристалл\"</td>\n",
       "      <td>49</td>\n",
       "    </tr>\n",
       "    <tr>\n",
       "      <th>50</th>\n",
       "      <td>Тюмень ТЦ \"Гудвин\"</td>\n",
       "      <td>50</td>\n",
       "    </tr>\n",
       "    <tr>\n",
       "      <th>51</th>\n",
       "      <td>Тюмень ТЦ \"Зеленый Берег\"</td>\n",
       "      <td>51</td>\n",
       "    </tr>\n",
       "    <tr>\n",
       "      <th>52</th>\n",
       "      <td>Уфа ТК \"Центральный\"</td>\n",
       "      <td>52</td>\n",
       "    </tr>\n",
       "    <tr>\n",
       "      <th>53</th>\n",
       "      <td>Уфа ТЦ \"Семья\" 2</td>\n",
       "      <td>53</td>\n",
       "    </tr>\n",
       "    <tr>\n",
       "      <th>54</th>\n",
       "      <td>Химки ТЦ \"Мега\"</td>\n",
       "      <td>54</td>\n",
       "    </tr>\n",
       "    <tr>\n",
       "      <th>55</th>\n",
       "      <td>Цифровой склад 1С-Онлайн</td>\n",
       "      <td>55</td>\n",
       "    </tr>\n",
       "    <tr>\n",
       "      <th>56</th>\n",
       "      <td>Чехов ТРЦ \"Карнавал\"</td>\n",
       "      <td>56</td>\n",
       "    </tr>\n",
       "    <tr>\n",
       "      <th>57</th>\n",
       "      <td>Якутск Орджоникидзе, 56</td>\n",
       "      <td>57</td>\n",
       "    </tr>\n",
       "    <tr>\n",
       "      <th>58</th>\n",
       "      <td>Якутск ТЦ \"Центральный\"</td>\n",
       "      <td>58</td>\n",
       "    </tr>\n",
       "    <tr>\n",
       "      <th>59</th>\n",
       "      <td>Ярославль ТЦ \"Альтаир\"</td>\n",
       "      <td>59</td>\n",
       "    </tr>\n",
       "  </tbody>\n",
       "</table>\n",
       "</div>"
      ],
      "text/plain": [
       "                                          shop_name  shop_id\n",
       "0                     !Якутск Орджоникидзе, 56 фран        0\n",
       "1                     !Якутск ТЦ \"Центральный\" фран        1\n",
       "2                                  Адыгея ТЦ \"Мега\"        2\n",
       "3                    Балашиха ТРК \"Октябрь-Киномир\"        3\n",
       "4                          Волжский ТЦ \"Волга Молл\"        4\n",
       "5                            Вологда ТРЦ \"Мармелад\"        5\n",
       "6                        Воронеж (Плехановская, 13)        6\n",
       "7                            Воронеж ТРЦ \"Максимир\"        7\n",
       "8                      Воронеж ТРЦ Сити-Парк \"Град\"        8\n",
       "9                                 Выездная Торговля        9\n",
       "10                       Жуковский ул. Чкалова 39м?       10\n",
       "11                       Жуковский ул. Чкалова 39м²       11\n",
       "12                              Интернет-магазин ЧС       12\n",
       "13                              Казань ТЦ \"Бехетле\"       13\n",
       "14                          Казань ТЦ \"ПаркХаус\" II       14\n",
       "15                             Калуга ТРЦ \"XXI век\"       15\n",
       "16                                 Коломна ТЦ \"Рио\"       16\n",
       "17                    Красноярск ТЦ \"Взлетка Плаза\"       17\n",
       "18                             Красноярск ТЦ \"Июнь\"       18\n",
       "19                            Курск ТЦ \"Пушкинский\"       19\n",
       "20                              Москва \"Распродажа\"       20\n",
       "21                           Москва МТРЦ \"Афи Молл\"       21\n",
       "22                               Москва Магазин С21       22\n",
       "23                 Москва ТК \"Буденовский\" (пав.А2)       23\n",
       "24                 Москва ТК \"Буденовский\" (пав.К7)       24\n",
       "25                              Москва ТРК \"Атриум\"       25\n",
       "26                      Москва ТЦ \"Ареал\" (Беляево)       26\n",
       "27                   Москва ТЦ \"МЕГА Белая Дача II\"       27\n",
       "28                  Москва ТЦ \"МЕГА Теплый Стан\" II       28\n",
       "29               Москва ТЦ \"Новый век\" (Новокосино)       29\n",
       "30                           Москва ТЦ \"Перловский\"       30\n",
       "31                          Москва ТЦ \"Семеновский\"       31\n",
       "32                       Москва ТЦ \"Серебряный Дом\"       32\n",
       "33                                Мытищи ТРК \"XL-3\"       33\n",
       "34                             Н.Новгород ТРЦ \"РИО\"       34\n",
       "35                      Н.Новгород ТРЦ \"Фантастика\"       35\n",
       "36            Новосибирск ТРЦ \"Галерея Новосибирск\"       36\n",
       "37                            Новосибирск ТЦ \"Мега\"       37\n",
       "38                                   Омск ТЦ \"Мега\"       38\n",
       "39            РостовНаДону ТРК \"Мегацентр Горизонт\"       39\n",
       "40  РостовНаДону ТРК \"Мегацентр Горизонт\" Островной       40\n",
       "41                           РостовНаДону ТЦ \"Мега\"       41\n",
       "42                           СПб ТК \"Невский Центр\"       42\n",
       "43                                  СПб ТК \"Сенная\"       43\n",
       "44                              Самара ТЦ \"Мелодия\"       44\n",
       "45                             Самара ТЦ \"ПаркХаус\"       45\n",
       "46                            Сергиев Посад ТЦ \"7Я\"       46\n",
       "47                           Сургут ТРЦ \"Сити Молл\"       47\n",
       "48                     Томск ТРЦ \"Изумрудный Город\"       48\n",
       "49                            Тюмень ТРЦ \"Кристалл\"       49\n",
       "50                               Тюмень ТЦ \"Гудвин\"       50\n",
       "51                        Тюмень ТЦ \"Зеленый Берег\"       51\n",
       "52                             Уфа ТК \"Центральный\"       52\n",
       "53                                 Уфа ТЦ \"Семья\" 2       53\n",
       "54                                  Химки ТЦ \"Мега\"       54\n",
       "55                         Цифровой склад 1С-Онлайн       55\n",
       "56                             Чехов ТРЦ \"Карнавал\"       56\n",
       "57                          Якутск Орджоникидзе, 56       57\n",
       "58                          Якутск ТЦ \"Центральный\"       58\n",
       "59                           Ярославль ТЦ \"Альтаир\"       59"
      ]
     },
     "execution_count": 9,
     "metadata": {},
     "output_type": "execute_result"
    }
   ],
   "source": [
    "gb = shops.groupby('shop_name')\n",
    " \n",
    "gb.head()"
   ]
  },
  {
   "cell_type": "markdown",
   "metadata": {},
   "source": [
    "## items"
   ]
  },
  {
   "cell_type": "code",
   "execution_count": 10,
   "metadata": {
    "collapsed": true,
    "scrolled": true
   },
   "outputs": [],
   "source": [
    "#gb = items.groupby('item_name')\n",
    "#gb.head()"
   ]
  },
  {
   "cell_type": "code",
   "execution_count": null,
   "metadata": {
    "collapsed": true
   },
   "outputs": [],
   "source": []
  },
  {
   "cell_type": "markdown",
   "metadata": {},
   "source": [
    "## item_category"
   ]
  },
  {
   "cell_type": "code",
   "execution_count": 11,
   "metadata": {
    "collapsed": true
   },
   "outputs": [],
   "source": [
    "#item_cats.head(10)"
   ]
  },
  {
   "cell_type": "markdown",
   "metadata": {},
   "source": [
    "# Clean"
   ]
  },
  {
   "cell_type": "code",
   "execution_count": null,
   "metadata": {
    "collapsed": true
   },
   "outputs": [],
   "source": []
  },
  {
   "cell_type": "code",
   "execution_count": 22,
   "metadata": {
    "collapsed": true
   },
   "outputs": [],
   "source": [
    "# Cleaning and ordering based on EDA\n",
    "\n",
    "# removing outliers\n",
    "t = t[t['item_price']<50000]\n",
    "t = t[t['item_cnt_day']<500]\n",
    "\n",
    "# \n",
    "\n",
    "t.loc[t['shop_id'] == 0, 'shop_id'] = 57\n",
    "test.loc[test.shop_id == 0, 'shop_id'] = 57\n",
    "\n",
    "t.loc[t['shop_id'] == 1, 'shop_id'] = 58\n",
    "test.loc[test.shop_id == 1, 'shop_id'] = 58\n",
    "\n",
    "t.loc[t['shop_id'] == 10, 'shop_id'] = 11\n",
    "test.loc[test.shop_id == 10, 'shop_id'] = 11\n",
    "\n",
    "shops.loc[shops.shop_name == 'Сергиев Посад ТЦ \"7Я\"', 'shop_name'] = 'СергиевПосад ТЦ \"7Я\"'\n",
    "shops['city'] = shops['shop_name'].str.split(' ').map(lambda x: x[0])\n",
    "shops.loc[shops.city == '!Якутск', 'city'] = 'Якутск'\n",
    "shops['city_code'] = LabelEncoder().fit_transform(shops['city'])\n",
    "shops = shops[['shop_id','city_code']]\n",
    "\n",
    "items.drop(['item_name'], axis=1, inplace=True)\n",
    "\n",
    "\n",
    "\n",
    "item_cats['split'] = item_cats['item_category_name'].str.split('-')\n",
    "item_cats['type'] = item_cats['split'].map(lambda x: x[0].strip())\n",
    "item_cats['type_code'] = LabelEncoder().fit_transform(item_cats['type'])\n",
    "# if subtype is nan then type\n",
    "item_cats['subtype'] = item_cats['split'].map(lambda x: x[1].strip() if len(x) > 1 else x[0].strip())\n",
    "item_cats['subtype_code'] = LabelEncoder().fit_transform(item_cats['subtype'])\n",
    "item_cats = item_cats[['item_category_id','type_code', 'subtype_code']]"
   ]
  },
  {
   "cell_type": "code",
   "execution_count": null,
   "metadata": {
    "collapsed": true
   },
   "outputs": [],
   "source": []
  },
  {
   "cell_type": "code",
   "execution_count": 23,
   "metadata": {
    "collapsed": true
   },
   "outputs": [],
   "source": [
    "tr_shops= list(t['shop_id'].unique())\n",
    "ts_shops= list(test['shop_id'].unique())\n",
    "tr_items= list(t['item_id'].unique())\n",
    "ts_items= list(test['item_id'].unique())"
   ]
  },
  {
   "cell_type": "code",
   "execution_count": null,
   "metadata": {
    "collapsed": true
   },
   "outputs": [],
   "source": []
  },
  {
   "cell_type": "markdown",
   "metadata": {
    "collapsed": true
   },
   "source": [
    "# Check leakedges"
   ]
  },
  {
   "cell_type": "code",
   "execution_count": 13,
   "metadata": {
    "collapsed": true
   },
   "outputs": [],
   "source": [
    "#test.columns"
   ]
  },
  {
   "cell_type": "code",
   "execution_count": 14,
   "metadata": {
    "collapsed": true
   },
   "outputs": [],
   "source": [
    "#plt.scatter(t.index, t['item_cnt_day'], s=0.5); plt.show()"
   ]
  },
  {
   "cell_type": "code",
   "execution_count": 15,
   "metadata": {
    "collapsed": true,
    "scrolled": true
   },
   "outputs": [],
   "source": [
    "#plt.scatter(t['shop_id'], t['item_cnt_day'], s=0.5); plt.show()"
   ]
  },
  {
   "cell_type": "code",
   "execution_count": 16,
   "metadata": {
    "collapsed": true
   },
   "outputs": [],
   "source": [
    "#plt.scatter(test['shop_id'], test['ID'], s=0.5);plt.show()"
   ]
  },
  {
   "cell_type": "code",
   "execution_count": null,
   "metadata": {
    "collapsed": true
   },
   "outputs": [],
   "source": []
  },
  {
   "cell_type": "code",
   "execution_count": 17,
   "metadata": {
    "collapsed": true,
    "scrolled": true
   },
   "outputs": [],
   "source": [
    "#plt.figure(figsize=(15,15))\n",
    "#plt.scatter(test['shop_id'], test['item_id'], s=0.5);plt.show()"
   ]
  },
  {
   "cell_type": "code",
   "execution_count": 18,
   "metadata": {
    "collapsed": true,
    "scrolled": true
   },
   "outputs": [],
   "source": [
    "#plt.figure(figsize=(15,15))\n",
    "#plt.scatter(test['item_id'], test['ID'], s=0.5);plt.show()"
   ]
  },
  {
   "cell_type": "markdown",
   "metadata": {},
   "source": [
    "#### There are some patterns that require further investigation in the future. "
   ]
  },
  {
   "cell_type": "code",
   "execution_count": null,
   "metadata": {
    "collapsed": true
   },
   "outputs": [],
   "source": []
  },
  {
   "cell_type": "code",
   "execution_count": null,
   "metadata": {
    "collapsed": true
   },
   "outputs": [],
   "source": []
  },
  {
   "cell_type": "markdown",
   "metadata": {},
   "source": [
    "# Create basic dataset for processing\n",
    "* For each item in each shop I create an instance for each month. This way there will be a continious data of each specific item for creating features and training the model.  \n",
    "* Test data will be concatenated to train data for easier processing."
   ]
  },
  {
   "cell_type": "markdown",
   "metadata": {},
   "source": [
    "### Create grid"
   ]
  },
  {
   "cell_type": "code",
   "execution_count": 24,
   "metadata": {},
   "outputs": [
    {
     "name": "stdout",
     "output_type": "stream",
     "text": [
      "grid (2781025, 4)\n",
      "keep:  2995225\n"
     ]
    }
   ],
   "source": [
    "# Create grid\n",
    "index_cols = ['shop_id', 'item_id', 'date_block_num']\n",
    "\n",
    "grid = [] \n",
    "for block_num in t['date_block_num'].unique():\n",
    "    cur_shops = t.loc[t['date_block_num'] == block_num, 'shop_id'].unique()\n",
    "    cur_items = t.loc[t['date_block_num'] == block_num, 'item_id'].unique()\n",
    "    grid.append(np.array(list(product(*[cur_shops, cur_items, [block_num]])),dtype='int32'))\n",
    "\n",
    "# Turn the grid into a dataframe\n",
    "grid = pd.DataFrame(np.vstack(grid), columns = index_cols, dtype=np.int32)\n",
    "\n",
    "\n",
    "grid['ID']= -1\n",
    "\n",
    "grid= grid[grid['shop_id'].isin(ts_shops)]\n",
    "grid= grid[grid['item_id'].isin(ts_items)]\n",
    "\n",
    "\n",
    "g= grid.shape\n",
    "print('grid', g)\n",
    "\n",
    "\n",
    "# Preparing test set\n",
    "test['date_block_num'] = 34\n",
    "test['date_block_num'] = test['date_block_num'].astype(np.int8)\n",
    "test['shop_id'] = test['shop_id'].astype(np.int8)\n",
    "test['item_id'] = test['item_id'].astype(np.int16)\n",
    "\n",
    "keep= len(grid)+len(test)\n",
    "print('keep: ', keep)"
   ]
  },
  {
   "cell_type": "code",
   "execution_count": 25,
   "metadata": {},
   "outputs": [
    {
     "name": "stdout",
     "output_type": "stream",
     "text": [
      "(2995225, 8)\n"
     ]
    }
   ],
   "source": [
    "# Concatenating grid & test data\n",
    "all_data= pd.concat([grid, test], axis=0, ignore_index=True)#, sort=False)\n",
    "all_data.fillna(0, inplace=True)\n",
    "del grid\n",
    "\n",
    "# Merging Shops, Categories, items \n",
    "all_data = pd.merge(all_data, shops, on=['shop_id'], how='left')\n",
    "all_data = pd.merge(all_data, items, on=['item_id'], how='left')\n",
    "all_data = pd.merge(all_data, item_cats, on=['item_category_id'], how='left')\n",
    "all_data['item_category_id'] = all_data['item_category_id'].astype(np.int8)\n",
    "all_data['city_code'] = all_data['city_code'].astype(np.int8)\n",
    "all_data['type_code'] = all_data['type_code'].astype(np.int8)\n",
    "all_data['subtype_code'] = all_data['subtype_code'].astype(np.int8)\n",
    "\n",
    "print(all_data.shape)"
   ]
  },
  {
   "cell_type": "code",
   "execution_count": null,
   "metadata": {
    "collapsed": true
   },
   "outputs": [],
   "source": []
  },
  {
   "cell_type": "markdown",
   "metadata": {},
   "source": [
    "### Calculate target data\n",
    "#### I will clip target to 0-20 for better convergance of the model."
   ]
  },
  {
   "cell_type": "code",
   "execution_count": 26,
   "metadata": {},
   "outputs": [
    {
     "name": "stdout",
     "output_type": "stream",
     "text": [
      "(2995225, 9)\n"
     ]
    }
   ],
   "source": [
    "# Target of current month\n",
    "group_cols= ['shop_id', 'item_id', 'date_block_num']\n",
    "gb = t.groupby(group_cols,as_index=False).agg({'item_cnt_day':{'target':'sum'}})\n",
    "gb.columns = [col[0] if col[-1]=='' else col[-1] for col in gb.columns.values]\n",
    "all_data = pd.merge(all_data, gb, how='left', on=group_cols).fillna(0)\n",
    "\n",
    "# Clipping\n",
    "all_data['target']= all_data['target'].clip(0, 20, axis=0).astype(np.int8)\n",
    "print(all_data.shape)"
   ]
  },
  {
   "cell_type": "code",
   "execution_count": null,
   "metadata": {
    "collapsed": true
   },
   "outputs": [],
   "source": []
  },
  {
   "cell_type": "markdown",
   "metadata": {},
   "source": [
    "# Features\n",
    " * Months & year.\n",
    " * Months since firs & last sales.\n",
    " * Mean price for each month, price lags & trends.\n",
    " * Working days and holydays in each month.\n",
    " * Mean encoding using skf strategy.\n",
    " * Target lags, trends & estimations."
   ]
  },
  {
   "cell_type": "code",
   "execution_count": 27,
   "metadata": {
    "collapsed": true
   },
   "outputs": [],
   "source": [
    "# Calculate month & year\n",
    "all_data['month']= (all_data['date_block_num'] % 12 + 1).astype(np.int32)\n",
    "all_data['year']= (all_data['date_block_num'] // 12 + 2013).astype(np.int32)\n",
    "\n",
    "# months since first & last sale\n",
    "reference= 'date_block_num'\n",
    "\n",
    "p_cols=['shop_id', 'item_id']; name= 'shop_item'; fl= 'first'\n",
    "all_data= first_last(all_data, p_cols, reference, name, fl)\n",
    "\n",
    "p_cols=['shop_id', 'item_id']; name= 'shop_item'; fl= 'last'\n",
    "all_data= first_last(all_data, p_cols, reference, name, fl)\n",
    "\n",
    "p_cols=['shop_id']; name= 'shop'; fl= 'first'\n",
    "all_data= first_last(all_data, p_cols, reference, name, fl)\n",
    "\n",
    "p_cols=['shop_id']; name= 'shop'; fl= 'last'\n",
    "all_data= first_last(all_data, p_cols, reference, name, fl)\n",
    "\n",
    "p_cols=['item_id']; name= 'item'; fl= 'first'\n",
    "all_data= first_last(all_data, p_cols, reference, name, fl)\n",
    "\n",
    "p_cols=['item_id']; name= 'item'; fl= 'last'\n",
    "all_data= first_last(all_data, p_cols, reference, name, fl) "
   ]
  },
  {
   "cell_type": "code",
   "execution_count": null,
   "metadata": {
    "collapsed": true
   },
   "outputs": [],
   "source": []
  },
  {
   "cell_type": "code",
   "execution_count": 28,
   "metadata": {},
   "outputs": [
    {
     "name": "stdout",
     "output_type": "stream",
     "text": [
      "prices\n"
     ]
    }
   ],
   "source": [
    "# Prices\n",
    "all_data['log_price']= np.log1p(all_data['item_price'].values)\n",
    "\n",
    "for f in ['item_id', 'item_category_id', 'type_code', 'subtype_code']:\n",
    "    all_data[f + '_mean_price']= all_data.groupby(f, as_index=False)['item_price'].mean()\n",
    "    all_data[f + '_std_price']= all_data.groupby(f, as_index=False)['item_price'].std()\n",
    "    all_data[f + '_skew_price']= all_data.groupby(f, as_index=False)['item_price'].skew()\n",
    "\n",
    "time_col= 'date_block_num'\n",
    "inx_cols= ['shop_id', 'item_id', 'date_block_num']\n",
    "lags= [1, 2, 3, 4, 6, 9, 12]\n",
    "gb= t[inx_cols + ['item_price']].groupby(inx_cols, as_index=False).mean()\n",
    "all_data= pd.merge(all_data, gb, how= 'left', on=inx_cols) \n",
    "all_data= feature_lags(all_data, time_col, inx_cols, 'item_price', lags, fill_c)\n",
    "for l in lags[1:]:\n",
    "    all_data['item_price_trend_' + str(l)]= all_data['item_price_previous_1'] - all_data['item_price_previous_' + str(l)]\n",
    "all_data.drop('item_price', axis=1, inplace=True)\n",
    "print('prices')"
   ]
  },
  {
   "cell_type": "code",
   "execution_count": null,
   "metadata": {
    "collapsed": true
   },
   "outputs": [],
   "source": []
  },
  {
   "cell_type": "code",
   "execution_count": 29,
   "metadata": {},
   "outputs": [
    {
     "name": "stderr",
     "output_type": "stream",
     "text": [
      "/usr/local/lib/python3.6/site-packages/ipykernel/__main__.py:12: SettingWithCopyWarning: \n",
      "A value is trying to be set on a copy of a slice from a DataFrame\n",
      "\n",
      "See the caveats in the documentation: http://pandas.pydata.org/pandas-docs/stable/indexing.html#indexing-view-versus-copy\n"
     ]
    },
    {
     "name": "stdout",
     "output_type": "stream",
     "text": [
      "(2995225, 39)\n",
      "time\n",
      "(2995225, 39)\n"
     ]
    }
   ],
   "source": [
    "#Time features    \n",
    "days_in_month = pd.Series([31,28,31,30,31,30,31,31,30,31,30,31])\n",
    "all_data['month'] -=1\n",
    "all_data['days'] = all_data['month'].map(days_in_month).astype(np.int8)\n",
    "all_data['month'] +=1\n",
    "cal = Russia()\n",
    "\n",
    "y= 2014\n",
    "all_data['w_days']= 0\n",
    "\n",
    "for m, last in enumerate(days_in_month):\n",
    "    all_data['w_days'][all_data['month']==m+1]= cal.get_working_days_delta(date(y, m+1, 1), date(y, m+1, last))\n",
    "all_data['h_days']= all_data['days'] - all_data['w_days'] - 8\n",
    "gc.collect();\n",
    "print(all_data.shape)\n",
    "\n",
    "\n",
    "all_data['date_block_num'] += 1\n",
    "\n",
    "print('time')\n",
    "print(all_data.shape)"
   ]
  },
  {
   "cell_type": "code",
   "execution_count": null,
   "metadata": {
    "collapsed": true
   },
   "outputs": [],
   "source": []
  },
  {
   "cell_type": "code",
   "execution_count": 30,
   "metadata": {},
   "outputs": [
    {
     "name": "stderr",
     "output_type": "stream",
     "text": [
      "/usr/local/lib/python3.6/site-packages/pandas/core/indexing.py:141: SettingWithCopyWarning: \n",
      "A value is trying to be set on a copy of a slice from a DataFrame\n",
      "\n",
      "See the caveats in the documentation: http://pandas.pydata.org/pandas-docs/stable/indexing.html#indexing-view-versus-copy\n",
      "  self._setitem_with_indexer(indexer, value)\n",
      "/usr/local/lib/python3.6/site-packages/pandas/core/indexing.py:141: SettingWithCopyWarning: \n",
      "A value is trying to be set on a copy of a slice from a DataFrame\n",
      "\n",
      "See the caveats in the documentation: http://pandas.pydata.org/pandas-docs/stable/indexing.html#indexing-view-versus-copy\n",
      "  self._setitem_with_indexer(indexer, value)\n",
      "/usr/local/lib/python3.6/site-packages/pandas/core/indexing.py:141: SettingWithCopyWarning: \n",
      "A value is trying to be set on a copy of a slice from a DataFrame\n",
      "\n",
      "See the caveats in the documentation: http://pandas.pydata.org/pandas-docs/stable/indexing.html#indexing-view-versus-copy\n",
      "  self._setitem_with_indexer(indexer, value)\n",
      "/usr/local/lib/python3.6/site-packages/pandas/core/indexing.py:141: SettingWithCopyWarning: \n",
      "A value is trying to be set on a copy of a slice from a DataFrame\n",
      "\n",
      "See the caveats in the documentation: http://pandas.pydata.org/pandas-docs/stable/indexing.html#indexing-view-versus-copy\n",
      "  self._setitem_with_indexer(indexer, value)\n",
      "/usr/local/lib/python3.6/site-packages/pandas/core/indexing.py:141: SettingWithCopyWarning: \n",
      "A value is trying to be set on a copy of a slice from a DataFrame\n",
      "\n",
      "See the caveats in the documentation: http://pandas.pydata.org/pandas-docs/stable/indexing.html#indexing-view-versus-copy\n",
      "  self._setitem_with_indexer(indexer, value)\n",
      "/usr/local/lib/python3.6/site-packages/pandas/core/indexing.py:141: SettingWithCopyWarning: \n",
      "A value is trying to be set on a copy of a slice from a DataFrame\n",
      "\n",
      "See the caveats in the documentation: http://pandas.pydata.org/pandas-docs/stable/indexing.html#indexing-view-versus-copy\n",
      "  self._setitem_with_indexer(indexer, value)\n"
     ]
    },
    {
     "name": "stdout",
     "output_type": "stream",
     "text": [
      "skf_enc\n",
      "all_data shape:  (2995225, 45)\n"
     ]
    }
   ],
   "source": [
    "# SKF Mean Encoding    \n",
    "inx_cols= ['shop_id', 'item_id', 'date_block_num']\n",
    "time_col= 'date_block_num'\n",
    "target_col= 'target'\n",
    "\n",
    "skf_cols= ['shop_id', 'item_id', 'item_category_id', 'type_code', 'subtype_code', 'city_code']\n",
    "data1= all_data[all_data['ID']==-1]\n",
    "data2= all_data[all_data['ID']>-1]\n",
    "for skf_col in skf_cols:\n",
    "    data1= mean_KFenc(data1, skf_col, target_col, fill_c, n_splits=5)\n",
    "    data2= pd.merge(data2, data1[[skf_col, skf_col + '_mean_skf']].drop_duplicates(subset=skf_col, keep='last'), how='left', on=skf_col)\n",
    "all_data= pd.concat([data1, data2], axis=0)\n",
    "\n",
    "print('skf_enc')\n",
    "print('all_data shape: ', all_data.shape)"
   ]
  },
  {
   "cell_type": "code",
   "execution_count": null,
   "metadata": {
    "collapsed": true
   },
   "outputs": [],
   "source": []
  },
  {
   "cell_type": "code",
   "execution_count": null,
   "metadata": {
    "collapsed": true
   },
   "outputs": [],
   "source": []
  },
  {
   "cell_type": "code",
   "execution_count": null,
   "metadata": {
    "collapsed": true
   },
   "outputs": [],
   "source": []
  },
  {
   "cell_type": "code",
   "execution_count": null,
   "metadata": {
    "collapsed": true
   },
   "outputs": [],
   "source": []
  },
  {
   "cell_type": "code",
   "execution_count": 31,
   "metadata": {},
   "outputs": [
    {
     "name": "stdout",
     "output_type": "stream",
     "text": [
      "mean encoding\n",
      "all_data shape:  (2995225, 50)\n"
     ]
    }
   ],
   "source": [
    "# Pairs Mean Encoding\n",
    "group_cols= ['shop_id', 'item_id']; name= 'target_shop_item'\n",
    "all_data= mean_enc(all_data, group_cols, target_col, name, fill_c)\n",
    "\n",
    "group_cols= ['shop_id', 'city_code']; name= 'target_shop_city'\n",
    "all_data= mean_enc(all_data, group_cols, target_col, name, fill_c)\n",
    "\n",
    "group_cols= ['shop_id', 'item_category_id']; name= 'target_shop_cat'\n",
    "all_data= mean_enc(all_data, group_cols, target_col, name, fill_c)\n",
    "\n",
    "group_cols= ['shop_id', 'type_code']; name= 'target_shop_type'\n",
    "all_data= mean_enc(all_data, group_cols, target_col, name, fill_c)\n",
    "\n",
    "group_cols= ['shop_id', 'subtype_code']; name= 'target_shop_subtype'\n",
    "all_data= mean_enc(all_data, group_cols, target_col, name, fill_c)\n",
    "\n",
    "print('mean encoding')\n",
    "print('all_data shape: ', all_data.shape)"
   ]
  },
  {
   "cell_type": "code",
   "execution_count": null,
   "metadata": {
    "collapsed": true
   },
   "outputs": [],
   "source": []
  },
  {
   "cell_type": "code",
   "execution_count": 32,
   "metadata": {},
   "outputs": [
    {
     "name": "stdout",
     "output_type": "stream",
     "text": [
      "target lags\n",
      "all_data shape:  (2995225, 58)\n",
      "target trends\n",
      "all_data shape (2995225, 68)\n",
      "estimate\n",
      "all_data shape:  (2995225, 74)\n"
     ]
    }
   ],
   "source": [
    "# Target lags\n",
    "group_cols= ['shop_id', 'item_id', 'date_block_num']\n",
    "lags= [1, 2, 3, 4, 5, 6, 9, 12]\n",
    "for i in lags:       \n",
    "    d= all_data[group_cols + ['target']].copy().drop_duplicates()\n",
    "    d['date_block_num'] += i\n",
    "    d= d.rename(columns= {'target':'target_previous_' + str(i)})\n",
    "    all_data = pd.merge(all_data, d, how='left', on=group_cols).fillna(0)\n",
    "del d\n",
    "print('target lags')\n",
    "print('all_data shape: ', all_data.shape)\n",
    "\n",
    "# Target trend\n",
    "inx_cols= ['shop_id', 'item_id', 'date_block_num']\n",
    "time_col= 'date_block_num'\n",
    "target_col= 'target'\n",
    "trend_lags= [2, 3, 4, 5, 6, 9, 12]\n",
    "for l in trend_lags:\n",
    "    all_data['target_trend_' + str(l)]= all_data['target_previous_1'] - all_data['target_previous_' + str(l)]\n",
    "    all_data['target_trend_' + str(l)].fillna(-1)\n",
    "name= 'target_trend_2'\n",
    "\n",
    "all_data= feature_lags(all_data, time_col, inx_cols, name, [11, 12, 13], fill_c)\n",
    "\n",
    "print('target trends')\n",
    "print('all_data shape', all_data.shape)\n",
    "\n",
    "#Trying to estimate\n",
    "all_data['tar11']= all_data['target_previous_1'] * (1 + all_data['target_trend_2_previous_11'] / all_data['target_previous_12']).replace([np.inf, -np.inf, np.nan], 1)\n",
    "all_data['tar12']= all_data['target_previous_1'] * (1 + all_data['target_trend_2_previous_12'] / all_data['target_previous_12']).replace([np.inf, -np.inf, np.nan], 1)\n",
    "all_data['tar13']= all_data['target_previous_1'] * (1 + all_data['target_trend_2_previous_13'] / all_data['target_previous_12']).replace([np.inf, -np.inf, np.nan], 1)\n",
    "all_data['tar111']= all_data['target_previous_1'] + all_data['target_trend_2_previous_11']\n",
    "all_data['tar112']= all_data['target_previous_1'] + all_data['target_trend_2_previous_12']\n",
    "all_data['tar113']= all_data['target_previous_1'] + all_data['target_trend_2_previous_13']\n",
    "    \n",
    "print('estimate')\n",
    "print('all_data shape: ', all_data.shape)\n",
    "    "
   ]
  },
  {
   "cell_type": "code",
   "execution_count": null,
   "metadata": {
    "collapsed": true
   },
   "outputs": [],
   "source": []
  },
  {
   "cell_type": "markdown",
   "metadata": {
    "collapsed": true
   },
   "source": [
    "# Organize features for modeling\n",
    "* Selecting data from month 14\n",
    "* Downcast data\n",
    "* Split between data for modeling and data for submission."
   ]
  },
  {
   "cell_type": "code",
   "execution_count": 2,
   "metadata": {
    "collapsed": true
   },
   "outputs": [],
   "source": [
    "#name= 'all_data_1'\n",
    "#all_data= pd.read_csv(name + '.csv')"
   ]
  },
  {
   "cell_type": "code",
   "execution_count": 33,
   "metadata": {
    "scrolled": true
   },
   "outputs": [
    {
     "name": "stdout",
     "output_type": "stream",
     "text": [
      "Index(['ID', 'date_block_num', 'item_id', 'shop_id', 'city_code',\n",
      "       'item_category_id', 'type_code', 'subtype_code', 'target', 'month',\n",
      "       'year', 'first_shop_item', 'delta_first_shop_item', 'last_shop_item',\n",
      "       'delta_last_shop_item', 'first_shop', 'delta_first_shop', 'last_shop',\n",
      "       'delta_last_shop', 'first_item', 'delta_first_item', 'last_item',\n",
      "       'delta_last_item', 'item_price_previous_1', 'item_price_previous_2',\n",
      "       'item_price_previous_3', 'item_price_previous_4',\n",
      "       'item_price_previous_6', 'item_price_previous_9',\n",
      "       'item_price_previous_12', 'item_price_trend_2', 'item_price_trend_3',\n",
      "       'item_price_trend_4', 'item_price_trend_6', 'item_price_trend_9',\n",
      "       'item_price_trend_12', 'days', 'w_days', 'h_days', 'shop_id_mean_skf',\n",
      "       'item_id_mean_skf', 'item_category_id_mean_skf', 'type_code_mean_skf',\n",
      "       'subtype_code_mean_skf', 'city_code_mean_skf', 'target_shop_item_mean',\n",
      "       'target_shop_city_mean', 'target_shop_cat_mean',\n",
      "       'target_shop_type_mean', 'target_shop_subtype_mean',\n",
      "       'target_previous_1', 'target_previous_2', 'target_previous_3',\n",
      "       'target_previous_4', 'target_previous_5', 'target_previous_6',\n",
      "       'target_previous_9', 'target_previous_12', 'target_trend_2',\n",
      "       'target_trend_3', 'target_trend_4', 'target_trend_5', 'target_trend_6',\n",
      "       'target_trend_9', 'target_trend_12', 'target_trend_2_previous_11',\n",
      "       'target_trend_2_previous_12', 'target_trend_2_previous_13', 'tar11',\n",
      "       'tar12', 'tar13', 'tar111', 'tar112', 'tar113'],\n",
      "      dtype='object')\n",
      "all_data shape:  (2995225, 74)\n",
      "<class 'pandas.core.frame.DataFrame'>\n",
      "Int64Index: 2995225 entries, 0 to 2995224\n",
      "Data columns (total 74 columns):\n",
      "ID                            int64\n",
      "date_block_num                int32\n",
      "item_id                       int32\n",
      "shop_id                       int32\n",
      "city_code                     int8\n",
      "item_category_id              int8\n",
      "type_code                     int8\n",
      "subtype_code                  int8\n",
      "target                        int8\n",
      "month                         int32\n",
      "year                          int32\n",
      "first_shop_item               int32\n",
      "delta_first_shop_item         int32\n",
      "last_shop_item                int32\n",
      "delta_last_shop_item          int32\n",
      "first_shop                    int32\n",
      "delta_first_shop              int32\n",
      "last_shop                     int32\n",
      "delta_last_shop               int32\n",
      "first_item                    int32\n",
      "delta_first_item              int32\n",
      "last_item                     int32\n",
      "delta_last_item               int32\n",
      "item_price_previous_1         float64\n",
      "item_price_previous_2         float64\n",
      "item_price_previous_3         float64\n",
      "item_price_previous_4         float64\n",
      "item_price_previous_6         float64\n",
      "item_price_previous_9         float64\n",
      "item_price_previous_12        float64\n",
      "item_price_trend_2            float64\n",
      "item_price_trend_3            float64\n",
      "item_price_trend_4            float64\n",
      "item_price_trend_6            float64\n",
      "item_price_trend_9            float64\n",
      "item_price_trend_12           float64\n",
      "days                          int8\n",
      "w_days                        int64\n",
      "h_days                        int64\n",
      "shop_id_mean_skf              float64\n",
      "item_id_mean_skf              float64\n",
      "item_category_id_mean_skf     float64\n",
      "type_code_mean_skf            float64\n",
      "subtype_code_mean_skf         float64\n",
      "city_code_mean_skf            float64\n",
      "target_shop_item_mean         float64\n",
      "target_shop_city_mean         float64\n",
      "target_shop_cat_mean          float64\n",
      "target_shop_type_mean         float64\n",
      "target_shop_subtype_mean      float64\n",
      "target_previous_1             float64\n",
      "target_previous_2             float64\n",
      "target_previous_3             float64\n",
      "target_previous_4             float64\n",
      "target_previous_5             float64\n",
      "target_previous_6             float64\n",
      "target_previous_9             float64\n",
      "target_previous_12            float64\n",
      "target_trend_2                float64\n",
      "target_trend_3                float64\n",
      "target_trend_4                float64\n",
      "target_trend_5                float64\n",
      "target_trend_6                float64\n",
      "target_trend_9                float64\n",
      "target_trend_12               float64\n",
      "target_trend_2_previous_11    float64\n",
      "target_trend_2_previous_12    float64\n",
      "target_trend_2_previous_13    float64\n",
      "tar11                         float64\n",
      "tar12                         float64\n",
      "tar13                         float64\n",
      "tar111                        float64\n",
      "tar112                        float64\n",
      "tar113                        float64\n",
      "dtypes: float64(48), int32(17), int64(3), int8(6)\n",
      "memory usage: 1.4 GB\n",
      "None\n"
     ]
    }
   ],
   "source": [
    "print(all_data.columns)\n",
    "print('all_data shape: ', all_data.shape);\n",
    "print(all_data.info())"
   ]
  },
  {
   "cell_type": "code",
   "execution_count": null,
   "metadata": {
    "collapsed": true
   },
   "outputs": [],
   "source": []
  },
  {
   "cell_type": "code",
   "execution_count": null,
   "metadata": {
    "collapsed": true
   },
   "outputs": [],
   "source": [
    "#all_data.to_csv('all_data_1.csv', index=False);"
   ]
  },
  {
   "cell_type": "code",
   "execution_count": 70,
   "metadata": {},
   "outputs": [],
   "source": [
    "cut= 14\n",
    "train_data= all_data[all_data['ID']==-1]\n",
    "\n",
    "y= train_data[['target', 'date_block_num']][train_data['date_block_num'] >= cut]\n",
    "\n",
    "X= train_data.drop(['ID', 'target'], axis=1)\n",
    "X= X[X['date_block_num'] >= cut]\n",
    "dbn= X['date_block_num']\n",
    "X= X.drop('date_block_num', axis=1)\n",
    "\n",
    "\n",
    "test_data=  all_data[all_data['ID'] > -1].drop(['target', 'date_block_num'], axis=1)\n",
    "ID= test_data['ID']\n",
    "test_data.drop('ID', axis=1, inplace=True)\n",
    "\n",
    "#del all_data"
   ]
  },
  {
   "cell_type": "code",
   "execution_count": 71,
   "metadata": {
    "collapsed": true
   },
   "outputs": [],
   "source": [
    "X= downcast_dtypes(X)\n",
    "test_data= downcast_dtypes(test_data)\n",
    "y= downcast_dtypes(y)"
   ]
  },
  {
   "cell_type": "code",
   "execution_count": 66,
   "metadata": {},
   "outputs": [
    {
     "name": "stdout",
     "output_type": "stream",
     "text": [
      "<class 'pandas.core.frame.DataFrame'>\n",
      "Int64Index: 2201769 entries, 579256 to 2781024\n",
      "Data columns (total 71 columns):\n",
      "item_id                       int32\n",
      "shop_id                       int32\n",
      "city_code                     int8\n",
      "item_category_id              int8\n",
      "type_code                     int8\n",
      "subtype_code                  int8\n",
      "month                         int32\n",
      "year                          int32\n",
      "first_shop_item               int32\n",
      "delta_first_shop_item         int32\n",
      "last_shop_item                int32\n",
      "delta_last_shop_item          int32\n",
      "first_shop                    int32\n",
      "delta_first_shop              int32\n",
      "last_shop                     int32\n",
      "delta_last_shop               int32\n",
      "first_item                    int32\n",
      "delta_first_item              int32\n",
      "last_item                     int32\n",
      "delta_last_item               int32\n",
      "item_price_previous_1         float32\n",
      "item_price_previous_2         float32\n",
      "item_price_previous_3         float32\n",
      "item_price_previous_4         float32\n",
      "item_price_previous_6         float32\n",
      "item_price_previous_9         float32\n",
      "item_price_previous_12        float32\n",
      "item_price_trend_2            float32\n",
      "item_price_trend_3            float32\n",
      "item_price_trend_4            float32\n",
      "item_price_trend_6            float32\n",
      "item_price_trend_9            float32\n",
      "item_price_trend_12           float32\n",
      "days                          int8\n",
      "w_days                        int32\n",
      "h_days                        int32\n",
      "shop_id_mean_skf              float32\n",
      "item_id_mean_skf              float32\n",
      "item_category_id_mean_skf     float32\n",
      "type_code_mean_skf            float32\n",
      "subtype_code_mean_skf         float32\n",
      "city_code_mean_skf            float32\n",
      "target_shop_item_mean         float32\n",
      "target_shop_city_mean         float32\n",
      "target_shop_cat_mean          float32\n",
      "target_shop_type_mean         float32\n",
      "target_shop_subtype_mean      float32\n",
      "target_previous_1             float32\n",
      "target_previous_2             float32\n",
      "target_previous_3             float32\n",
      "target_previous_4             float32\n",
      "target_previous_5             float32\n",
      "target_previous_6             float32\n",
      "target_previous_9             float32\n",
      "target_previous_12            float32\n",
      "target_trend_2                float32\n",
      "target_trend_3                float32\n",
      "target_trend_4                float32\n",
      "target_trend_5                float32\n",
      "target_trend_6                float32\n",
      "target_trend_9                float32\n",
      "target_trend_12               float32\n",
      "target_trend_2_previous_11    float32\n",
      "target_trend_2_previous_12    float32\n",
      "target_trend_2_previous_13    float32\n",
      "tar11                         float32\n",
      "tar12                         float32\n",
      "tar13                         float32\n",
      "tar111                        float32\n",
      "tar112                        float32\n",
      "tar113                        float32\n",
      "dtypes: float32(48), int32(18), int8(5)\n",
      "memory usage: 581.6 MB\n",
      "None\n",
      "<class 'pandas.core.frame.DataFrame'>\n",
      "Int64Index: 214200 entries, 2781025 to 2995224\n",
      "Data columns (total 71 columns):\n",
      "item_id                       214200 non-null int32\n",
      "shop_id                       214200 non-null int32\n",
      "city_code                     214200 non-null int8\n",
      "item_category_id              214200 non-null int8\n",
      "type_code                     214200 non-null int8\n",
      "subtype_code                  214200 non-null int8\n",
      "month                         214200 non-null int32\n",
      "year                          214200 non-null int32\n",
      "first_shop_item               214200 non-null int32\n",
      "delta_first_shop_item         214200 non-null int32\n",
      "last_shop_item                214200 non-null int32\n",
      "delta_last_shop_item          214200 non-null int32\n",
      "first_shop                    214200 non-null int32\n",
      "delta_first_shop              214200 non-null int32\n",
      "last_shop                     214200 non-null int32\n",
      "delta_last_shop               214200 non-null int32\n",
      "first_item                    214200 non-null int32\n",
      "delta_first_item              214200 non-null int32\n",
      "last_item                     214200 non-null int32\n",
      "delta_last_item               214200 non-null int32\n",
      "item_price_previous_1         214200 non-null float32\n",
      "item_price_previous_2         214200 non-null float32\n",
      "item_price_previous_3         214200 non-null float32\n",
      "item_price_previous_4         214200 non-null float32\n",
      "item_price_previous_6         214200 non-null float32\n",
      "item_price_previous_9         214200 non-null float32\n",
      "item_price_previous_12        214200 non-null float32\n",
      "item_price_trend_2            214200 non-null float32\n",
      "item_price_trend_3            214200 non-null float32\n",
      "item_price_trend_4            214200 non-null float32\n",
      "item_price_trend_6            214200 non-null float32\n",
      "item_price_trend_9            214200 non-null float32\n",
      "item_price_trend_12           214200 non-null float32\n",
      "days                          214200 non-null int8\n",
      "w_days                        214200 non-null int32\n",
      "h_days                        214200 non-null int32\n",
      "shop_id_mean_skf              214200 non-null float32\n",
      "item_id_mean_skf              214200 non-null float32\n",
      "item_category_id_mean_skf     214200 non-null float32\n",
      "type_code_mean_skf            214200 non-null float32\n",
      "subtype_code_mean_skf         214200 non-null float32\n",
      "city_code_mean_skf            214200 non-null float32\n",
      "target_shop_item_mean         214200 non-null float32\n",
      "target_shop_city_mean         214200 non-null float32\n",
      "target_shop_cat_mean          214200 non-null float32\n",
      "target_shop_type_mean         214200 non-null float32\n",
      "target_shop_subtype_mean      214200 non-null float32\n",
      "target_previous_1             214200 non-null float32\n",
      "target_previous_2             214200 non-null float32\n",
      "target_previous_3             214200 non-null float32\n",
      "target_previous_4             214200 non-null float32\n",
      "target_previous_5             214200 non-null float32\n",
      "target_previous_6             214200 non-null float32\n",
      "target_previous_9             214200 non-null float32\n",
      "target_previous_12            214200 non-null float32\n",
      "target_trend_2                214200 non-null float32\n",
      "target_trend_3                214200 non-null float32\n",
      "target_trend_4                214200 non-null float32\n",
      "target_trend_5                214200 non-null float32\n",
      "target_trend_6                214200 non-null float32\n",
      "target_trend_9                214200 non-null float32\n",
      "target_trend_12               214200 non-null float32\n",
      "target_trend_2_previous_11    214200 non-null float32\n",
      "target_trend_2_previous_12    214200 non-null float32\n",
      "target_trend_2_previous_13    214200 non-null float32\n",
      "tar11                         214200 non-null float32\n",
      "tar12                         214200 non-null float32\n",
      "tar13                         214200 non-null float32\n",
      "tar111                        214200 non-null float32\n",
      "tar112                        214200 non-null float32\n",
      "tar113                        214200 non-null float32\n",
      "dtypes: float32(48), int32(18), int8(5)\n",
      "memory usage: 56.6 MB\n",
      "None\n",
      "<class 'pandas.core.frame.DataFrame'>\n",
      "Int64Index: 2201769 entries, 579256 to 2781024\n",
      "Data columns (total 2 columns):\n",
      "target            int8\n",
      "date_block_num    int32\n",
      "dtypes: int32(1), int8(1)\n",
      "memory usage: 27.3 MB\n",
      "None\n"
     ]
    }
   ],
   "source": [
    "print(X.info())\n",
    "print(test_data.info())\n",
    "print(y.info())"
   ]
  },
  {
   "cell_type": "markdown",
   "metadata": {
    "collapsed": true
   },
   "source": [
    "## RF leaves features\n",
    "* Extract RF leaves."
   ]
  },
  {
   "cell_type": "code",
   "execution_count": 39,
   "metadata": {
    "scrolled": true
   },
   "outputs": [
    {
     "name": "stdout",
     "output_type": "stream",
     "text": [
      "RF\n"
     ]
    },
    {
     "ename": "ValueError",
     "evalue": "Must pass 2-d input",
     "output_type": "error",
     "traceback": [
      "\u001b[0;31m---------------------------------------------------------------------------\u001b[0m",
      "\u001b[0;31mValueError\u001b[0m                                Traceback (most recent call last)",
      "\u001b[0;32m<ipython-input-39-1b4ab1e16f1b>\u001b[0m in \u001b[0;36m<module>\u001b[0;34m\u001b[0m\n\u001b[1;32m     10\u001b[0m     \u001b[0mb\u001b[0m\u001b[0;34m.\u001b[0m\u001b[0mappend\u001b[0m\u001b[0;34m(\u001b[0m\u001b[0mRFmodel\u001b[0m\u001b[0;34m.\u001b[0m\u001b[0mapply\u001b[0m\u001b[0;34m(\u001b[0m\u001b[0mtest_data\u001b[0m\u001b[0;34m)\u001b[0m\u001b[0;34m)\u001b[0m\u001b[0;34m\u001b[0m\u001b[0m\n\u001b[1;32m     11\u001b[0m \u001b[0;34m\u001b[0m\u001b[0m\n\u001b[0;32m---> 12\u001b[0;31m \u001b[0mRFX\u001b[0m\u001b[0;34m=\u001b[0m \u001b[0mpd\u001b[0m\u001b[0;34m.\u001b[0m\u001b[0mDataFrame\u001b[0m\u001b[0;34m(\u001b[0m\u001b[0mdata\u001b[0m\u001b[0;34m=\u001b[0m \u001b[0mnp\u001b[0m\u001b[0;34m.\u001b[0m\u001b[0marray\u001b[0m\u001b[0;34m(\u001b[0m\u001b[0ma\u001b[0m\u001b[0;34m)\u001b[0m\u001b[0;34m.\u001b[0m\u001b[0mT\u001b[0m\u001b[0;34m,\u001b[0m \u001b[0mcolumns\u001b[0m\u001b[0;34m=\u001b[0m \u001b[0;34m[\u001b[0m\u001b[0;34m'RF1'\u001b[0m\u001b[0;34m,\u001b[0m \u001b[0;34m'RF2'\u001b[0m\u001b[0;34m,\u001b[0m \u001b[0;34m'RF3'\u001b[0m\u001b[0;34m]\u001b[0m\u001b[0;34m)\u001b[0m\u001b[0;34m\u001b[0m\u001b[0m\n\u001b[0m\u001b[1;32m     13\u001b[0m \u001b[0mRFtest\u001b[0m\u001b[0;34m=\u001b[0m \u001b[0mpd\u001b[0m\u001b[0;34m.\u001b[0m\u001b[0mDataFrame\u001b[0m\u001b[0;34m(\u001b[0m\u001b[0mdata\u001b[0m\u001b[0;34m=\u001b[0m \u001b[0mnp\u001b[0m\u001b[0;34m.\u001b[0m\u001b[0marray\u001b[0m\u001b[0;34m(\u001b[0m\u001b[0mb\u001b[0m\u001b[0;34m)\u001b[0m\u001b[0;34m.\u001b[0m\u001b[0mT\u001b[0m\u001b[0;34m,\u001b[0m \u001b[0mcolumns\u001b[0m\u001b[0;34m=\u001b[0m \u001b[0;34m[\u001b[0m\u001b[0;34m'RF1'\u001b[0m\u001b[0;34m,\u001b[0m \u001b[0;34m'RF2'\u001b[0m\u001b[0;34m,\u001b[0m \u001b[0;34m'RF3'\u001b[0m\u001b[0;34m]\u001b[0m\u001b[0;34m)\u001b[0m\u001b[0;34m\u001b[0m\u001b[0m\n\u001b[1;32m     14\u001b[0m \u001b[0;34m\u001b[0m\u001b[0m\n",
      "\u001b[0;32m/usr/local/lib/python3.6/site-packages/pandas/core/frame.py\u001b[0m in \u001b[0;36m__init__\u001b[0;34m(self, data, index, columns, dtype, copy)\u001b[0m\n\u001b[1;32m    295\u001b[0m             \u001b[0;32melse\u001b[0m\u001b[0;34m:\u001b[0m\u001b[0;34m\u001b[0m\u001b[0m\n\u001b[1;32m    296\u001b[0m                 mgr = self._init_ndarray(data, index, columns, dtype=dtype,\n\u001b[0;32m--> 297\u001b[0;31m                                          copy=copy)\n\u001b[0m\u001b[1;32m    298\u001b[0m         \u001b[0;32melif\u001b[0m \u001b[0misinstance\u001b[0m\u001b[0;34m(\u001b[0m\u001b[0mdata\u001b[0m\u001b[0;34m,\u001b[0m \u001b[0;34m(\u001b[0m\u001b[0mlist\u001b[0m\u001b[0;34m,\u001b[0m \u001b[0mtypes\u001b[0m\u001b[0;34m.\u001b[0m\u001b[0mGeneratorType\u001b[0m\u001b[0;34m)\u001b[0m\u001b[0;34m)\u001b[0m\u001b[0;34m:\u001b[0m\u001b[0;34m\u001b[0m\u001b[0m\n\u001b[1;32m    299\u001b[0m             \u001b[0;32mif\u001b[0m \u001b[0misinstance\u001b[0m\u001b[0;34m(\u001b[0m\u001b[0mdata\u001b[0m\u001b[0;34m,\u001b[0m \u001b[0mtypes\u001b[0m\u001b[0;34m.\u001b[0m\u001b[0mGeneratorType\u001b[0m\u001b[0;34m)\u001b[0m\u001b[0;34m:\u001b[0m\u001b[0;34m\u001b[0m\u001b[0m\n",
      "\u001b[0;32m/usr/local/lib/python3.6/site-packages/pandas/core/frame.py\u001b[0m in \u001b[0;36m_init_ndarray\u001b[0;34m(self, values, index, columns, dtype, copy)\u001b[0m\n\u001b[1;32m    452\u001b[0m         \u001b[0;31m# by definition an array here\u001b[0m\u001b[0;34m\u001b[0m\u001b[0;34m\u001b[0m\u001b[0m\n\u001b[1;32m    453\u001b[0m         \u001b[0;31m# the dtypes will be coerced to a single dtype\u001b[0m\u001b[0;34m\u001b[0m\u001b[0;34m\u001b[0m\u001b[0m\n\u001b[0;32m--> 454\u001b[0;31m         \u001b[0mvalues\u001b[0m \u001b[0;34m=\u001b[0m \u001b[0m_prep_ndarray\u001b[0m\u001b[0;34m(\u001b[0m\u001b[0mvalues\u001b[0m\u001b[0;34m,\u001b[0m \u001b[0mcopy\u001b[0m\u001b[0;34m=\u001b[0m\u001b[0mcopy\u001b[0m\u001b[0;34m)\u001b[0m\u001b[0;34m\u001b[0m\u001b[0m\n\u001b[0m\u001b[1;32m    455\u001b[0m \u001b[0;34m\u001b[0m\u001b[0m\n\u001b[1;32m    456\u001b[0m         \u001b[0;32mif\u001b[0m \u001b[0mdtype\u001b[0m \u001b[0;32mis\u001b[0m \u001b[0;32mnot\u001b[0m \u001b[0;32mNone\u001b[0m\u001b[0;34m:\u001b[0m\u001b[0;34m\u001b[0m\u001b[0m\n",
      "\u001b[0;32m/usr/local/lib/python3.6/site-packages/pandas/core/frame.py\u001b[0m in \u001b[0;36m_prep_ndarray\u001b[0;34m(values, copy)\u001b[0m\n\u001b[1;32m   5490\u001b[0m         \u001b[0mvalues\u001b[0m \u001b[0;34m=\u001b[0m \u001b[0mvalues\u001b[0m\u001b[0;34m.\u001b[0m\u001b[0mreshape\u001b[0m\u001b[0;34m(\u001b[0m\u001b[0;34m(\u001b[0m\u001b[0mvalues\u001b[0m\u001b[0;34m.\u001b[0m\u001b[0mshape\u001b[0m\u001b[0;34m[\u001b[0m\u001b[0;36m0\u001b[0m\u001b[0;34m]\u001b[0m\u001b[0;34m,\u001b[0m \u001b[0;36m1\u001b[0m\u001b[0;34m)\u001b[0m\u001b[0;34m)\u001b[0m\u001b[0;34m\u001b[0m\u001b[0m\n\u001b[1;32m   5491\u001b[0m     \u001b[0;32melif\u001b[0m \u001b[0mvalues\u001b[0m\u001b[0;34m.\u001b[0m\u001b[0mndim\u001b[0m \u001b[0;34m!=\u001b[0m \u001b[0;36m2\u001b[0m\u001b[0;34m:\u001b[0m\u001b[0;34m\u001b[0m\u001b[0m\n\u001b[0;32m-> 5492\u001b[0;31m         \u001b[0;32mraise\u001b[0m \u001b[0mValueError\u001b[0m\u001b[0;34m(\u001b[0m\u001b[0;34m'Must pass 2-d input'\u001b[0m\u001b[0;34m)\u001b[0m\u001b[0;34m\u001b[0m\u001b[0m\n\u001b[0m\u001b[1;32m   5493\u001b[0m \u001b[0;34m\u001b[0m\u001b[0m\n\u001b[1;32m   5494\u001b[0m     \u001b[0;32mreturn\u001b[0m \u001b[0mvalues\u001b[0m\u001b[0;34m\u001b[0m\u001b[0m\n",
      "\u001b[0;31mValueError\u001b[0m: Must pass 2-d input"
     ]
    }
   ],
   "source": [
    "# RF features\n",
    "print('RF')\n",
    "a= []\n",
    "b= []\n",
    "for depth in [5, 11, 17]:\n",
    "    RFmodel = RandomForestRegressor(max_depth=depth, min_samples_split=2**7, random_state=0, n_estimators=1)\n",
    "    RFmodel.fit(X, y)\n",
    "\n",
    "    a.append(RFmodel.apply(X))\n",
    "    b.append(RFmodel.apply(test_data))\n",
    "\n",
    "RFX= pd.DataFrame(data= np.hstack(a), columns= ['RF1', 'RF2', 'RF3'])\n",
    "RFtest= pd.DataFrame(data= np.hstack(b), columns= ['RF1', 'RF2', 'RF3'])\n",
    "\n"
   ]
  },
  {
   "cell_type": "code",
   "execution_count": null,
   "metadata": {
    "collapsed": true
   },
   "outputs": [],
   "source": [
    "KNNmodel= KNeighborsRegressor(n_neighbors=5, n_jobs=12)\n",
    "KNNmodel.fit(XS, y)\n",
    "distX= KNNmodel.kneighbors(XS)\n",
    "dist_test= KNNmodel.kneighbors(test_dataS)\n",
    "\n",
    "knncols=[]\n",
    "for i in distX.shape[1]:\n",
    "    knncols.append('knn5' + str(i))\n",
    "    \n",
    "distX= pd.DataFrame(data=distX, columns= knncols)\n",
    "dist_test= pd.DataFrame(data=dist_test, columns=knncols)\n",
    "print('knn')"
   ]
  },
  {
   "cell_type": "markdown",
   "metadata": {},
   "source": [
    "# Pre-Training\n",
    " * Concat the data.\n",
    " * Normalizing the data \n",
    " * Training Light Gradient Boosting with full data range to get some intuition.\n",
    " * Distinguish between datasets."
   ]
  },
  {
   "cell_type": "code",
   "execution_count": 72,
   "metadata": {
    "collapsed": true
   },
   "outputs": [],
   "source": [
    "X= pd.concat([X.reset_index(drop= True), RFX], axis=1)\n",
    "test_data= pd.concat([test_data, RFtest], axis=1)"
   ]
  },
  {
   "cell_type": "code",
   "execution_count": 74,
   "metadata": {},
   "outputs": [
    {
     "name": "stderr",
     "output_type": "stream",
     "text": [
      "/usr/local/lib/python3.6/site-packages/sklearn/preprocessing/data.py:323: DataConversionWarning: Data with input dtype int8, int64, float32, int32 were all converted to float64 by MinMaxScaler.\n",
      "  return self.partial_fit(X, y)\n",
      "/usr/local/lib/python3.6/site-packages/sklearn/utils/validation.py:595: DataConversionWarning: Data with input dtype int32 was converted to float64 by MinMaxScaler.\n",
      "  warnings.warn(msg, DataConversionWarning)\n"
     ]
    }
   ],
   "source": [
    "cols= X.columns.tolist()\n",
    "scaler = MinMaxScaler()\n",
    "#scaler = StandardScaler()\n",
    "XS= scaler.fit_transform(X)\n",
    "test_dataS= scaler.transform(test_data)\n",
    "\n",
    "scaler1 = MinMaxScaler(feature_range=(0, 1))\n",
    "yS= scaler1.fit_transform(y.values.reshape(-1, 1))\n",
    "\n",
    "\n",
    "XS= pd.DataFrame(data=XS, columns=cols)\n",
    "test_dataS= pd.DataFrame(data=test_dataS, columns=cols)\n",
    "yS= pd.DataFrame(data=yS, columns=['target'])"
   ]
  },
  {
   "cell_type": "code",
   "execution_count": null,
   "metadata": {
    "collapsed": true
   },
   "outputs": [],
   "source": []
  },
  {
   "cell_type": "code",
   "execution_count": 75,
   "metadata": {
    "scrolled": false
   },
   "outputs": [
    {
     "data": {
      "image/png": "[encoded data removed]",
      "text/plain": [
       "<matplotlib.figure.Figure at 0x10db878d0>"
      ]
     },
     "metadata": {},
     "output_type": "display_data"
    }
   ],
   "source": [
    "lgb_params3 = {'feature_fraction': 0.7,'metric': 'rmse', 'nthread':12, \n",
    "               'min_data_in_leaf': 2**11, 'lambda_l1': 1,\n",
    "                'bagging_fraction': 0.7, 'learning_rate': 0.05, 'objective': 'rmse',\n",
    "                'bagging_seed': 2**7, 'num_leaves': 2**11, 'bagging_freq':1, 'verbose':0}\n",
    "model = lgb.train(lgb_params3, lgb.Dataset(XS, label=y['target']), 300)\n",
    "ax = lgb.plot_importance(model, figsize=(15, 15));plt.show()"
   ]
  },
  {
   "cell_type": "code",
   "execution_count": 88,
   "metadata": {},
   "outputs": [],
   "source": [
    "q=sorted(zip(model.feature_importance(), model.feature_name()))"
   ]
  },
  {
   "cell_type": "code",
   "execution_count": 119,
   "metadata": {},
   "outputs": [],
   "source": [
    "cols1= [x[1] for x in q[-10:]]\n",
    "cols2= [x[1] for x in q[-20:-5]]\n",
    "cols3= [x[1] for x in q[:-10]]"
   ]
  },
  {
   "cell_type": "code",
   "execution_count": null,
   "metadata": {
    "collapsed": true
   },
   "outputs": [],
   "source": []
  },
  {
   "cell_type": "markdown",
   "metadata": {
    "collapsed": true
   },
   "source": [
    "# Training"
   ]
  },
  {
   "cell_type": "code",
   "execution_count": 135,
   "metadata": {
    "collapsed": true
   },
   "outputs": [],
   "source": [
    "def input_features_models(X_train, y_train, X_valid):\n",
    "\n",
    "    tlevel1= []; vlevel1= []\n",
    "    \n",
    "    \n",
    "    \n",
    "    lgb_params1 = {'feature_fraction': 0.7,'metric': 'rmse', 'nthread':12, 'min_data_in_leaf': 2**3, \n",
    "                      'bagging_fraction': 0.7, 'learning_rate': 0.05, 'objective': 'rmse',\n",
    "                      'bagging_seed': 2**7, 'num_leaves': 2**11,'bagging_freq':1,'verbose':0}\n",
    "\n",
    "    lgb_params2 = {'feature_fraction': 0.7,'metric': 'rmse', 'nthread':12, 'min_data_in_leaf': 2**7, \n",
    "                  'bagging_fraction': 0.7, 'learning_rate': 0.05, 'objective': 'rmse',\n",
    "                  'bagging_seed': 2**7, 'num_leaves': 2**11,'bagging_freq':1,'verbose':0}\n",
    "\n",
    "    lgb_params3 = {'feature_fraction': 0.7,'metric': 'rmse', 'nthread':12, 'min_data_in_leaf': 2**11, \n",
    "                  'bagging_fraction': 0.7, 'learning_rate': 0.05, 'objective': 'rmse',\n",
    "                  'bagging_seed': 2**7, 'num_leaves': 2**11,'bagging_freq':1,'verbose':0}\n",
    "\n",
    "    for n, lgb_params in enumerate ([lgb_params1, lgb_params2, lgb_params3]):\n",
    "        print('LGB')\n",
    "        model = lgb.train(lgb_params, lgb.Dataset(X_train, label=y_train), 30)\n",
    "        #ax = lgb.plot_importance(model, figsize=(15, 15));plt.show()\n",
    "        t_p= model.predict(X_train)\n",
    "        tlevel1.append(t_p)\n",
    "        v_p= model.predict(X_valid)\n",
    "        vlevel1.append(v_p)\n",
    "        \n",
    "    \n",
    "    for n, depth in enumerate ([2, 3, 4]):\n",
    "        print('CAT')\n",
    "        model = CatBoostRegressor(iterations=30, learning_rate=0.1, depth=depth)\n",
    "        model.fit(X_train, y_train)\n",
    "        t_p= model.predict(X_train)\n",
    "        tlevel1.append(t_p)\n",
    "        v_p= model.predict(X_valid)\n",
    "        vlevel1.append(v_p)\n",
    "    \n",
    "    \n",
    "    for n, depth in enumerate ([2, 3, 4]):\n",
    "        print('RF')\n",
    "        model= RandomForestRegressor(max_depth= depth, min_samples_split= 2**7, min_samples_leaf= 50, random_state= 0, n_estimators= 10)\n",
    "        model.fit(X_train, y_train)\n",
    "        t_p= model.predict(X_train)\n",
    "        tlevel1.append(t_p)\n",
    "        v_p= model.predict(X_valid)\n",
    "        vlevel1.append(v_p)\n",
    "    \n",
    "    print('LR')    \n",
    "    LRmodel= LinearRegression()\n",
    "    Lmodel= Lasso()\n",
    "    Rmodel= Ridge()\n",
    "    BRmodel= BayesianRidge()\n",
    "    for n, model in enumerate ([LRmodel, Lmodel, Rmodel, BRmodel]):\n",
    "        model.fit(X_train, y_train)\n",
    "        t_p= model.predict(X_train)\n",
    "        tlevel1.append(t_p.squeeze())\n",
    "        v_p= model.predict(X_valid)\n",
    "        vlevel1.append(v_p.squeeze())\n",
    "    \n",
    "    return vlevel1, tlevel1"
   ]
  },
  {
   "cell_type": "code",
   "execution_count": null,
   "metadata": {
    "collapsed": true
   },
   "outputs": [],
   "source": []
  },
  {
   "cell_type": "code",
   "execution_count": 121,
   "metadata": {
    "collapsed": true
   },
   "outputs": [],
   "source": [
    "def predicted_features_models(X_train, y_train, X_valid):\n",
    "\n",
    "    tlevel2= []; vlevel2= []\n",
    "    \n",
    "    print('BR')\n",
    "    model= BayesianRidge()\n",
    "    model.fit(X_train, y_train)\n",
    "    t_p= model.predict(X_train)\n",
    "    tlevel2.append(t_p)\n",
    "    v_p= model.predict(X_valid)\n",
    "    vlevel2.append(v_p)\n",
    "\n",
    "    print('SVR')\n",
    "    model= SVR(kernel= 'liniar', gamma='scale', C=1.0, epsilon=0.2, max_iter= 1000)\n",
    "    model.fit(X_train, y_train)\n",
    "    t_p= model.predict(X_train)\n",
    "    tlevel2.append(t_p)\n",
    "    v_p= model.predict(X_valid)\n",
    "    vlevel2.append(v_p)\n",
    "\n",
    "    print('KNN')\n",
    "    KNNmodel= KNeighborsRegressor(n_neighbors=3, n_jobs=12)\n",
    "    model.fit(X_train, y_train)\n",
    "    t_p= model.predict(X_train)\n",
    "    tlevel2.append(t_p)\n",
    "    v_p= model.predict(X_valid)\n",
    "    vlevel2.append(v_p)\n",
    "    \n",
    "    print('LGB')\n",
    "    lgb_params = {'feature_fraction': 0.7,'metric': 'rmse', 'nthread':12, 'min_data_in_leaf': 2**11, \n",
    "                  'bagging_fraction': 0.7, 'learning_rate': 0.05, 'objective': 'rmse',\n",
    "                  'bagging_seed': 2**7, 'num_leaves': 2**11,'bagging_freq':1,'verbose':0}\n",
    "    \n",
    "    model = lgb.train(lgb_params, lgb.Dataset(X_train, label=y_train), 300)\n",
    "    t_p= model.predict(X_train)\n",
    "    tlevel2.append(t_p)\n",
    "    v_p= model.predict(X_valid)\n",
    "    vlevel2.append(v_p)\n",
    "\n",
    "    return vlevel2, tlevel2"
   ]
  },
  {
   "cell_type": "code",
   "execution_count": null,
   "metadata": {
    "collapsed": true
   },
   "outputs": [],
   "source": []
  },
  {
   "cell_type": "code",
   "execution_count": 122,
   "metadata": {
    "collapsed": true
   },
   "outputs": [],
   "source": [
    "def rolling_prediction(k, last_bulk, XX, yy, df_test, n):\n",
    "    predicted_train= pd.DataFrame() \n",
    "    for m in range(k, last_bulk + 1):\n",
    "                print(m)\n",
    "                chunk= np.arange(XX['date_bulk'].min(), m + 1)\n",
    "                X_train= XX[XX['date_bulk'].isin(chunk)]\n",
    "                y_train= yy[yy['date_bulk'].isin(chunk)]\n",
    "\n",
    "                if m < last_bulk:\n",
    "                    X_valid= XX[XX['date_bulk']== m + 1]\n",
    "\n",
    "                    if n== 0:\n",
    "                        vlevel1, _= input_features_models(X_train.drop('date_bulk', axis=1), y_train.drop('date_bulk', axis=1), X_valid.drop('date_bulk', axis=1))\n",
    "                        df= pd.DataFrame(data= np.array(vlevel1).T, columns= np.arange(1, len(vlevel1) + 1))\n",
    "                    else:\n",
    "                        vlevel2, _= predicted_features_models(X_train.drop('date_bulk', axis=1), y_train.drop('date_bulk', axis=1), X_valid.drop('date_bulk', axis=1))\n",
    "                        df= pd.DataFrame(data= np.array(vlevel2).T, columns= np.arange(1, len(vlevel2) + 1))\n",
    "\n",
    "\n",
    "                    df['date_bulk']= m + 1\n",
    "\n",
    "                    predicted_train= pd.concat([predicted_train, df], axis=0)\n",
    "                else:\n",
    "                    X_valid= df_test\n",
    "\n",
    "                    vlevel2, tlevel2= level2_models(X_train.drop('date_bulk', axis=1), y_train.drop('date_bulk', axis=1), X_valid)\n",
    "                    vlevel2= np.array(vlevel2).T\n",
    "                    tlevel2= np.array(tlevel2).T\n",
    "                    predicted_test= pd.DataFrame(data= vlevel2, columns= np.arange(1, vlevel2.shape[1] + 1))\n",
    "    return predicted_train, predicted_test#, tlevel2, vlevel2"
   ]
  },
  {
   "cell_type": "code",
   "execution_count": null,
   "metadata": {
    "collapsed": true
   },
   "outputs": [],
   "source": []
  },
  {
   "cell_type": "code",
   "execution_count": 130,
   "metadata": {
    "scrolled": true
   },
   "outputs": [
    {
     "data": {
      "text/plain": [
       "Index(['item_id', 'shop_id', 'city_code', 'item_category_id', 'type_code',\n",
       "       'subtype_code', 'month', 'year', 'first_shop_item',\n",
       "       'delta_first_shop_item', 'last_shop_item', 'delta_last_shop_item',\n",
       "       'first_shop', 'delta_first_shop', 'last_shop', 'delta_last_shop',\n",
       "       'first_item', 'delta_first_item', 'last_item', 'delta_last_item',\n",
       "       'item_price_previous_1', 'item_price_previous_2',\n",
       "       'item_price_previous_3', 'item_price_previous_4',\n",
       "       'item_price_previous_6', 'item_price_previous_9',\n",
       "       'item_price_previous_12', 'item_price_trend_2', 'item_price_trend_3',\n",
       "       'item_price_trend_4', 'item_price_trend_6', 'item_price_trend_9',\n",
       "       'item_price_trend_12', 'days', 'w_days', 'h_days', 'shop_id_mean_skf',\n",
       "       'item_id_mean_skf', 'item_category_id_mean_skf', 'type_code_mean_skf',\n",
       "       'subtype_code_mean_skf', 'city_code_mean_skf', 'target_shop_item_mean',\n",
       "       'target_shop_city_mean', 'target_shop_cat_mean',\n",
       "       'target_shop_type_mean', 'target_shop_subtype_mean',\n",
       "       'target_previous_1', 'target_previous_2', 'target_previous_3',\n",
       "       'target_previous_4', 'target_previous_5', 'target_previous_6',\n",
       "       'target_previous_9', 'target_previous_12', 'target_trend_2',\n",
       "       'target_trend_3', 'target_trend_4', 'target_trend_5', 'target_trend_6',\n",
       "       'target_trend_9', 'target_trend_12', 'target_trend_2_previous_11',\n",
       "       'target_trend_2_previous_12', 'target_trend_2_previous_13', 'tar11',\n",
       "       'tar12', 'tar13', 'tar111', 'tar112', 'tar113', 'RF1', 'RF2', 'RF3',\n",
       "       'date_bulk'],\n",
       "      dtype='object')"
      ]
     },
     "execution_count": 130,
     "metadata": {},
     "output_type": "execute_result"
    }
   ],
   "source": [
    "XS['date_bulk']= dbn.values.squeeze()\n",
    "yy= y.copy()\n",
    "yy.columns= ['target', 'date_bulk']\n",
    "#yy['date_bulk']= dbn.values.squeeze()\n",
    "last_bulk= XS['date_bulk'].max()\n",
    "XS.columns"
   ]
  },
  {
   "cell_type": "code",
   "execution_count": null,
   "metadata": {
    "collapsed": true
   },
   "outputs": [],
   "source": []
  },
  {
   "cell_type": "markdown",
   "metadata": {},
   "source": [
    "## Inputs Level"
   ]
  },
  {
   "cell_type": "code",
   "execution_count": null,
   "metadata": {
    "scrolled": true
   },
   "outputs": [],
   "source": [
    "k= 30\n",
    "predicted_train= []\n",
    "predicted_test= []\n",
    "for cols in [cols1, cols2, cols3, XS.columns]:\n",
    "    predict_train, predict_test= rolling_prediction(k, last_bulk, XS[cols + ['date_bulk']], yy, test_dataS[cols], n=0)\n",
    "    predicted_train.append(predict_train) \n",
    "    predicted_test.append(predict_test)\n",
    "    \n",
    "predicted_train= np.hstack(predicted_train)\n",
    "predicted_test= np.hstack(predicted_test)"
   ]
  },
  {
   "cell_type": "code",
   "execution_count": null,
   "metadata": {
    "collapsed": true
   },
   "outputs": [],
   "source": []
  },
  {
   "cell_type": "code",
   "execution_count": null,
   "metadata": {
    "collapsed": true
   },
   "outputs": [],
   "source": []
  },
  {
   "cell_type": "code",
   "execution_count": null,
   "metadata": {
    "collapsed": true
   },
   "outputs": [],
   "source": []
  },
  {
   "cell_type": "markdown",
   "metadata": {},
   "source": [
    "## Mid-Levels"
   ]
  },
  {
   "cell_type": "code",
   "execution_count": null,
   "metadata": {
    "collapsed": true
   },
   "outputs": [],
   "source": [
    "k= last_bulk-1\n",
    "\n",
    "predicted_train, predicted_test= rolling_prediction(k, last_bulk, predicted_train, yy, predicted_test, n=1)"
   ]
  },
  {
   "cell_type": "markdown",
   "metadata": {},
   "source": [
    "## Final level"
   ]
  },
  {
   "cell_type": "code",
   "execution_count": null,
   "metadata": {
    "collapsed": true
   },
   "outputs": [],
   "source": [
    "k= last_bulk\n",
    "\n",
    "predicted_train, predicted_test= rolling_prediction(k, last_bulk, predicted_train, yy, predicted_test, n=2)"
   ]
  },
  {
   "cell_type": "code",
   "execution_count": null,
   "metadata": {
    "collapsed": true
   },
   "outputs": [],
   "source": []
  },
  {
   "cell_type": "code",
   "execution_count": null,
   "metadata": {
    "collapsed": true
   },
   "outputs": [],
   "source": [
    "BRmodel1= BayesianRidge()\n",
    "BRmodel1.fit(tlevel2, y_train.drop('date_bulk', axis=1))\n",
    "pr1= BRmodel1.predict(tlevel2).clip(0,20)\n",
    "pr2= BRmodel1.predict(vlevel2).clip(0,20)\n",
    "            \n",
    "print('dbn 34 before final level (mean) rmse: ', np.sqrt(mean_squared_error(y['target'][yy['date_bulk']==34], df.drop('date_bulk', axis=1).mean(axis=1).clip(0,20))));\n",
    "print('dbn 34 before final level rmse: ', np.sqrt(mean_squared_error(y['target'][yy['date_bulk']==34], df[4].clip(0,20))));\n",
    "\n",
    "print('all modeling data rmse: ', np.sqrt(mean_squared_error(y['target'].iloc[-len(pr1):], pr1)));\n",
    "print('dbn 34 rmse: ', np.sqrt(mean_squared_error(y['target'][yy['date_bulk']==34], pr1[-len(y['target'][yy['date_bulk']==34]):])));"
   ]
  },
  {
   "cell_type": "markdown",
   "metadata": {},
   "source": [
    "# Pridiction"
   ]
  },
  {
   "cell_type": "code",
   "execution_count": 173,
   "metadata": {
    "scrolled": false
   },
   "outputs": [
    {
     "name": "stderr",
     "output_type": "stream",
     "text": [
      "c:\\users\\eitanp\\appdata\\local\\programs\\python\\python37\\lib\\site-packages\\ipykernel_launcher.py:3: SettingWithCopyWarning: \n",
      "A value is trying to be set on a copy of a slice from a DataFrame.\n",
      "Try using .loc[row_indexer,col_indexer] = value instead\n",
      "\n",
      "See the caveats in the documentation: http://pandas.pydata.org/pandas-docs/stable/indexing.html#indexing-view-versus-copy\n",
      "  This is separate from the ipykernel package so we can avoid doing imports until\n",
      "c:\\users\\eitanp\\appdata\\local\\programs\\python\\python37\\lib\\site-packages\\ipykernel_launcher.py:7: SettingWithCopyWarning: \n",
      "A value is trying to be set on a copy of a slice from a DataFrame.\n",
      "Try using .loc[row_indexer,col_indexer] = value instead\n",
      "\n",
      "See the caveats in the documentation: http://pandas.pydata.org/pandas-docs/stable/indexing.html#indexing-view-versus-copy\n",
      "  import sys\n",
      "c:\\users\\eitanp\\appdata\\local\\programs\\python\\python37\\lib\\site-packages\\ipykernel_launcher.py:8: SettingWithCopyWarning: \n",
      "A value is trying to be set on a copy of a slice from a DataFrame.\n",
      "Try using .loc[row_indexer,col_indexer] = value instead\n",
      "\n",
      "See the caveats in the documentation: http://pandas.pydata.org/pandas-docs/stable/indexing.html#indexing-view-versus-copy\n",
      "  \n"
     ]
    },
    {
     "data": {
      "text/html": [
       "<div>\n",
       "<style scoped>\n",
       "    .dataframe tbody tr th:only-of-type {\n",
       "        vertical-align: middle;\n",
       "    }\n",
       "\n",
       "    .dataframe tbody tr th {\n",
       "        vertical-align: top;\n",
       "    }\n",
       "\n",
       "    .dataframe thead th {\n",
       "        text-align: right;\n",
       "    }\n",
       "</style>\n",
       "<table border=\"1\" class=\"dataframe\">\n",
       "  <thead>\n",
       "    <tr style=\"text-align: right;\">\n",
       "      <th></th>\n",
       "      <th>ID</th>\n",
       "      <th>item_cnt_month</th>\n",
       "    </tr>\n",
       "  </thead>\n",
       "  <tbody>\n",
       "    <tr>\n",
       "      <th>2781025</th>\n",
       "      <td>0</td>\n",
       "      <td>0.909075</td>\n",
       "    </tr>\n",
       "    <tr>\n",
       "      <th>2781026</th>\n",
       "      <td>1</td>\n",
       "      <td>0.598054</td>\n",
       "    </tr>\n",
       "    <tr>\n",
       "      <th>2781027</th>\n",
       "      <td>2</td>\n",
       "      <td>1.790960</td>\n",
       "    </tr>\n",
       "    <tr>\n",
       "      <th>2781028</th>\n",
       "      <td>3</td>\n",
       "      <td>0.446586</td>\n",
       "    </tr>\n",
       "    <tr>\n",
       "      <th>2781029</th>\n",
       "      <td>4</td>\n",
       "      <td>6.004537</td>\n",
       "    </tr>\n",
       "    <tr>\n",
       "      <th>2781030</th>\n",
       "      <td>5</td>\n",
       "      <td>0.851972</td>\n",
       "    </tr>\n",
       "    <tr>\n",
       "      <th>2781031</th>\n",
       "      <td>6</td>\n",
       "      <td>1.261256</td>\n",
       "    </tr>\n",
       "    <tr>\n",
       "      <th>2781032</th>\n",
       "      <td>7</td>\n",
       "      <td>0.226491</td>\n",
       "    </tr>\n",
       "    <tr>\n",
       "      <th>2781033</th>\n",
       "      <td>8</td>\n",
       "      <td>1.015073</td>\n",
       "    </tr>\n",
       "    <tr>\n",
       "      <th>2781034</th>\n",
       "      <td>9</td>\n",
       "      <td>0.585622</td>\n",
       "    </tr>\n",
       "  </tbody>\n",
       "</table>\n",
       "</div>"
      ],
      "text/plain": [
       "         ID  item_cnt_month\n",
       "2781025   0        0.909075\n",
       "2781026   1        0.598054\n",
       "2781027   2        1.790960\n",
       "2781028   3        0.446586\n",
       "2781029   4        6.004537\n",
       "2781030   5        0.851972\n",
       "2781031   6        1.261256\n",
       "2781032   7        0.226491\n",
       "2781033   8        1.015073\n",
       "2781034   9        0.585622"
      ]
     },
     "execution_count": 173,
     "metadata": {},
     "output_type": "execute_result"
    }
   ],
   "source": [
    "test_data['ID']= ID.values\n",
    "ID= test_data[['ID']];\n",
    "ID['ID']= ID['ID'].astype(int) \n",
    "\n",
    "#ID['item_cnt_month']= predicted_test.mean(axis=1).values;\n",
    "#ID['item_cnt_month']= predicted_test[2].values; #!!!!!\n",
    "ID['item_cnt_month']= pr2\n",
    "ID['item_cnt_month']= ID['item_cnt_month'].clip(0,20)\n",
    "ID.head(10)"
   ]
  },
  {
   "cell_type": "code",
   "execution_count": null,
   "metadata": {
    "collapsed": true
   },
   "outputs": [],
   "source": []
  },
  {
   "cell_type": "code",
   "execution_count": null,
   "metadata": {
    "collapsed": true
   },
   "outputs": [],
   "source": []
  },
  {
   "cell_type": "code",
   "execution_count": 174,
   "metadata": {
    "collapsed": true
   },
   "outputs": [],
   "source": [
    "ID.to_csv('SUBMISSION03MAY_1.csv', index=False)"
   ]
  }
 ],
 "metadata": {
  "kernelspec": {
   "display_name": "Python 3",
   "language": "python",
   "name": "python3"
  },
  "language_info": {
   "codemirror_mode": {
    "name": "ipython",
    "version": 3
   },
   "file_extension": ".py",
   "mimetype": "text/x-python",
   "name": "python",
   "nbconvert_exporter": "python",
   "pygments_lexer": "ipython3",
   "version": "3.7.2"
  }
 },
 "nbformat": 4,
 "nbformat_minor": 2
}
