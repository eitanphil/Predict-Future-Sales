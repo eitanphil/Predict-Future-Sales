{
 "cells": [
  {
   "cell_type": "markdown",
   "metadata": {},
   "source": [
    "### Training method: Neural Network, XGBoost, LGBoosting, Liniar Regression\n",
    "### The most important features are: \n",
    "\n",
    "### How long it takes to train your model"
   ]
  },
  {
   "cell_type": "code",
   "execution_count": 1,
   "metadata": {},
   "outputs": [
    {
     "name": "stdout",
     "output_type": "stream",
     "text": [
      "\n",
      "The following command must be run outside of the IPython shell:\n",
      "\n",
      "    $ pip freeze\n",
      "\n",
      "The Python package manager (pip) can only be used from outside of IPython.\n",
      "Please reissue the `pip` command in a separate terminal or command prompt.\n",
      "\n",
      "See the Python documentation for more information on how to install packages:\n",
      "\n",
      "    https://docs.python.org/3/installing/\n"
     ]
    }
   ],
   "source": [
    "pip freeze"
   ]
  },
  {
   "cell_type": "code",
   "execution_count": 1,
   "metadata": {},
   "outputs": [
    {
     "name": "stderr",
     "output_type": "stream",
     "text": [
      "/usr/local/lib/python3.6/site-packages/lightgbm/__init__.py:46: UserWarning: Starting from version 2.2.1, the library file in distribution wheels for macOS is built by the Apple Clang (Xcode_8.3.3) compiler.\n",
      "This means that in case of installing LightGBM from PyPI via the ``pip install lightgbm`` command, you don't need to install the gcc compiler anymore.\n",
      "Instead of that, you need to install the OpenMP library, which is required for running LightGBM on the system with the Apple Clang compiler.\n",
      "You can install the OpenMP library by the following command: ``brew install libomp``.\n",
      "  \"You can install the OpenMP library by the following command: ``brew install libomp``.\", UserWarning)\n",
      "/usr/local/lib/python3.6/site-packages/h5py/__init__.py:36: FutureWarning: Conversion of the second argument of issubdtype from `float` to `np.floating` is deprecated. In future, it will be treated as `np.float64 == np.dtype(float).type`.\n",
      "  from ._conv import register_converters as _register_converters\n",
      "Using TensorFlow backend.\n"
     ]
    }
   ],
   "source": [
    "import pandas as pd\n",
    "import numpy as np\n",
    "import matplotlib.pyplot as plt\n",
    "%matplotlib inline\n",
    "import seaborn as sns\n",
    "import datetime\n",
    "from workalendar.europe import Russia\n",
    "from sklearn.preprocessing import LabelEncoder\n",
    "from sklearn.model_selection import StratifiedKFold\n",
    "from sklearn.metrics import mean_squared_error\n",
    "import gc\n",
    "from itertools import product\n",
    "from datetime import date\n",
    "import time\n",
    "\n",
    "from sklearn.preprocessing import StandardScaler\n",
    "from sklearn.preprocessing import MinMaxScaler\n",
    "\n",
    "from sklearn.linear_model import LinearRegression, BayesianRidge, Ridge, Lasso\n",
    "from sklearn.neighbors import KNeighborsRegressor\n",
    "\n",
    "from sklearn.ensemble import RandomForestRegressor\n",
    "from sklearn.ensemble import RandomForestClassifier\n",
    "import lightgbm as lgb\n",
    "from xgboost import XGBRegressor\n",
    "from xgboost import plot_importance\n",
    "\n",
    "from keras.layers import Input, Dense, Dropout\n",
    "from keras.models import Model\n",
    "from keras import optimizers\n",
    "from keras.models import load_model"
   ]
  },
  {
   "cell_type": "code",
   "execution_count": null,
   "metadata": {
    "collapsed": true
   },
   "outputs": [],
   "source": []
  },
  {
   "cell_type": "code",
   "execution_count": null,
   "metadata": {
    "collapsed": true
   },
   "outputs": [],
   "source": []
  },
  {
   "cell_type": "code",
   "execution_count": null,
   "metadata": {
    "collapsed": true
   },
   "outputs": [],
   "source": []
  },
  {
   "cell_type": "code",
   "execution_count": null,
   "metadata": {
    "collapsed": true
   },
   "outputs": [],
   "source": []
  },
  {
   "cell_type": "code",
   "execution_count": null,
   "metadata": {
    "collapsed": true
   },
   "outputs": [],
   "source": []
  },
  {
   "cell_type": "code",
   "execution_count": null,
   "metadata": {
    "collapsed": true
   },
   "outputs": [],
   "source": []
  },
  {
   "cell_type": "code",
   "execution_count": 2,
   "metadata": {
    "collapsed": true
   },
   "outputs": [],
   "source": [
    "def downcast_dtypes(df):\n",
    "    '''\n",
    "        Changes column types in the dataframe: \n",
    "                \n",
    "                `float64` type to `float32`\n",
    "                `int64`   type to `int32`\n",
    "    '''\n",
    "    \n",
    "    # Select columns to downcast\n",
    "    float_cols = [c for c in df if df[c].dtype == \"float64\"]\n",
    "    int_cols =   [c for c in df if df[c].dtype == \"int64\"]\n",
    "    \n",
    "    # Downcast\n",
    "    df[float_cols] = df[float_cols].astype(np.float32)\n",
    "    df[int_cols]   = df[int_cols].astype(np.int32)\n",
    "    \n",
    "    return df\n",
    "\n",
    "def mean_enc(all_data, group_cols, target_col, name, fill_c):\n",
    "    gb = all_data[group_cols + [target_col]].groupby(group_cols,as_index=False).agg({target_col:{name + '_mean':'mean'}})\n",
    "    #gb.reset_index(inplace=True)\n",
    "    gb.columns = [col[0] if col[-1] == '' else col[-1] for col in gb.columns.values]\n",
    "    all_data = pd.merge(all_data, gb, how='left', on=group_cols).fillna(fill_c)\n",
    "    return all_data\n",
    "  \n",
    "def mean_KFenc(data, enc_col, target_col, fill_c, n_splits):\n",
    "    data= data.copy()\n",
    "    y= data[target_col]; X= data[enc_col]\n",
    "    new_col= enc_col + '_mean_skf'\n",
    "    data[new_col]= fill_c\n",
    "    skf = StratifiedKFold(n_splits=n_splits, shuffle= False, random_state=0)\n",
    "    for train_index, test_index in skf.split(X, y):\n",
    "        enc= data.loc[train_index].groupby(enc_col)[target_col].mean()\n",
    "        #enc.reset_index(inplace=True)\n",
    "        data[new_col].loc[test_index]= data[enc_col].loc[test_index].map(enc)    \n",
    "    data[new_col].fillna(fill_c, inplace=True)\n",
    "    return data\n",
    "\n",
    "def feature_lags(all_data, time_col, inx_cols, name, lags, fill_c):  \n",
    "    for lag in lags:\n",
    "        d= all_data[inx_cols + [name]].copy().drop_duplicates(subset=inx_cols)\n",
    "        d[time_col] += lag\n",
    "        d= d.rename(columns= {name: name + '_previous_' + str(lag)})\n",
    "        all_data = pd.merge(all_data, d, how='left', on=inx_cols).fillna(fill_c)\n",
    "    del d\n",
    "    return all_data\n",
    "\n",
    "def first_last(all_data, p_cols, reference, name, fl):\n",
    "    gb= all_data[p_cols + [reference]].groupby(p_cols, as_index=False)\n",
    "    #gb.reset_index(inplace=True)\n",
    "    if fl== 'first': \n",
    "        a=gb.first()\n",
    "    if fl== 'last':\n",
    "        a=gb.last()\n",
    "    a= a.rename(columns={reference:fl + '_' + name})\n",
    "    all_data = pd.merge(all_data, a, how='left', on=p_cols)\n",
    "    if fl== 'first': \n",
    "        all_data['delta_' + fl + '_' + name]= (all_data[reference] - all_data[fl + '_' + name]).fillna(0)\n",
    "    if fl== 'last': \n",
    "        all_data['delta_' + fl + '_' + name]= (all_data[reference] - all_data[fl + '_' + name]).fillna(33)\n",
    "    return all_data\n",
    "\n",
    "fill_c= 0"
   ]
  },
  {
   "cell_type": "code",
   "execution_count": null,
   "metadata": {
    "collapsed": true
   },
   "outputs": [],
   "source": []
  },
  {
   "cell_type": "code",
   "execution_count": null,
   "metadata": {
    "collapsed": true
   },
   "outputs": [],
   "source": []
  },
  {
   "cell_type": "code",
   "execution_count": null,
   "metadata": {
    "collapsed": true
   },
   "outputs": [],
   "source": []
  },
  {
   "cell_type": "code",
   "execution_count": null,
   "metadata": {
    "collapsed": true
   },
   "outputs": [],
   "source": []
  },
  {
   "cell_type": "code",
   "execution_count": null,
   "metadata": {
    "collapsed": true
   },
   "outputs": [],
   "source": []
  },
  {
   "cell_type": "code",
   "execution_count": null,
   "metadata": {
    "collapsed": true
   },
   "outputs": [],
   "source": []
  },
  {
   "cell_type": "code",
   "execution_count": 3,
   "metadata": {
    "collapsed": true
   },
   "outputs": [],
   "source": [
    "#read_data\n",
    "path= 'Data/'\n",
    "t          = pd.read_csv(path + 'sales_train.csv.gz')\n",
    "test            = pd.read_csv(path + 'test.csv')\n",
    "items           = pd.read_csv(path + 'items.csv')\n",
    "item_cats = pd.read_csv(path + 'item_categories.csv')\n",
    "shops           = pd.read_csv(path + 'shops.csv')\n",
    "\n",
    "t['date']= pd.to_datetime(t['date'], format= '%d.%m.%Y')\n",
    "t= t.sort_values('date')"
   ]
  },
  {
   "cell_type": "code",
   "execution_count": null,
   "metadata": {
    "collapsed": true
   },
   "outputs": [],
   "source": []
  },
  {
   "cell_type": "code",
   "execution_count": null,
   "metadata": {
    "collapsed": true
   },
   "outputs": [],
   "source": []
  },
  {
   "cell_type": "code",
   "execution_count": null,
   "metadata": {
    "collapsed": true
   },
   "outputs": [],
   "source": []
  },
  {
   "cell_type": "code",
   "execution_count": null,
   "metadata": {
    "collapsed": true
   },
   "outputs": [],
   "source": []
  },
  {
   "cell_type": "markdown",
   "metadata": {},
   "source": [
    "# EDA"
   ]
  },
  {
   "cell_type": "markdown",
   "metadata": {},
   "source": [
    "## Sales"
   ]
  },
  {
   "cell_type": "code",
   "execution_count": 5,
   "metadata": {
    "scrolled": true
   },
   "outputs": [
    {
     "data": {
      "text/plain": [
       "363"
      ]
     },
     "execution_count": 5,
     "metadata": {},
     "output_type": "execute_result"
    }
   ],
   "source": [
    "# Checking whether there ares new items in test data.\n",
    "col= 'item_id'\n",
    "new_items=len(list(set(test[col]) - set(test[col]).intersection(set(t[col]))))\n",
    "new_items"
   ]
  },
  {
   "cell_type": "code",
   "execution_count": 6,
   "metadata": {
    "collapsed": true
   },
   "outputs": [],
   "source": [
    "#plt.scatter(t['item_id'], t['item_price'], s=0.5); plt.show()"
   ]
  },
  {
   "cell_type": "code",
   "execution_count": 7,
   "metadata": {
    "collapsed": true
   },
   "outputs": [],
   "source": [
    "#plt.scatter(t['item_id'], t['item_cnt_day'], s=0.5); plt.show()"
   ]
  },
  {
   "cell_type": "code",
   "execution_count": 143,
   "metadata": {
    "collapsed": true
   },
   "outputs": [],
   "source": []
  },
  {
   "cell_type": "markdown",
   "metadata": {},
   "source": [
    "## Shops\n",
    "#### There seems to be a duplications of shops 0 with 57, 1 with 58 & 10 with 11."
   ]
  },
  {
   "cell_type": "code",
   "execution_count": 8,
   "metadata": {},
   "outputs": [
    {
     "data": {
      "text/plain": [
       "[]"
      ]
     },
     "execution_count": 8,
     "metadata": {},
     "output_type": "execute_result"
    }
   ],
   "source": [
    "# Checking wether there are new shops in test data.\n",
    "col= 'shop_id'\n",
    "new_shops=list(set(test[col]) - set(test[col]).intersection(set(shops[col])))\n",
    "new_shops"
   ]
  },
  {
   "cell_type": "code",
   "execution_count": 9,
   "metadata": {
    "scrolled": true
   },
   "outputs": [
    {
     "data": {
      "text/html": [
       "<div>\n",
       "<style scoped>\n",
       "    .dataframe tbody tr th:only-of-type {\n",
       "        vertical-align: middle;\n",
       "    }\n",
       "\n",
       "    .dataframe tbody tr th {\n",
       "        vertical-align: top;\n",
       "    }\n",
       "\n",
       "    .dataframe thead th {\n",
       "        text-align: right;\n",
       "    }\n",
       "</style>\n",
       "<table border=\"1\" class=\"dataframe\">\n",
       "  <thead>\n",
       "    <tr style=\"text-align: right;\">\n",
       "      <th></th>\n",
       "      <th>shop_name</th>\n",
       "      <th>shop_id</th>\n",
       "    </tr>\n",
       "  </thead>\n",
       "  <tbody>\n",
       "    <tr>\n",
       "      <th>0</th>\n",
       "      <td>!Якутск Орджоникидзе, 56 фран</td>\n",
       "      <td>0</td>\n",
       "    </tr>\n",
       "    <tr>\n",
       "      <th>1</th>\n",
       "      <td>!Якутск ТЦ \"Центральный\" фран</td>\n",
       "      <td>1</td>\n",
       "    </tr>\n",
       "    <tr>\n",
       "      <th>2</th>\n",
       "      <td>Адыгея ТЦ \"Мега\"</td>\n",
       "      <td>2</td>\n",
       "    </tr>\n",
       "    <tr>\n",
       "      <th>3</th>\n",
       "      <td>Балашиха ТРК \"Октябрь-Киномир\"</td>\n",
       "      <td>3</td>\n",
       "    </tr>\n",
       "    <tr>\n",
       "      <th>4</th>\n",
       "      <td>Волжский ТЦ \"Волга Молл\"</td>\n",
       "      <td>4</td>\n",
       "    </tr>\n",
       "    <tr>\n",
       "      <th>5</th>\n",
       "      <td>Вологда ТРЦ \"Мармелад\"</td>\n",
       "      <td>5</td>\n",
       "    </tr>\n",
       "    <tr>\n",
       "      <th>6</th>\n",
       "      <td>Воронеж (Плехановская, 13)</td>\n",
       "      <td>6</td>\n",
       "    </tr>\n",
       "    <tr>\n",
       "      <th>7</th>\n",
       "      <td>Воронеж ТРЦ \"Максимир\"</td>\n",
       "      <td>7</td>\n",
       "    </tr>\n",
       "    <tr>\n",
       "      <th>8</th>\n",
       "      <td>Воронеж ТРЦ Сити-Парк \"Град\"</td>\n",
       "      <td>8</td>\n",
       "    </tr>\n",
       "    <tr>\n",
       "      <th>9</th>\n",
       "      <td>Выездная Торговля</td>\n",
       "      <td>9</td>\n",
       "    </tr>\n",
       "    <tr>\n",
       "      <th>10</th>\n",
       "      <td>Жуковский ул. Чкалова 39м?</td>\n",
       "      <td>10</td>\n",
       "    </tr>\n",
       "    <tr>\n",
       "      <th>11</th>\n",
       "      <td>Жуковский ул. Чкалова 39м²</td>\n",
       "      <td>11</td>\n",
       "    </tr>\n",
       "    <tr>\n",
       "      <th>12</th>\n",
       "      <td>Интернет-магазин ЧС</td>\n",
       "      <td>12</td>\n",
       "    </tr>\n",
       "    <tr>\n",
       "      <th>13</th>\n",
       "      <td>Казань ТЦ \"Бехетле\"</td>\n",
       "      <td>13</td>\n",
       "    </tr>\n",
       "    <tr>\n",
       "      <th>14</th>\n",
       "      <td>Казань ТЦ \"ПаркХаус\" II</td>\n",
       "      <td>14</td>\n",
       "    </tr>\n",
       "    <tr>\n",
       "      <th>15</th>\n",
       "      <td>Калуга ТРЦ \"XXI век\"</td>\n",
       "      <td>15</td>\n",
       "    </tr>\n",
       "    <tr>\n",
       "      <th>16</th>\n",
       "      <td>Коломна ТЦ \"Рио\"</td>\n",
       "      <td>16</td>\n",
       "    </tr>\n",
       "    <tr>\n",
       "      <th>17</th>\n",
       "      <td>Красноярск ТЦ \"Взлетка Плаза\"</td>\n",
       "      <td>17</td>\n",
       "    </tr>\n",
       "    <tr>\n",
       "      <th>18</th>\n",
       "      <td>Красноярск ТЦ \"Июнь\"</td>\n",
       "      <td>18</td>\n",
       "    </tr>\n",
       "    <tr>\n",
       "      <th>19</th>\n",
       "      <td>Курск ТЦ \"Пушкинский\"</td>\n",
       "      <td>19</td>\n",
       "    </tr>\n",
       "    <tr>\n",
       "      <th>20</th>\n",
       "      <td>Москва \"Распродажа\"</td>\n",
       "      <td>20</td>\n",
       "    </tr>\n",
       "    <tr>\n",
       "      <th>21</th>\n",
       "      <td>Москва МТРЦ \"Афи Молл\"</td>\n",
       "      <td>21</td>\n",
       "    </tr>\n",
       "    <tr>\n",
       "      <th>22</th>\n",
       "      <td>Москва Магазин С21</td>\n",
       "      <td>22</td>\n",
       "    </tr>\n",
       "    <tr>\n",
       "      <th>23</th>\n",
       "      <td>Москва ТК \"Буденовский\" (пав.А2)</td>\n",
       "      <td>23</td>\n",
       "    </tr>\n",
       "    <tr>\n",
       "      <th>24</th>\n",
       "      <td>Москва ТК \"Буденовский\" (пав.К7)</td>\n",
       "      <td>24</td>\n",
       "    </tr>\n",
       "    <tr>\n",
       "      <th>25</th>\n",
       "      <td>Москва ТРК \"Атриум\"</td>\n",
       "      <td>25</td>\n",
       "    </tr>\n",
       "    <tr>\n",
       "      <th>26</th>\n",
       "      <td>Москва ТЦ \"Ареал\" (Беляево)</td>\n",
       "      <td>26</td>\n",
       "    </tr>\n",
       "    <tr>\n",
       "      <th>27</th>\n",
       "      <td>Москва ТЦ \"МЕГА Белая Дача II\"</td>\n",
       "      <td>27</td>\n",
       "    </tr>\n",
       "    <tr>\n",
       "      <th>28</th>\n",
       "      <td>Москва ТЦ \"МЕГА Теплый Стан\" II</td>\n",
       "      <td>28</td>\n",
       "    </tr>\n",
       "    <tr>\n",
       "      <th>29</th>\n",
       "      <td>Москва ТЦ \"Новый век\" (Новокосино)</td>\n",
       "      <td>29</td>\n",
       "    </tr>\n",
       "    <tr>\n",
       "      <th>30</th>\n",
       "      <td>Москва ТЦ \"Перловский\"</td>\n",
       "      <td>30</td>\n",
       "    </tr>\n",
       "    <tr>\n",
       "      <th>31</th>\n",
       "      <td>Москва ТЦ \"Семеновский\"</td>\n",
       "      <td>31</td>\n",
       "    </tr>\n",
       "    <tr>\n",
       "      <th>32</th>\n",
       "      <td>Москва ТЦ \"Серебряный Дом\"</td>\n",
       "      <td>32</td>\n",
       "    </tr>\n",
       "    <tr>\n",
       "      <th>33</th>\n",
       "      <td>Мытищи ТРК \"XL-3\"</td>\n",
       "      <td>33</td>\n",
       "    </tr>\n",
       "    <tr>\n",
       "      <th>34</th>\n",
       "      <td>Н.Новгород ТРЦ \"РИО\"</td>\n",
       "      <td>34</td>\n",
       "    </tr>\n",
       "    <tr>\n",
       "      <th>35</th>\n",
       "      <td>Н.Новгород ТРЦ \"Фантастика\"</td>\n",
       "      <td>35</td>\n",
       "    </tr>\n",
       "    <tr>\n",
       "      <th>36</th>\n",
       "      <td>Новосибирск ТРЦ \"Галерея Новосибирск\"</td>\n",
       "      <td>36</td>\n",
       "    </tr>\n",
       "    <tr>\n",
       "      <th>37</th>\n",
       "      <td>Новосибирск ТЦ \"Мега\"</td>\n",
       "      <td>37</td>\n",
       "    </tr>\n",
       "    <tr>\n",
       "      <th>38</th>\n",
       "      <td>Омск ТЦ \"Мега\"</td>\n",
       "      <td>38</td>\n",
       "    </tr>\n",
       "    <tr>\n",
       "      <th>39</th>\n",
       "      <td>РостовНаДону ТРК \"Мегацентр Горизонт\"</td>\n",
       "      <td>39</td>\n",
       "    </tr>\n",
       "    <tr>\n",
       "      <th>40</th>\n",
       "      <td>РостовНаДону ТРК \"Мегацентр Горизонт\" Островной</td>\n",
       "      <td>40</td>\n",
       "    </tr>\n",
       "    <tr>\n",
       "      <th>41</th>\n",
       "      <td>РостовНаДону ТЦ \"Мега\"</td>\n",
       "      <td>41</td>\n",
       "    </tr>\n",
       "    <tr>\n",
       "      <th>42</th>\n",
       "      <td>СПб ТК \"Невский Центр\"</td>\n",
       "      <td>42</td>\n",
       "    </tr>\n",
       "    <tr>\n",
       "      <th>43</th>\n",
       "      <td>СПб ТК \"Сенная\"</td>\n",
       "      <td>43</td>\n",
       "    </tr>\n",
       "    <tr>\n",
       "      <th>44</th>\n",
       "      <td>Самара ТЦ \"Мелодия\"</td>\n",
       "      <td>44</td>\n",
       "    </tr>\n",
       "    <tr>\n",
       "      <th>45</th>\n",
       "      <td>Самара ТЦ \"ПаркХаус\"</td>\n",
       "      <td>45</td>\n",
       "    </tr>\n",
       "    <tr>\n",
       "      <th>46</th>\n",
       "      <td>Сергиев Посад ТЦ \"7Я\"</td>\n",
       "      <td>46</td>\n",
       "    </tr>\n",
       "    <tr>\n",
       "      <th>47</th>\n",
       "      <td>Сургут ТРЦ \"Сити Молл\"</td>\n",
       "      <td>47</td>\n",
       "    </tr>\n",
       "    <tr>\n",
       "      <th>48</th>\n",
       "      <td>Томск ТРЦ \"Изумрудный Город\"</td>\n",
       "      <td>48</td>\n",
       "    </tr>\n",
       "    <tr>\n",
       "      <th>49</th>\n",
       "      <td>Тюмень ТРЦ \"Кристалл\"</td>\n",
       "      <td>49</td>\n",
       "    </tr>\n",
       "    <tr>\n",
       "      <th>50</th>\n",
       "      <td>Тюмень ТЦ \"Гудвин\"</td>\n",
       "      <td>50</td>\n",
       "    </tr>\n",
       "    <tr>\n",
       "      <th>51</th>\n",
       "      <td>Тюмень ТЦ \"Зеленый Берег\"</td>\n",
       "      <td>51</td>\n",
       "    </tr>\n",
       "    <tr>\n",
       "      <th>52</th>\n",
       "      <td>Уфа ТК \"Центральный\"</td>\n",
       "      <td>52</td>\n",
       "    </tr>\n",
       "    <tr>\n",
       "      <th>53</th>\n",
       "      <td>Уфа ТЦ \"Семья\" 2</td>\n",
       "      <td>53</td>\n",
       "    </tr>\n",
       "    <tr>\n",
       "      <th>54</th>\n",
       "      <td>Химки ТЦ \"Мега\"</td>\n",
       "      <td>54</td>\n",
       "    </tr>\n",
       "    <tr>\n",
       "      <th>55</th>\n",
       "      <td>Цифровой склад 1С-Онлайн</td>\n",
       "      <td>55</td>\n",
       "    </tr>\n",
       "    <tr>\n",
       "      <th>56</th>\n",
       "      <td>Чехов ТРЦ \"Карнавал\"</td>\n",
       "      <td>56</td>\n",
       "    </tr>\n",
       "    <tr>\n",
       "      <th>57</th>\n",
       "      <td>Якутск Орджоникидзе, 56</td>\n",
       "      <td>57</td>\n",
       "    </tr>\n",
       "    <tr>\n",
       "      <th>58</th>\n",
       "      <td>Якутск ТЦ \"Центральный\"</td>\n",
       "      <td>58</td>\n",
       "    </tr>\n",
       "    <tr>\n",
       "      <th>59</th>\n",
       "      <td>Ярославль ТЦ \"Альтаир\"</td>\n",
       "      <td>59</td>\n",
       "    </tr>\n",
       "  </tbody>\n",
       "</table>\n",
       "</div>"
      ],
      "text/plain": [
       "                                          shop_name  shop_id\n",
       "0                     !Якутск Орджоникидзе, 56 фран        0\n",
       "1                     !Якутск ТЦ \"Центральный\" фран        1\n",
       "2                                  Адыгея ТЦ \"Мега\"        2\n",
       "3                    Балашиха ТРК \"Октябрь-Киномир\"        3\n",
       "4                          Волжский ТЦ \"Волга Молл\"        4\n",
       "5                            Вологда ТРЦ \"Мармелад\"        5\n",
       "6                        Воронеж (Плехановская, 13)        6\n",
       "7                            Воронеж ТРЦ \"Максимир\"        7\n",
       "8                      Воронеж ТРЦ Сити-Парк \"Град\"        8\n",
       "9                                 Выездная Торговля        9\n",
       "10                       Жуковский ул. Чкалова 39м?       10\n",
       "11                       Жуковский ул. Чкалова 39м²       11\n",
       "12                              Интернет-магазин ЧС       12\n",
       "13                              Казань ТЦ \"Бехетле\"       13\n",
       "14                          Казань ТЦ \"ПаркХаус\" II       14\n",
       "15                             Калуга ТРЦ \"XXI век\"       15\n",
       "16                                 Коломна ТЦ \"Рио\"       16\n",
       "17                    Красноярск ТЦ \"Взлетка Плаза\"       17\n",
       "18                             Красноярск ТЦ \"Июнь\"       18\n",
       "19                            Курск ТЦ \"Пушкинский\"       19\n",
       "20                              Москва \"Распродажа\"       20\n",
       "21                           Москва МТРЦ \"Афи Молл\"       21\n",
       "22                               Москва Магазин С21       22\n",
       "23                 Москва ТК \"Буденовский\" (пав.А2)       23\n",
       "24                 Москва ТК \"Буденовский\" (пав.К7)       24\n",
       "25                              Москва ТРК \"Атриум\"       25\n",
       "26                      Москва ТЦ \"Ареал\" (Беляево)       26\n",
       "27                   Москва ТЦ \"МЕГА Белая Дача II\"       27\n",
       "28                  Москва ТЦ \"МЕГА Теплый Стан\" II       28\n",
       "29               Москва ТЦ \"Новый век\" (Новокосино)       29\n",
       "30                           Москва ТЦ \"Перловский\"       30\n",
       "31                          Москва ТЦ \"Семеновский\"       31\n",
       "32                       Москва ТЦ \"Серебряный Дом\"       32\n",
       "33                                Мытищи ТРК \"XL-3\"       33\n",
       "34                             Н.Новгород ТРЦ \"РИО\"       34\n",
       "35                      Н.Новгород ТРЦ \"Фантастика\"       35\n",
       "36            Новосибирск ТРЦ \"Галерея Новосибирск\"       36\n",
       "37                            Новосибирск ТЦ \"Мега\"       37\n",
       "38                                   Омск ТЦ \"Мега\"       38\n",
       "39            РостовНаДону ТРК \"Мегацентр Горизонт\"       39\n",
       "40  РостовНаДону ТРК \"Мегацентр Горизонт\" Островной       40\n",
       "41                           РостовНаДону ТЦ \"Мега\"       41\n",
       "42                           СПб ТК \"Невский Центр\"       42\n",
       "43                                  СПб ТК \"Сенная\"       43\n",
       "44                              Самара ТЦ \"Мелодия\"       44\n",
       "45                             Самара ТЦ \"ПаркХаус\"       45\n",
       "46                            Сергиев Посад ТЦ \"7Я\"       46\n",
       "47                           Сургут ТРЦ \"Сити Молл\"       47\n",
       "48                     Томск ТРЦ \"Изумрудный Город\"       48\n",
       "49                            Тюмень ТРЦ \"Кристалл\"       49\n",
       "50                               Тюмень ТЦ \"Гудвин\"       50\n",
       "51                        Тюмень ТЦ \"Зеленый Берег\"       51\n",
       "52                             Уфа ТК \"Центральный\"       52\n",
       "53                                 Уфа ТЦ \"Семья\" 2       53\n",
       "54                                  Химки ТЦ \"Мега\"       54\n",
       "55                         Цифровой склад 1С-Онлайн       55\n",
       "56                             Чехов ТРЦ \"Карнавал\"       56\n",
       "57                          Якутск Орджоникидзе, 56       57\n",
       "58                          Якутск ТЦ \"Центральный\"       58\n",
       "59                           Ярославль ТЦ \"Альтаир\"       59"
      ]
     },
     "execution_count": 9,
     "metadata": {},
     "output_type": "execute_result"
    }
   ],
   "source": [
    "gb = shops.groupby('shop_name')\n",
    " \n",
    "gb.head()"
   ]
  },
  {
   "cell_type": "markdown",
   "metadata": {},
   "source": [
    "## items"
   ]
  },
  {
   "cell_type": "code",
   "execution_count": 10,
   "metadata": {
    "collapsed": true,
    "scrolled": true
   },
   "outputs": [],
   "source": [
    "#gb = items.groupby('item_name')\n",
    "#gb.head()"
   ]
  },
  {
   "cell_type": "code",
   "execution_count": null,
   "metadata": {
    "collapsed": true
   },
   "outputs": [],
   "source": []
  },
  {
   "cell_type": "markdown",
   "metadata": {},
   "source": [
    "## item_category"
   ]
  },
  {
   "cell_type": "code",
   "execution_count": 11,
   "metadata": {
    "collapsed": true
   },
   "outputs": [],
   "source": [
    "#item_cats.head(10)"
   ]
  },
  {
   "cell_type": "markdown",
   "metadata": {},
   "source": [
    "# Clean"
   ]
  },
  {
   "cell_type": "code",
   "execution_count": null,
   "metadata": {
    "collapsed": true
   },
   "outputs": [],
   "source": []
  },
  {
   "cell_type": "code",
   "execution_count": 4,
   "metadata": {
    "collapsed": true
   },
   "outputs": [],
   "source": [
    "# Cleaning and ordering based on EDA\n",
    "\n",
    "# removing outliers\n",
    "t = t[t['item_price']<50000]\n",
    "t = t[t['item_cnt_day']<500]\n",
    "\n",
    "# \n",
    "\n",
    "t.loc[t['shop_id'] == 0, 'shop_id'] = 57\n",
    "test.loc[test.shop_id == 0, 'shop_id'] = 57\n",
    "\n",
    "t.loc[t['shop_id'] == 1, 'shop_id'] = 58\n",
    "test.loc[test.shop_id == 1, 'shop_id'] = 58\n",
    "\n",
    "t.loc[t['shop_id'] == 10, 'shop_id'] = 11\n",
    "test.loc[test.shop_id == 10, 'shop_id'] = 11\n",
    "\n",
    "shops.loc[shops.shop_name == 'Сергиев Посад ТЦ \"7Я\"', 'shop_name'] = 'СергиевПосад ТЦ \"7Я\"'\n",
    "shops['city'] = shops['shop_name'].str.split(' ').map(lambda x: x[0])\n",
    "shops.loc[shops.city == '!Якутск', 'city'] = 'Якутск'\n",
    "shops['city_code'] = LabelEncoder().fit_transform(shops['city'])\n",
    "shops = shops[['shop_id','city_code']]\n",
    "\n",
    "items.drop(['item_name'], axis=1, inplace=True)\n",
    "\n",
    "\n",
    "\n",
    "item_cats['split'] = item_cats['item_category_name'].str.split('-')\n",
    "item_cats['type'] = item_cats['split'].map(lambda x: x[0].strip())\n",
    "item_cats['type_code'] = LabelEncoder().fit_transform(item_cats['type'])\n",
    "# if subtype is nan then type\n",
    "item_cats['subtype'] = item_cats['split'].map(lambda x: x[1].strip() if len(x) > 1 else x[0].strip())\n",
    "item_cats['subtype_code'] = LabelEncoder().fit_transform(item_cats['subtype'])\n",
    "item_cats = item_cats[['item_category_id','type_code', 'subtype_code']]"
   ]
  },
  {
   "cell_type": "code",
   "execution_count": null,
   "metadata": {
    "collapsed": true
   },
   "outputs": [],
   "source": []
  },
  {
   "cell_type": "code",
   "execution_count": null,
   "metadata": {
    "collapsed": true
   },
   "outputs": [],
   "source": []
  },
  {
   "cell_type": "code",
   "execution_count": 5,
   "metadata": {
    "collapsed": true
   },
   "outputs": [],
   "source": [
    "tr_shops= list(t['shop_id'].unique())\n",
    "ts_shops= list(test['shop_id'].unique())\n",
    "tr_items= list(t['item_id'].unique())\n",
    "ts_items= list(test['item_id'].unique())"
   ]
  },
  {
   "cell_type": "code",
   "execution_count": null,
   "metadata": {
    "collapsed": true
   },
   "outputs": [],
   "source": []
  },
  {
   "cell_type": "code",
   "execution_count": null,
   "metadata": {
    "collapsed": true
   },
   "outputs": [],
   "source": []
  },
  {
   "cell_type": "markdown",
   "metadata": {
    "collapsed": true
   },
   "source": [
    "# Check leakedges"
   ]
  },
  {
   "cell_type": "code",
   "execution_count": 13,
   "metadata": {
    "collapsed": true
   },
   "outputs": [],
   "source": [
    "#test.columns"
   ]
  },
  {
   "cell_type": "code",
   "execution_count": 14,
   "metadata": {
    "collapsed": true
   },
   "outputs": [],
   "source": [
    "#plt.scatter(t.index, t['item_cnt_day'], s=0.5); plt.show()"
   ]
  },
  {
   "cell_type": "code",
   "execution_count": 15,
   "metadata": {
    "collapsed": true,
    "scrolled": true
   },
   "outputs": [],
   "source": [
    "#plt.scatter(t['shop_id'], t['item_cnt_day'], s=0.5); plt.show()"
   ]
  },
  {
   "cell_type": "code",
   "execution_count": 16,
   "metadata": {
    "collapsed": true
   },
   "outputs": [],
   "source": [
    "#plt.scatter(test['shop_id'], test['ID'], s=0.5);plt.show()"
   ]
  },
  {
   "cell_type": "code",
   "execution_count": null,
   "metadata": {
    "collapsed": true
   },
   "outputs": [],
   "source": []
  },
  {
   "cell_type": "code",
   "execution_count": 17,
   "metadata": {
    "collapsed": true,
    "scrolled": true
   },
   "outputs": [],
   "source": [
    "#plt.figure(figsize=(15,15))\n",
    "#plt.scatter(test['shop_id'], test['item_id'], s=0.5);plt.show()"
   ]
  },
  {
   "cell_type": "code",
   "execution_count": 18,
   "metadata": {
    "collapsed": true,
    "scrolled": true
   },
   "outputs": [],
   "source": [
    "#plt.figure(figsize=(15,15))\n",
    "#plt.scatter(test['item_id'], test['ID'], s=0.5);plt.show()"
   ]
  },
  {
   "cell_type": "markdown",
   "metadata": {},
   "source": [
    "#### There are some patterns that require further investigation in the future. "
   ]
  },
  {
   "cell_type": "code",
   "execution_count": null,
   "metadata": {
    "collapsed": true
   },
   "outputs": [],
   "source": []
  },
  {
   "cell_type": "code",
   "execution_count": null,
   "metadata": {
    "collapsed": true
   },
   "outputs": [],
   "source": []
  },
  {
   "cell_type": "markdown",
   "metadata": {},
   "source": [
    "# Create basic dataset for processing\n",
    "#### For each item in each shop I create an instance for each month. This way there will be a continious data of each specific item for creating features and training the model.  \n",
    "#### Test data will be concatenated to train data for easier processing."
   ]
  },
  {
   "cell_type": "code",
   "execution_count": 6,
   "metadata": {},
   "outputs": [
    {
     "name": "stdout",
     "output_type": "stream",
     "text": [
      "grid (2781025, 4)\n",
      "keep:  2995225\n"
     ]
    }
   ],
   "source": [
    "# Create grid\n",
    "index_cols = ['shop_id', 'item_id', 'date_block_num']\n",
    "\n",
    "grid = [] \n",
    "for block_num in t['date_block_num'].unique():\n",
    "    cur_shops = t.loc[t['date_block_num'] == block_num, 'shop_id'].unique()\n",
    "    cur_items = t.loc[t['date_block_num'] == block_num, 'item_id'].unique()\n",
    "    grid.append(np.array(list(product(*[cur_shops, cur_items, [block_num]])),dtype='int32'))\n",
    "\n",
    "# Turn the grid into a dataframe\n",
    "grid = pd.DataFrame(np.vstack(grid), columns = index_cols, dtype=np.int32)\n",
    "\n",
    "\n",
    "grid['ID']= -1\n",
    "\n",
    "grid= grid[grid['shop_id'].isin(ts_shops)]\n",
    "grid= grid[grid['item_id'].isin(ts_items)]\n",
    "\n",
    "\n",
    "g= grid.shape\n",
    "print('grid', g)\n",
    "\n",
    "\n",
    "# Preparing test set\n",
    "test['date_block_num'] = 34\n",
    "test['date_block_num'] = test['date_block_num'].astype(np.int8)\n",
    "test['shop_id'] = test['shop_id'].astype(np.int8)\n",
    "test['item_id'] = test['item_id'].astype(np.int16)\n",
    "\n",
    "keep= len(grid)+len(test)\n",
    "print('keep: ', keep)"
   ]
  },
  {
   "cell_type": "code",
   "execution_count": null,
   "metadata": {
    "collapsed": true
   },
   "outputs": [],
   "source": []
  },
  {
   "cell_type": "code",
   "execution_count": null,
   "metadata": {
    "collapsed": true
   },
   "outputs": [],
   "source": []
  },
  {
   "cell_type": "code",
   "execution_count": 7,
   "metadata": {},
   "outputs": [
    {
     "name": "stdout",
     "output_type": "stream",
     "text": [
      "(2995225, 8)\n"
     ]
    }
   ],
   "source": [
    "# Concatenating grid & test data\n",
    "all_data= pd.concat([grid, test], axis=0, ignore_index=True)#, sort=False)\n",
    "all_data.fillna(0, inplace=True)\n",
    "del grid\n",
    "\n",
    "# Merging Shops, Categories, items \n",
    "all_data = pd.merge(all_data, shops, on=['shop_id'], how='left')\n",
    "all_data = pd.merge(all_data, items, on=['item_id'], how='left')\n",
    "all_data = pd.merge(all_data, item_cats, on=['item_category_id'], how='left')\n",
    "all_data['item_category_id'] = all_data['item_category_id'].astype(np.int8)\n",
    "all_data['city_code'] = all_data['city_code'].astype(np.int8)\n",
    "all_data['type_code'] = all_data['type_code'].astype(np.int8)\n",
    "all_data['subtype_code'] = all_data['subtype_code'].astype(np.int8)\n",
    "\n",
    "print(all_data.shape)"
   ]
  },
  {
   "cell_type": "code",
   "execution_count": null,
   "metadata": {
    "collapsed": true
   },
   "outputs": [],
   "source": []
  },
  {
   "cell_type": "code",
   "execution_count": null,
   "metadata": {
    "collapsed": true
   },
   "outputs": [],
   "source": []
  },
  {
   "cell_type": "code",
   "execution_count": null,
   "metadata": {
    "collapsed": true
   },
   "outputs": [],
   "source": []
  },
  {
   "cell_type": "code",
   "execution_count": null,
   "metadata": {
    "collapsed": true
   },
   "outputs": [],
   "source": []
  },
  {
   "cell_type": "markdown",
   "metadata": {},
   "source": [
    "### Calculate target data\n",
    "#### I will clip target to 0-20 for better convergance of the model."
   ]
  },
  {
   "cell_type": "code",
   "execution_count": 8,
   "metadata": {},
   "outputs": [
    {
     "name": "stdout",
     "output_type": "stream",
     "text": [
      "(2995225, 9)\n"
     ]
    }
   ],
   "source": [
    "# Target of current month\n",
    "group_cols= ['shop_id', 'item_id', 'date_block_num']\n",
    "gb = t.groupby(group_cols,as_index=False).agg({'item_cnt_day':{'target':'sum'}})\n",
    "gb.columns = [col[0] if col[-1]=='' else col[-1] for col in gb.columns.values]\n",
    "all_data = pd.merge(all_data, gb, how='left', on=group_cols).fillna(0)\n",
    "\n",
    "# Clipping\n",
    "all_data['target']= all_data['target'].clip(0, 20, axis=0).astype(np.int8)\n",
    "print(all_data.shape)"
   ]
  },
  {
   "cell_type": "code",
   "execution_count": null,
   "metadata": {
    "collapsed": true
   },
   "outputs": [],
   "source": []
  },
  {
   "cell_type": "code",
   "execution_count": null,
   "metadata": {
    "collapsed": true
   },
   "outputs": [],
   "source": []
  },
  {
   "cell_type": "markdown",
   "metadata": {},
   "source": [
    "# Features\n",
    "#### * Months & year.\n",
    "#### * Months since firs & last sales.\n",
    "#### * Mean price for each month, price lags & trends.\n",
    "#### * Working days and holydays in each month.\n",
    "#### * Mean encoding using skf strategy.\n",
    "#### * Target lags, trends & estimations."
   ]
  },
  {
   "cell_type": "code",
   "execution_count": 9,
   "metadata": {
    "collapsed": true
   },
   "outputs": [],
   "source": [
    "# Calculate month & year\n",
    "all_data['month']= (all_data['date_block_num'] % 12 + 1).astype(np.int32)\n",
    "all_data['year']= (all_data['date_block_num'] // 12 + 2013).astype(np.int32)\n",
    "\n",
    "# months since first & last sale\n",
    "reference= 'date_block_num'\n",
    "\n",
    "p_cols=['shop_id', 'item_id']; name= 'shop_item'; fl= 'first'\n",
    "all_data= first_last(all_data, p_cols, reference, name, fl)\n",
    "\n",
    "p_cols=['shop_id', 'item_id']; name= 'shop_item'; fl= 'last'\n",
    "all_data= first_last(all_data, p_cols, reference, name, fl)\n",
    "\n",
    "p_cols=['shop_id']; name= 'shop'; fl= 'first'\n",
    "all_data= first_last(all_data, p_cols, reference, name, fl)\n",
    "\n",
    "p_cols=['shop_id']; name= 'shop'; fl= 'last'\n",
    "all_data= first_last(all_data, p_cols, reference, name, fl)\n",
    "\n",
    "p_cols=['item_id']; name= 'item'; fl= 'first'\n",
    "all_data= first_last(all_data, p_cols, reference, name, fl)\n",
    "\n",
    "p_cols=['item_id']; name= 'item'; fl= 'last'\n",
    "all_data= first_last(all_data, p_cols, reference, name, fl) "
   ]
  },
  {
   "cell_type": "code",
   "execution_count": null,
   "metadata": {
    "collapsed": true
   },
   "outputs": [],
   "source": []
  },
  {
   "cell_type": "code",
   "execution_count": null,
   "metadata": {
    "collapsed": true
   },
   "outputs": [],
   "source": []
  },
  {
   "cell_type": "code",
   "execution_count": null,
   "metadata": {
    "collapsed": true
   },
   "outputs": [],
   "source": []
  },
  {
   "cell_type": "code",
   "execution_count": 10,
   "metadata": {},
   "outputs": [
    {
     "name": "stdout",
     "output_type": "stream",
     "text": [
      "prices\n"
     ]
    }
   ],
   "source": [
    "# Prices\n",
    "time_col= 'date_block_num'\n",
    "inx_cols= ['shop_id', 'item_id', 'date_block_num']\n",
    "lags= [1, 2, 3, 4, 6, 9, 12]\n",
    "gb= t[inx_cols + ['item_price']].groupby(inx_cols, as_index=False).mean()\n",
    "all_data= pd.merge(all_data, gb, how= 'left', on=inx_cols) \n",
    "all_data= feature_lags(all_data, time_col, inx_cols, 'item_price', lags, fill_c)\n",
    "for l in lags[1:]:\n",
    "    all_data['item_price_trend_' + str(l)]= all_data['item_price_previous_1'] - all_data['item_price_previous_' + str(l)]\n",
    "all_data.drop('item_price', axis=1, inplace=True)\n",
    "print('prices')"
   ]
  },
  {
   "cell_type": "code",
   "execution_count": null,
   "metadata": {
    "collapsed": true
   },
   "outputs": [],
   "source": []
  },
  {
   "cell_type": "code",
   "execution_count": null,
   "metadata": {
    "collapsed": true
   },
   "outputs": [],
   "source": []
  },
  {
   "cell_type": "code",
   "execution_count": 11,
   "metadata": {},
   "outputs": [
    {
     "name": "stderr",
     "output_type": "stream",
     "text": [
      "/usr/local/lib/python3.6/site-packages/ipykernel/__main__.py:12: SettingWithCopyWarning: \n",
      "A value is trying to be set on a copy of a slice from a DataFrame\n",
      "\n",
      "See the caveats in the documentation: http://pandas.pydata.org/pandas-docs/stable/indexing.html#indexing-view-versus-copy\n"
     ]
    },
    {
     "name": "stdout",
     "output_type": "stream",
     "text": [
      "(2995225, 39)\n",
      "time\n",
      "(2995225, 39)\n"
     ]
    }
   ],
   "source": [
    "#Time features    \n",
    "days_in_month = pd.Series([31,28,31,30,31,30,31,31,30,31,30,31])\n",
    "all_data['month'] -=1\n",
    "all_data['days'] = all_data['month'].map(days_in_month).astype(np.int8)\n",
    "all_data['month'] +=1\n",
    "cal = Russia()\n",
    "\n",
    "y= 2014\n",
    "all_data['w_days']= 0\n",
    "\n",
    "for m, last in enumerate(days_in_month):\n",
    "    all_data['w_days'][all_data['month']==m+1]= cal.get_working_days_delta(date(y, m+1, 1), date(y, m+1, last))\n",
    "all_data['h_days']= all_data['days'] - all_data['w_days'] - 8\n",
    "gc.collect();\n",
    "print(all_data.shape)\n",
    "\n",
    "\n",
    "all_data['date_block_num'] += 1\n",
    "\n",
    "print('time')\n",
    "print(all_data.shape)"
   ]
  },
  {
   "cell_type": "code",
   "execution_count": null,
   "metadata": {
    "collapsed": true
   },
   "outputs": [],
   "source": []
  },
  {
   "cell_type": "code",
   "execution_count": null,
   "metadata": {
    "collapsed": true
   },
   "outputs": [],
   "source": []
  },
  {
   "cell_type": "code",
   "execution_count": null,
   "metadata": {
    "collapsed": true
   },
   "outputs": [],
   "source": []
  },
  {
   "cell_type": "code",
   "execution_count": 12,
   "metadata": {},
   "outputs": [
    {
     "name": "stderr",
     "output_type": "stream",
     "text": [
      "/usr/local/lib/python3.6/site-packages/pandas/core/indexing.py:141: SettingWithCopyWarning: \n",
      "A value is trying to be set on a copy of a slice from a DataFrame\n",
      "\n",
      "See the caveats in the documentation: http://pandas.pydata.org/pandas-docs/stable/indexing.html#indexing-view-versus-copy\n",
      "  self._setitem_with_indexer(indexer, value)\n",
      "/usr/local/lib/python3.6/site-packages/pandas/core/indexing.py:141: SettingWithCopyWarning: \n",
      "A value is trying to be set on a copy of a slice from a DataFrame\n",
      "\n",
      "See the caveats in the documentation: http://pandas.pydata.org/pandas-docs/stable/indexing.html#indexing-view-versus-copy\n",
      "  self._setitem_with_indexer(indexer, value)\n",
      "/usr/local/lib/python3.6/site-packages/pandas/core/indexing.py:141: SettingWithCopyWarning: \n",
      "A value is trying to be set on a copy of a slice from a DataFrame\n",
      "\n",
      "See the caveats in the documentation: http://pandas.pydata.org/pandas-docs/stable/indexing.html#indexing-view-versus-copy\n",
      "  self._setitem_with_indexer(indexer, value)\n",
      "/usr/local/lib/python3.6/site-packages/pandas/core/indexing.py:141: SettingWithCopyWarning: \n",
      "A value is trying to be set on a copy of a slice from a DataFrame\n",
      "\n",
      "See the caveats in the documentation: http://pandas.pydata.org/pandas-docs/stable/indexing.html#indexing-view-versus-copy\n",
      "  self._setitem_with_indexer(indexer, value)\n",
      "/usr/local/lib/python3.6/site-packages/pandas/core/indexing.py:141: SettingWithCopyWarning: \n",
      "A value is trying to be set on a copy of a slice from a DataFrame\n",
      "\n",
      "See the caveats in the documentation: http://pandas.pydata.org/pandas-docs/stable/indexing.html#indexing-view-versus-copy\n",
      "  self._setitem_with_indexer(indexer, value)\n",
      "/usr/local/lib/python3.6/site-packages/pandas/core/indexing.py:141: SettingWithCopyWarning: \n",
      "A value is trying to be set on a copy of a slice from a DataFrame\n",
      "\n",
      "See the caveats in the documentation: http://pandas.pydata.org/pandas-docs/stable/indexing.html#indexing-view-versus-copy\n",
      "  self._setitem_with_indexer(indexer, value)\n"
     ]
    },
    {
     "name": "stdout",
     "output_type": "stream",
     "text": [
      "skf_enc\n",
      "all_data shape:  (2995225, 45)\n"
     ]
    }
   ],
   "source": [
    "# SKF Mean Encoding    \n",
    "inx_cols= ['shop_id', 'item_id', 'date_block_num']\n",
    "time_col= 'date_block_num'\n",
    "target_col= 'target'\n",
    "\n",
    "skf_cols= ['shop_id', 'item_id', 'item_category_id', 'type_code', 'subtype_code', 'city_code']\n",
    "data1= all_data[all_data['ID']==-1]\n",
    "data2= all_data[all_data['ID']>-1]\n",
    "for skf_col in skf_cols:\n",
    "    data1= mean_KFenc(data1, skf_col, target_col, fill_c, n_splits=5)\n",
    "    data2= pd.merge(data2, data1[[skf_col, skf_col + '_mean_skf']].drop_duplicates(subset=skf_col, keep='last'), how='left', on=skf_col)\n",
    "all_data= pd.concat([data1, data2], axis=0)\n",
    "\n",
    "print('skf_enc')\n",
    "print('all_data shape: ', all_data.shape)"
   ]
  },
  {
   "cell_type": "code",
   "execution_count": null,
   "metadata": {
    "collapsed": true
   },
   "outputs": [],
   "source": []
  },
  {
   "cell_type": "code",
   "execution_count": null,
   "metadata": {
    "collapsed": true
   },
   "outputs": [],
   "source": []
  },
  {
   "cell_type": "code",
   "execution_count": null,
   "metadata": {},
   "outputs": [
    {
     "name": "stdout",
     "output_type": "stream",
     "text": [
      "mean encoding\n",
      "all_data shape:  (2995225, 50)\n"
     ]
    }
   ],
   "source": [
    "# Pairs Mean Encoding\n",
    "group_cols= ['shop_id', 'item_id']; name= 'target_shop_item'\n",
    "all_data= mean_enc(all_data, group_cols, target_col, name, fill_c)\n",
    "\n",
    "group_cols= ['shop_id', 'city_code']; name= 'target_shop_city'\n",
    "all_data= mean_enc(all_data, group_cols, target_col, name, fill_c)\n",
    "\n",
    "group_cols= ['shop_id', 'item_category_id']; name= 'target_shop_cat'\n",
    "all_data= mean_enc(all_data, group_cols, target_col, name, fill_c)\n",
    "\n",
    "group_cols= ['shop_id', 'type_code']; name= 'target_shop_type'\n",
    "all_data= mean_enc(all_data, group_cols, target_col, name, fill_c)\n",
    "\n",
    "group_cols= ['shop_id', 'subtype_code']; name= 'target_shop_subtype'\n",
    "all_data= mean_enc(all_data, group_cols, target_col, name, fill_c)\n",
    "\n",
    "print('mean encoding')\n",
    "print('all_data shape: ', all_data.shape)"
   ]
  },
  {
   "cell_type": "code",
   "execution_count": null,
   "metadata": {
    "collapsed": true
   },
   "outputs": [],
   "source": []
  },
  {
   "cell_type": "code",
   "execution_count": null,
   "metadata": {
    "collapsed": true
   },
   "outputs": [],
   "source": []
  },
  {
   "cell_type": "code",
   "execution_count": null,
   "metadata": {
    "collapsed": true
   },
   "outputs": [],
   "source": [
    "# Target lags\n",
    "group_cols= ['shop_id', 'item_id', 'date_block_num']\n",
    "lags= [1, 2, 3, 4, 5, 6, 9, 12]\n",
    "for i in lags:       \n",
    "    d= all_data[group_cols + ['target']].copy().drop_duplicates()\n",
    "    d['date_block_num'] += i\n",
    "    d= d.rename(columns= {'target':'target_previous_' + str(i)})\n",
    "    all_data = pd.merge(all_data, d, how='left', on=group_cols).fillna(0)\n",
    "del d\n",
    "print('target lags')\n",
    "print('all_data shape: ', all_data.shape)\n",
    "\n",
    "# Target trend\n",
    "inx_cols= ['shop_id', 'item_id', 'date_block_num']\n",
    "time_col= 'date_block_num'\n",
    "target_col= 'target'\n",
    "trend_lags= [2, 3, 4, 5, 6, 9, 12]\n",
    "for l in trend_lags:\n",
    "    all_data['target_trend_' + str(l)]= all_data['target_previous_1'] - all_data['target_previous_' + str(l)]\n",
    "    all_data['target_trend_' + str(l)].fillna(-1)\n",
    "name= 'target_trend_2'\n",
    "\n",
    "all_data= feature_lags(all_data, time_col, inx_cols, name, [11, 12, 13], fill_c)\n",
    "\n",
    "print('target trends')\n",
    "print('all_data shape', all_data.shape)\n",
    "\n",
    "#Trying to estimate\n",
    "all_data['tar11']= all_data['target_previous_1'] * (1 + all_data['target_trend_2_previous_11'] / all_data['target_previous_12']).replace([np.inf, -np.inf, np.nan], 1)\n",
    "all_data['tar12']= all_data['target_previous_1'] * (1 + all_data['target_trend_2_previous_12'] / all_data['target_previous_12']).replace([np.inf, -np.inf, np.nan], 1)\n",
    "all_data['tar13']= all_data['target_previous_1'] * (1 + all_data['target_trend_2_previous_13'] / all_data['target_previous_12']).replace([np.inf, -np.inf, np.nan], 1)\n",
    "all_data['tar111']= all_data['target_previous_1'] + all_data['target_trend_2_previous_11']\n",
    "all_data['tar112']= all_data['target_previous_1'] + all_data['target_trend_2_previous_12']\n",
    "all_data['tar113']= all_data['target_previous_1'] + all_data['target_trend_2_previous_13']\n",
    "    \n",
    "print('estimate')\n",
    "print('all_data shape: ', all_data.shape)\n",
    "    "
   ]
  },
  {
   "cell_type": "code",
   "execution_count": null,
   "metadata": {
    "collapsed": true
   },
   "outputs": [],
   "source": []
  },
  {
   "cell_type": "code",
   "execution_count": null,
   "metadata": {
    "collapsed": true
   },
   "outputs": [],
   "source": []
  },
  {
   "cell_type": "code",
   "execution_count": null,
   "metadata": {
    "collapsed": true,
    "scrolled": true
   },
   "outputs": [],
   "source": [
    "all_data = downcast_dtypes(all_data)\n",
    "print('all_data shape: ', all_data.shape);\n",
    "print(all_data.info())"
   ]
  },
  {
   "cell_type": "code",
   "execution_count": null,
   "metadata": {
    "collapsed": true
   },
   "outputs": [],
   "source": []
  },
  {
   "cell_type": "code",
   "execution_count": null,
   "metadata": {
    "collapsed": true
   },
   "outputs": [],
   "source": []
  },
  {
   "cell_type": "code",
   "execution_count": null,
   "metadata": {
    "collapsed": true
   },
   "outputs": [],
   "source": [
    "all_data.to_csv('all_data_1.csv', index=False);"
   ]
  },
  {
   "cell_type": "code",
   "execution_count": null,
   "metadata": {
    "collapsed": true
   },
   "outputs": [],
   "source": []
  },
  {
   "cell_type": "code",
   "execution_count": null,
   "metadata": {
    "collapsed": true
   },
   "outputs": [],
   "source": []
  },
  {
   "cell_type": "markdown",
   "metadata": {
    "collapsed": true
   },
   "source": [
    "# Advanced features\n",
    "#### * Selecting data from month 14\n",
    "#### * Split between data for modeling and data for submission.\n",
    "#### * Extract RF leaves."
   ]
  },
  {
   "cell_type": "code",
   "execution_count": 2,
   "metadata": {
    "collapsed": true
   },
   "outputs": [],
   "source": [
    "name= 'all_data_1'\n",
    "all_data= pd.read_csv(name + '.csv')"
   ]
  },
  {
   "cell_type": "code",
   "execution_count": 3,
   "metadata": {},
   "outputs": [
    {
     "data": {
      "text/plain": [
       "Index(['ID', 'date_block_num', 'item_id', 'shop_id', 'city_code',\n",
       "       'item_category_id', 'type_code', 'subtype_code', 'target', 'month',\n",
       "       'year', 'first_shop_item', 'delta_first_shop_item', 'last_shop_item',\n",
       "       'delta_last_shop_item', 'first_shop', 'delta_first_shop', 'last_shop',\n",
       "       'delta_last_shop', 'first_item', 'delta_first_item', 'last_item',\n",
       "       'delta_last_item', 'item_price_previous_1', 'item_price_previous_2',\n",
       "       'item_price_previous_3', 'item_price_previous_4',\n",
       "       'item_price_previous_6', 'item_price_previous_9',\n",
       "       'item_price_previous_12', 'item_price_trend_2', 'item_price_trend_3',\n",
       "       'item_price_trend_4', 'item_price_trend_6', 'item_price_trend_9',\n",
       "       'item_price_trend_12', 'days', 'w_days', 'h_days', 'shop_id_mean_skf',\n",
       "       'item_id_mean_skf', 'item_category_id_mean_skf', 'type_code_mean_skf',\n",
       "       'subtype_code_mean_skf', 'city_code_mean_skf', 'target_shop_item_mean',\n",
       "       'target_shop_city_mean', 'target_shop_cat_mean',\n",
       "       'target_shop_type_mean', 'target_shop_subtype_mean',\n",
       "       'target_previous_1', 'target_previous_2', 'target_previous_3',\n",
       "       'target_previous_4', 'target_previous_5', 'target_previous_6',\n",
       "       'target_previous_9', 'target_previous_12', 'target_trend_2',\n",
       "       'target_trend_3', 'target_trend_4', 'target_trend_5', 'target_trend_6',\n",
       "       'target_trend_9', 'target_trend_12', 'target_trend_2_previous_11',\n",
       "       'target_trend_2_previous_12', 'target_trend_2_previous_13', 'tar11',\n",
       "       'tar12', 'tar13', 'tar111', 'tar112', 'tar113'],\n",
       "      dtype='object')"
      ]
     },
     "execution_count": 3,
     "metadata": {},
     "output_type": "execute_result"
    }
   ],
   "source": [
    "all_data.columns"
   ]
  },
  {
   "cell_type": "code",
   "execution_count": null,
   "metadata": {
    "collapsed": true
   },
   "outputs": [],
   "source": []
  },
  {
   "cell_type": "code",
   "execution_count": null,
   "metadata": {
    "collapsed": true
   },
   "outputs": [],
   "source": []
  },
  {
   "cell_type": "code",
   "execution_count": 4,
   "metadata": {
    "collapsed": true
   },
   "outputs": [],
   "source": [
    "cut= 14\n",
    "train_data= all_data[all_data['ID']==-1]\n",
    "\n",
    "y= train_data[['target', 'date_block_num']][train_data['date_block_num'] >= cut]\n",
    "\n",
    "X= train_data.drop(['ID', 'target'], axis=1)\n",
    "X= X[X['date_block_num'] >= cut]\n",
    "dbn= X['date_block_num']\n",
    "X= X.drop('date_block_num', axis=1)\n",
    "\n",
    "\n",
    "test_data=  all_data[all_data['ID'] > -1].drop(['target', 'date_block_num'], axis=1)\n",
    "ID= test_data['ID']\n",
    "test_data.drop('ID', axis=1, inplace=True)\n",
    "\n",
    "del all_data"
   ]
  },
  {
   "cell_type": "code",
   "execution_count": null,
   "metadata": {
    "collapsed": true
   },
   "outputs": [],
   "source": []
  },
  {
   "cell_type": "code",
   "execution_count": null,
   "metadata": {
    "collapsed": true
   },
   "outputs": [],
   "source": []
  },
  {
   "cell_type": "code",
   "execution_count": null,
   "metadata": {
    "collapsed": true
   },
   "outputs": [],
   "source": []
  },
  {
   "cell_type": "code",
   "execution_count": 13,
   "metadata": {
    "collapsed": true
   },
   "outputs": [],
   "source": [
    "X.to_csv('X_data.csv', index=False);\n",
    "y.to_csv('y_data.csv', header='y', index=False);\n",
    "#test_data.to_csv('test_data.csv', index=False);\n",
    "#dbn.to_csv('date_block_num.csv', header='dbn',index=False);"
   ]
  },
  {
   "cell_type": "code",
   "execution_count": null,
   "metadata": {
    "collapsed": true
   },
   "outputs": [],
   "source": []
  },
  {
   "cell_type": "code",
   "execution_count": 6,
   "metadata": {},
   "outputs": [
    {
     "name": "stdout",
     "output_type": "stream",
     "text": [
      "RF\n"
     ]
    }
   ],
   "source": [
    "# RF features\n",
    "RFmodel = RandomForestRegressor(max_depth=17, min_samples_split=1000, random_state=0,n_estimators=3)\n",
    "RFmodel.fit(X, y)\n",
    "\n",
    "a= RFmodel.apply(X)\n",
    "b= RFmodel.apply(test_data)\n",
    "\n",
    "RFX= pd.DataFrame(data=a, columns=['RF1', 'RF2', 'RF3'])\n",
    "RFtest= pd.DataFrame(data=b, columns=['RF1', 'RF2', 'RF3'])\n",
    "print('RF')\n",
    "#group_cols= ['shop_id', 'item_id', 'month']\n",
    "#test_data= pd.merge(test_data, X[group_cols + ['RF1', 'RF2', 'RF3']].drop_duplicates(), how='left', on=group_cols).fillna(0)"
   ]
  },
  {
   "cell_type": "code",
   "execution_count": null,
   "metadata": {
    "collapsed": true
   },
   "outputs": [],
   "source": [
    "RFX.to_csv('RFX.csv')\n",
    "RFtest.to_csv('RFtest.csv')"
   ]
  },
  {
   "cell_type": "code",
   "execution_count": 8,
   "metadata": {},
   "outputs": [
    {
     "name": "stderr",
     "output_type": "stream",
     "text": [
      "/usr/local/lib/python3.6/site-packages/sklearn/preprocessing/data.py:323: DataConversionWarning: Data with input dtype int64, float64 were all converted to float64 by MinMaxScaler.\n",
      "  return self.partial_fit(X, y)\n",
      "/usr/local/lib/python3.6/site-packages/sklearn/utils/validation.py:595: DataConversionWarning: Data with input dtype int64 was converted to float64 by MinMaxScaler.\n",
      "  warnings.warn(msg, DataConversionWarning)\n"
     ]
    }
   ],
   "source": [
    "cols= X.columns.tolist()\n",
    "scaler = MinMaxScaler()\n",
    "#scaler = StandardScaler()\n",
    "XS= scaler.fit_transform(X)\n",
    "test_dataS= scaler.transform(test_data)\n",
    "\n",
    "scaler1 = MinMaxScaler(feature_range=(0, 1))\n",
    "yS= scaler1.fit_transform(y.values.reshape(-1, 1))\n",
    "\n",
    "\n",
    "XS= pd.DataFrame(data=XS, columns=cols)\n",
    "test_dataS= pd.DataFrame(data=test_dataS, columns=cols)\n",
    "yS= pd.DataFrame(data=yS, columns=['target'])"
   ]
  },
  {
   "cell_type": "code",
   "execution_count": null,
   "metadata": {
    "collapsed": true
   },
   "outputs": [],
   "source": []
  },
  {
   "cell_type": "code",
   "execution_count": null,
   "metadata": {
    "collapsed": true
   },
   "outputs": [],
   "source": []
  },
  {
   "cell_type": "code",
   "execution_count": null,
   "metadata": {
    "collapsed": true
   },
   "outputs": [],
   "source": []
  },
  {
   "cell_type": "code",
   "execution_count": 14,
   "metadata": {
    "collapsed": true
   },
   "outputs": [],
   "source": [
    "XS.to_csv('XS_data.csv', index=False);\n",
    "yS.to_csv('yS_data.csv', header='target', index=False);\n",
    "test_dataS.to_csv('test_data.csv', index=False);"
   ]
  },
  {
   "cell_type": "code",
   "execution_count": null,
   "metadata": {
    "collapsed": true
   },
   "outputs": [],
   "source": [
    "KNNmodel= KNeighborsRegressor(n_neighbors=5)\n",
    "KNNmodel.fit(XS, y)\n",
    "distX= KNNmodel.kneighbors(XS)\n",
    "dist_test= KNNmodel.kneighbors(test_dataS)\n",
    "\n",
    "knncols=[]\n",
    "for i in distX.shape[1]:\n",
    "    knncols.append('knn5' + str(i))\n",
    "    \n",
    "distX= pd.DataFrame(data=distX, columns= knncols)\n",
    "dist_test= pd.DataFrame(data=dist_test, columns=knncols)\n",
    "print('knn')"
   ]
  },
  {
   "cell_type": "code",
   "execution_count": null,
   "metadata": {
    "collapsed": true
   },
   "outputs": [],
   "source": [
    "distX.to_csv('distX.csv')\n",
    "dist_test.to_csv('dist_test.csv')"
   ]
  },
  {
   "cell_type": "markdown",
   "metadata": {},
   "source": [
    "# Pre-Training\n",
    "#### * Split between train and validation data.\n",
    "#### * Modeling with Light Gradient Boosting."
   ]
  },
  {
   "cell_type": "code",
   "execution_count": 3,
   "metadata": {
    "collapsed": true
   },
   "outputs": [],
   "source": [
    "X= pd.read_csv('X_data.csv');\n",
    "y= pd.read_csv('y_data.csv');\n",
    "test_data= pd.read_csv('test_data.csv');\n",
    "dbn= pd.read_csv('date_block_num.csv')\n",
    "RFX= pd.read_csv('RFX.csv')\n",
    "RFtest= pd.read_csv('RFtest.csv')\n",
    "#distX= pd.read_csv('distX.csv')\n",
    "#dist_test= pd.read_csv('dist_test.csv')"
   ]
  },
  {
   "cell_type": "code",
   "execution_count": null,
   "metadata": {
    "collapsed": true
   },
   "outputs": [],
   "source": [
    "X= pd.read_csv('X_data.csv');\n",
    "y= pd.read_csv('y_data.csv');\n",
    "test_data= pd.read_csv('test_data.csv');"
   ]
  },
  {
   "cell_type": "code",
   "execution_count": null,
   "metadata": {
    "collapsed": true
   },
   "outputs": [],
   "source": [
    "Xrf= pd.concat([X, RFX], axis=1)\n",
    "test_data_rf= pd.concat([test_data, RFtest], axis=1)"
   ]
  },
  {
   "cell_type": "code",
   "execution_count": null,
   "metadata": {
    "collapsed": true
   },
   "outputs": [],
   "source": []
  },
  {
   "cell_type": "code",
   "execution_count": 5,
   "metadata": {
    "collapsed": true
   },
   "outputs": [],
   "source": [
    "def ens_models(X_train, y_train, X_valid):\n",
    "# 3 LGBoost trees\n",
    "\n",
    "    tlevel1= []; vlevel1= []\n",
    "    print('lgb')\n",
    "    lgb_params1 = {'feature_fraction': 0.7,'metric': 'rmse', 'nthread':12, 'min_data_in_leaf': 2**15, \n",
    "                      'bagging_fraction': 0.7, 'learning_rate': 0.05, 'objective': 'rmse',\n",
    "                      'bagging_seed': 2**9, 'num_leaves': 2**9,'bagging_freq':1,'verbose':0}\n",
    "\n",
    "    lgb_params2 = {'feature_fraction': 0.7,'metric': 'rmse', 'nthread':12, 'min_data_in_leaf': 2**11, \n",
    "                  'bagging_fraction': 0.7, 'learning_rate': 0.07, 'objective': 'rmse',\n",
    "                  'bagging_seed': 2**7, 'num_leaves': 2**9,'bagging_freq':1,'verbose':0}\n",
    "\n",
    "    lgb_params3 = {'feature_fraction': 0.7,'metric': 'rmse', 'nthread':12, 'min_data_in_leaf': 2**7, \n",
    "                  'bagging_fraction': 0.7, 'learning_rate': 0.05, 'objective': 'rmse',\n",
    "                  'bagging_seed': 2**5, 'num_leaves': 2**11,'bagging_freq':1,'verbose':0}\n",
    "\n",
    "    for n, lgb_params in enumerate ([lgb_params1, lgb_params2, lgb_params3]):\n",
    "        model = lgb.train(lgb_params, lgb.Dataset(X_train, label=y_train), 30)\n",
    "        #ax = lgb.plot_importance(model, figsize=(15, 15));plt.show()\n",
    "        \n",
    "        t_p= model.predict(X_train)#.clip(0,20);\n",
    "        tlevel1.append(t_p)\n",
    "        v_p= model.predict(X_valid)#.clip(0,20);\n",
    "        vlevel1.append(v_p)\n",
    "    \n",
    "    print('RF')\n",
    "    RF1= RandomForestRegressor(max_depth= 3, min_samples_split= 1000, min_samples_leaf= 50, random_state= 0, n_estimators= 10)\n",
    "    #RF2= RandomForestRegressor(max_depth= 4, min_samples_split= 1000, min_samples_leaf= 50, random_state= 0, n_estimators= 50)\n",
    "    #RF3= RandomForestRegressor(max_depth= 5, min_samples_split= 1000, min_samples_leaf= 50, random_state= 0, n_estimators= 50)\n",
    "    \n",
    "    for n, RFmodel in enumerate ([RF1]): #, RF2, RF3]):\n",
    "        RFmodel.fit(X_train, y_train)\n",
    "     \n",
    "    \n",
    "        t_p= model.predict(X_train)#.clip(0,20);\n",
    "        tlevel1.append(t_p)\n",
    "        v_p= RFmodel.predict(X_valid)#.clip(0,20);\n",
    "        vlevel1.append(v_p)\n",
    "    \n",
    "    print('LR')    \n",
    "    LRmodel= LinearRegression()\n",
    "    Lmodel= Lasso()\n",
    "    Rmodel= Ridge()\n",
    "    BRmodel= BayesianRidge()\n",
    "    for n, model in enumerate ([LRmodel, Lmodel, Rmodel, BRmodel]):\n",
    "        model.fit(X_train, y_train)\n",
    "    \n",
    "        t_p= model.predict(X_train)#.clip(0,20);\n",
    "        tlevel1.append(t_p.squeeze())\n",
    "        v_p= model.predict(X_valid)#.clip(0,20);\n",
    "        vlevel1.append(v_p.squeeze())\n",
    "    \n",
    "    return vlevel1, tlevel1"
   ]
  },
  {
   "cell_type": "code",
   "execution_count": null,
   "metadata": {
    "collapsed": true
   },
   "outputs": [],
   "source": []
  },
  {
   "cell_type": "code",
   "execution_count": null,
   "metadata": {
    "collapsed": true
   },
   "outputs": [],
   "source": []
  },
  {
   "cell_type": "code",
   "execution_count": 55,
   "metadata": {},
   "outputs": [
    {
     "data": {
      "text/plain": [
       "Index(['item_id', 'shop_id', 'city_code', 'item_category_id', 'type_code',\n",
       "       'subtype_code', 'month', 'year', 'first_shop_item',\n",
       "       'delta_first_shop_item', 'last_shop_item', 'delta_last_shop_item',\n",
       "       'first_shop', 'delta_first_shop', 'last_shop', 'delta_last_shop',\n",
       "       'first_item', 'delta_first_item', 'last_item', 'delta_last_item',\n",
       "       'item_price_previous_1', 'item_price_previous_2',\n",
       "       'item_price_previous_3', 'item_price_previous_4',\n",
       "       'item_price_previous_6', 'item_price_previous_9',\n",
       "       'item_price_previous_12', 'item_price_trend_2', 'item_price_trend_3',\n",
       "       'item_price_trend_4', 'item_price_trend_6', 'item_price_trend_9',\n",
       "       'item_price_trend_12', 'days', 'w_days', 'h_days', 'shop_id_mean_skf',\n",
       "       'item_id_mean_skf', 'item_category_id_mean_skf', 'type_code_mean_skf',\n",
       "       'subtype_code_mean_skf', 'city_code_mean_skf', 'target_shop_item_mean',\n",
       "       'target_shop_city_mean', 'target_shop_cat_mean',\n",
       "       'target_shop_type_mean', 'target_shop_subtype_mean',\n",
       "       'target_previous_1', 'target_previous_2', 'target_previous_3',\n",
       "       'target_previous_4', 'target_previous_5', 'target_previous_6',\n",
       "       'target_previous_9', 'target_previous_12', 'target_trend_2',\n",
       "       'target_trend_3', 'target_trend_4', 'target_trend_5', 'target_trend_6',\n",
       "       'target_trend_9', 'target_trend_12', 'target_trend_2_previous_11',\n",
       "       'target_trend_2_previous_12', 'target_trend_2_previous_13', 'tar11',\n",
       "       'tar12', 'tar13', 'tar111', 'tar112', 'tar113'],\n",
       "      dtype='object')"
      ]
     },
     "execution_count": 55,
     "metadata": {},
     "output_type": "execute_result"
    }
   ],
   "source": [
    "XS.columns"
   ]
  },
  {
   "cell_type": "code",
   "execution_count": 162,
   "metadata": {
    "collapsed": true,
    "scrolled": true
   },
   "outputs": [],
   "source": [
    "cols= ['target_shop_item_mean', 'target_shop_city_mean', 'target_shop_cat_mean','target_shop_type_mean', \n",
    "       'target_shop_subtype_mean',]\n",
    "X_modeling= XS.drop(cols, axis=1)\n",
    "test_modeling= test_dataS.drop(cols, axis=1)"
   ]
  },
  {
   "cell_type": "code",
   "execution_count": null,
   "metadata": {
    "collapsed": true
   },
   "outputs": [],
   "source": []
  },
  {
   "cell_type": "code",
   "execution_count": null,
   "metadata": {},
   "outputs": [
    {
     "name": "stdout",
     "output_type": "stream",
     "text": [
      "30\n",
      "30\n",
      "lgb\n",
      "RF\n"
     ]
    },
    {
     "name": "stderr",
     "output_type": "stream",
     "text": [
      "/usr/local/lib/python3.6/site-packages/ipykernel/__main__.py:33: DataConversionWarning: A column-vector y was passed when a 1d array was expected. Please change the shape of y to (n_samples,), for example using ravel().\n"
     ]
    },
    {
     "name": "stdout",
     "output_type": "stream",
     "text": [
      "LR\n"
     ]
    },
    {
     "name": "stderr",
     "output_type": "stream",
     "text": [
      "/usr/local/lib/python3.6/site-packages/sklearn/linear_model/base.py:485: RuntimeWarning: internal gelsd driver lwork query error, required iwork dimension not returned. This is likely the result of LAPACK bug 0038, fixed in LAPACK 3.2.2 (released July 21, 2010). Falling back to 'gelss' driver.\n",
      "  linalg.lstsq(X, y)\n",
      "/usr/local/lib/python3.6/site-packages/sklearn/utils/validation.py:761: DataConversionWarning: A column-vector y was passed when a 1d array was expected. Please change the shape of y to (n_samples, ), for example using ravel().\n",
      "  y = column_or_1d(y, warn=True)\n"
     ]
    },
    {
     "name": "stdout",
     "output_type": "stream",
     "text": [
      "31\n",
      "lgb\n",
      "RF\n"
     ]
    },
    {
     "name": "stderr",
     "output_type": "stream",
     "text": [
      "/usr/local/lib/python3.6/site-packages/ipykernel/__main__.py:33: DataConversionWarning: A column-vector y was passed when a 1d array was expected. Please change the shape of y to (n_samples,), for example using ravel().\n"
     ]
    },
    {
     "name": "stdout",
     "output_type": "stream",
     "text": [
      "LR\n"
     ]
    },
    {
     "name": "stderr",
     "output_type": "stream",
     "text": [
      "/usr/local/lib/python3.6/site-packages/sklearn/utils/validation.py:761: DataConversionWarning: A column-vector y was passed when a 1d array was expected. Please change the shape of y to (n_samples, ), for example using ravel().\n",
      "  y = column_or_1d(y, warn=True)\n"
     ]
    },
    {
     "name": "stdout",
     "output_type": "stream",
     "text": [
      "32\n",
      "lgb\n",
      "RF\n"
     ]
    },
    {
     "name": "stderr",
     "output_type": "stream",
     "text": [
      "/usr/local/lib/python3.6/site-packages/ipykernel/__main__.py:33: DataConversionWarning: A column-vector y was passed when a 1d array was expected. Please change the shape of y to (n_samples,), for example using ravel().\n"
     ]
    },
    {
     "name": "stdout",
     "output_type": "stream",
     "text": [
      "LR\n"
     ]
    },
    {
     "name": "stderr",
     "output_type": "stream",
     "text": [
      "/usr/local/lib/python3.6/site-packages/sklearn/utils/validation.py:761: DataConversionWarning: A column-vector y was passed when a 1d array was expected. Please change the shape of y to (n_samples, ), for example using ravel().\n",
      "  y = column_or_1d(y, warn=True)\n"
     ]
    },
    {
     "name": "stdout",
     "output_type": "stream",
     "text": [
      "33\n",
      "lgb\n",
      "RF\n"
     ]
    },
    {
     "name": "stderr",
     "output_type": "stream",
     "text": [
      "/usr/local/lib/python3.6/site-packages/ipykernel/__main__.py:33: DataConversionWarning: A column-vector y was passed when a 1d array was expected. Please change the shape of y to (n_samples,), for example using ravel().\n"
     ]
    },
    {
     "name": "stdout",
     "output_type": "stream",
     "text": [
      "LR\n"
     ]
    },
    {
     "name": "stderr",
     "output_type": "stream",
     "text": [
      "/usr/local/lib/python3.6/site-packages/sklearn/utils/validation.py:761: DataConversionWarning: A column-vector y was passed when a 1d array was expected. Please change the shape of y to (n_samples, ), for example using ravel().\n",
      "  y = column_or_1d(y, warn=True)\n"
     ]
    },
    {
     "name": "stdout",
     "output_type": "stream",
     "text": [
      "34\n",
      "lgb\n",
      "RF\n"
     ]
    },
    {
     "name": "stderr",
     "output_type": "stream",
     "text": [
      "/usr/local/lib/python3.6/site-packages/ipykernel/__main__.py:33: DataConversionWarning: A column-vector y was passed when a 1d array was expected. Please change the shape of y to (n_samples,), for example using ravel().\n"
     ]
    }
   ],
   "source": [
    "predicted_train= XS\n",
    "predicted_train['date_bulk']= dbn.values.squeeze()\n",
    "predicted_test= test_dataS\n",
    "yy= y.copy()\n",
    "yy.columns= ['target', 'date_bulk']\n",
    "#yy['date_bulk']= dbn.values.squeeze()\n",
    "last_bulk= predicted_train['date_bulk'].max()\n",
    "\n",
    "for n, k in enumerate ([ 30, last_bulk-1, last_bulk]): #[30, last_bulk-1, last_bulk]\n",
    "    print(k)\n",
    "    XX= predicted_train.copy()\n",
    "    df_test= predicted_test.copy()\n",
    "\n",
    "    predicted_train= pd.DataFrame()\n",
    "    #k= 24    \n",
    "    for m in range(k, last_bulk + 1):\n",
    "        print(m)\n",
    "        chunk= np.arange(XX['date_bulk'].min(), m + 1)\n",
    "        X_train= XX[XX['date_bulk'].isin(chunk)]\n",
    "        y_train= yy[yy['date_bulk'].isin(chunk)]\n",
    "\n",
    "        if m < last_bulk:\n",
    "            X_valid= XX[XX['date_bulk']== m + 1]\n",
    "\n",
    "            vlevel1, _= ens_models(X_train.drop('date_bulk', axis=1), y_train.drop('date_bulk', axis=1), X_valid.drop('date_bulk', axis=1))\n",
    "\n",
    "            df= pd.DataFrame(data= np.array(vlevel1).T, columns= np.arange(1, len(vlevel1) + 1))\n",
    "            df['date_bulk']= m + 1\n",
    "\n",
    "            predicted_train= pd.concat([predicted_train, df], axis=0)\n",
    "        else:\n",
    "            X_valid= df_test\n",
    "\n",
    "            vlevel1, tlevel1= ens_models(X_train.drop('date_bulk', axis=1), y_train.drop('date_bulk', axis=1), X_valid)\n",
    "            vlevel1= np.array(vlevel1).T\n",
    "            tlevel1= np.array(tlevel1).T\n",
    "            predicted_test= pd.DataFrame(data= vlevel1, columns= np.arange(1, vlevel1.shape[1] + 1))\n",
    "\n",
    "\n",
    "BRmodel1= BayesianRidge()\n",
    "BRmodel1.fit(tlevel1, y_train.drop('date_bulk', axis=1))\n",
    "pr1= BRmodel1.predict(tlevel1).clip(0,20)\n",
    "pr2= BRmodel1.predict(vlevel1).clip(0,20)\n",
    "            \n",
    "print('dbn 34 before final level (mean) rmse: ', np.sqrt(mean_squared_error(y['target'][yy['date_bulk']==34], df.drop('date_bulk', axis=1).mean(axis=1).clip(0,20))));\n",
    "print('dbn 34 before final level rmse: ', np.sqrt(mean_squared_error(y['target'][yy['date_bulk']==34], df[4].clip(0,20))));\n",
    "\n",
    "print('all modeling data rmse: ', np.sqrt(mean_squared_error(y['target'].iloc[-len(pr1):], pr1)));\n",
    "print('dbn 34 rmse: ', np.sqrt(mean_squared_error(y['target'][yy['date_bulk']==34], pr1[-len(y['target'][yy['date_bulk']==34]):])));"
   ]
  },
  {
   "cell_type": "code",
   "execution_count": null,
   "metadata": {
    "collapsed": true
   },
   "outputs": [],
   "source": []
  },
  {
   "cell_type": "code",
   "execution_count": null,
   "metadata": {
    "collapsed": true
   },
   "outputs": [],
   "source": []
  },
  {
   "cell_type": "code",
   "execution_count": null,
   "metadata": {
    "collapsed": true
   },
   "outputs": [],
   "source": []
  },
  {
   "cell_type": "code",
   "execution_count": null,
   "metadata": {
    "collapsed": true
   },
   "outputs": [],
   "source": []
  },
  {
   "cell_type": "code",
   "execution_count": 171,
   "metadata": {
    "scrolled": true
   },
   "outputs": [
    {
     "data": {
      "text/html": [
       "<div>\n",
       "<style scoped>\n",
       "    .dataframe tbody tr th:only-of-type {\n",
       "        vertical-align: middle;\n",
       "    }\n",
       "\n",
       "    .dataframe tbody tr th {\n",
       "        vertical-align: top;\n",
       "    }\n",
       "\n",
       "    .dataframe thead th {\n",
       "        text-align: right;\n",
       "    }\n",
       "</style>\n",
       "<table border=\"1\" class=\"dataframe\">\n",
       "  <thead>\n",
       "    <tr style=\"text-align: right;\">\n",
       "      <th></th>\n",
       "      <th>1</th>\n",
       "      <th>2</th>\n",
       "      <th>3</th>\n",
       "      <th>4</th>\n",
       "      <th>5</th>\n",
       "      <th>6</th>\n",
       "      <th>7</th>\n",
       "      <th>8</th>\n",
       "      <th>date_bulk</th>\n",
       "      <th>target</th>\n",
       "    </tr>\n",
       "  </thead>\n",
       "  <tbody>\n",
       "    <tr>\n",
       "      <th>0</th>\n",
       "      <td>0.080975</td>\n",
       "      <td>0.040767</td>\n",
       "      <td>0.078555</td>\n",
       "      <td>0.101167</td>\n",
       "      <td>-0.044547</td>\n",
       "      <td>0.368733</td>\n",
       "      <td>-0.046647</td>\n",
       "      <td>-0.044690</td>\n",
       "      <td>34</td>\n",
       "      <td>0</td>\n",
       "    </tr>\n",
       "    <tr>\n",
       "      <th>1</th>\n",
       "      <td>0.083267</td>\n",
       "      <td>0.046821</td>\n",
       "      <td>0.079323</td>\n",
       "      <td>0.101167</td>\n",
       "      <td>-0.019245</td>\n",
       "      <td>0.368733</td>\n",
       "      <td>-0.021498</td>\n",
       "      <td>-0.019399</td>\n",
       "      <td>34</td>\n",
       "      <td>0</td>\n",
       "    </tr>\n",
       "    <tr>\n",
       "      <th>2</th>\n",
       "      <td>1.641245</td>\n",
       "      <td>2.802875</td>\n",
       "      <td>2.573291</td>\n",
       "      <td>2.927199</td>\n",
       "      <td>3.006155</td>\n",
       "      <td>0.368733</td>\n",
       "      <td>3.009848</td>\n",
       "      <td>3.006432</td>\n",
       "      <td>34</td>\n",
       "      <td>3</td>\n",
       "    </tr>\n",
       "    <tr>\n",
       "      <th>3</th>\n",
       "      <td>1.641245</td>\n",
       "      <td>6.679131</td>\n",
       "      <td>13.174539</td>\n",
       "      <td>13.652454</td>\n",
       "      <td>17.372078</td>\n",
       "      <td>0.368733</td>\n",
       "      <td>17.430754</td>\n",
       "      <td>17.376337</td>\n",
       "      <td>34</td>\n",
       "      <td>20</td>\n",
       "    </tr>\n",
       "    <tr>\n",
       "      <th>4</th>\n",
       "      <td>1.641245</td>\n",
       "      <td>6.679131</td>\n",
       "      <td>13.174539</td>\n",
       "      <td>13.652454</td>\n",
       "      <td>17.522201</td>\n",
       "      <td>0.368733</td>\n",
       "      <td>17.579438</td>\n",
       "      <td>17.526357</td>\n",
       "      <td>34</td>\n",
       "      <td>20</td>\n",
       "    </tr>\n",
       "    <tr>\n",
       "      <th>5</th>\n",
       "      <td>0.080708</td>\n",
       "      <td>0.041061</td>\n",
       "      <td>0.080151</td>\n",
       "      <td>0.101167</td>\n",
       "      <td>-0.047377</td>\n",
       "      <td>0.368733</td>\n",
       "      <td>-0.049513</td>\n",
       "      <td>-0.047522</td>\n",
       "      <td>34</td>\n",
       "      <td>0</td>\n",
       "    </tr>\n",
       "    <tr>\n",
       "      <th>6</th>\n",
       "      <td>0.082556</td>\n",
       "      <td>0.043852</td>\n",
       "      <td>0.084194</td>\n",
       "      <td>0.101167</td>\n",
       "      <td>-0.034273</td>\n",
       "      <td>0.368733</td>\n",
       "      <td>-0.036279</td>\n",
       "      <td>-0.034409</td>\n",
       "      <td>34</td>\n",
       "      <td>0</td>\n",
       "    </tr>\n",
       "    <tr>\n",
       "      <th>7</th>\n",
       "      <td>1.641245</td>\n",
       "      <td>1.961071</td>\n",
       "      <td>2.315777</td>\n",
       "      <td>1.847836</td>\n",
       "      <td>2.177071</td>\n",
       "      <td>0.368733</td>\n",
       "      <td>2.168458</td>\n",
       "      <td>2.176460</td>\n",
       "      <td>34</td>\n",
       "      <td>1</td>\n",
       "    </tr>\n",
       "    <tr>\n",
       "      <th>8</th>\n",
       "      <td>0.107501</td>\n",
       "      <td>0.059441</td>\n",
       "      <td>0.082449</td>\n",
       "      <td>0.101167</td>\n",
       "      <td>-0.015625</td>\n",
       "      <td>0.368733</td>\n",
       "      <td>-0.017457</td>\n",
       "      <td>-0.015749</td>\n",
       "      <td>34</td>\n",
       "      <td>0</td>\n",
       "    </tr>\n",
       "    <tr>\n",
       "      <th>9</th>\n",
       "      <td>1.641245</td>\n",
       "      <td>6.679131</td>\n",
       "      <td>13.174539</td>\n",
       "      <td>13.652454</td>\n",
       "      <td>17.663673</td>\n",
       "      <td>0.368733</td>\n",
       "      <td>17.698487</td>\n",
       "      <td>17.666207</td>\n",
       "      <td>34</td>\n",
       "      <td>20</td>\n",
       "    </tr>\n",
       "    <tr>\n",
       "      <th>10</th>\n",
       "      <td>0.102450</td>\n",
       "      <td>0.045264</td>\n",
       "      <td>0.085795</td>\n",
       "      <td>0.101167</td>\n",
       "      <td>0.058382</td>\n",
       "      <td>0.368733</td>\n",
       "      <td>0.057182</td>\n",
       "      <td>0.058305</td>\n",
       "      <td>34</td>\n",
       "      <td>0</td>\n",
       "    </tr>\n",
       "    <tr>\n",
       "      <th>11</th>\n",
       "      <td>1.641245</td>\n",
       "      <td>2.235811</td>\n",
       "      <td>2.124381</td>\n",
       "      <td>1.961942</td>\n",
       "      <td>2.230364</td>\n",
       "      <td>0.368733</td>\n",
       "      <td>2.222809</td>\n",
       "      <td>2.229829</td>\n",
       "      <td>34</td>\n",
       "      <td>3</td>\n",
       "    </tr>\n",
       "    <tr>\n",
       "      <th>12</th>\n",
       "      <td>1.641245</td>\n",
       "      <td>6.679131</td>\n",
       "      <td>7.599545</td>\n",
       "      <td>11.165354</td>\n",
       "      <td>10.510376</td>\n",
       "      <td>0.368733</td>\n",
       "      <td>10.504996</td>\n",
       "      <td>10.509998</td>\n",
       "      <td>34</td>\n",
       "      <td>9</td>\n",
       "    </tr>\n",
       "    <tr>\n",
       "      <th>13</th>\n",
       "      <td>0.416286</td>\n",
       "      <td>0.539374</td>\n",
       "      <td>0.573177</td>\n",
       "      <td>0.439263</td>\n",
       "      <td>0.483589</td>\n",
       "      <td>0.368733</td>\n",
       "      <td>0.482904</td>\n",
       "      <td>0.483549</td>\n",
       "      <td>34</td>\n",
       "      <td>0</td>\n",
       "    </tr>\n",
       "    <tr>\n",
       "      <th>14</th>\n",
       "      <td>0.107501</td>\n",
       "      <td>0.059441</td>\n",
       "      <td>0.082449</td>\n",
       "      <td>0.101167</td>\n",
       "      <td>-0.015625</td>\n",
       "      <td>0.368733</td>\n",
       "      <td>-0.017457</td>\n",
       "      <td>-0.015749</td>\n",
       "      <td>34</td>\n",
       "      <td>0</td>\n",
       "    </tr>\n",
       "    <tr>\n",
       "      <th>15</th>\n",
       "      <td>0.109237</td>\n",
       "      <td>0.055491</td>\n",
       "      <td>0.091241</td>\n",
       "      <td>0.101167</td>\n",
       "      <td>-0.004126</td>\n",
       "      <td>0.368733</td>\n",
       "      <td>-0.006591</td>\n",
       "      <td>-0.004295</td>\n",
       "      <td>34</td>\n",
       "      <td>0</td>\n",
       "    </tr>\n",
       "    <tr>\n",
       "      <th>16</th>\n",
       "      <td>0.324838</td>\n",
       "      <td>0.335940</td>\n",
       "      <td>0.492993</td>\n",
       "      <td>0.167798</td>\n",
       "      <td>0.448956</td>\n",
       "      <td>0.368733</td>\n",
       "      <td>0.446935</td>\n",
       "      <td>0.448820</td>\n",
       "      <td>34</td>\n",
       "      <td>0</td>\n",
       "    </tr>\n",
       "    <tr>\n",
       "      <th>17</th>\n",
       "      <td>0.082556</td>\n",
       "      <td>0.043941</td>\n",
       "      <td>0.078465</td>\n",
       "      <td>0.101167</td>\n",
       "      <td>-0.026187</td>\n",
       "      <td>0.368733</td>\n",
       "      <td>-0.028462</td>\n",
       "      <td>-0.026342</td>\n",
       "      <td>34</td>\n",
       "      <td>0</td>\n",
       "    </tr>\n",
       "    <tr>\n",
       "      <th>18</th>\n",
       "      <td>0.324838</td>\n",
       "      <td>0.335940</td>\n",
       "      <td>0.492993</td>\n",
       "      <td>0.167798</td>\n",
       "      <td>0.448956</td>\n",
       "      <td>0.368733</td>\n",
       "      <td>0.446935</td>\n",
       "      <td>0.448820</td>\n",
       "      <td>34</td>\n",
       "      <td>0</td>\n",
       "    </tr>\n",
       "    <tr>\n",
       "      <th>19</th>\n",
       "      <td>0.170619</td>\n",
       "      <td>0.067686</td>\n",
       "      <td>0.108392</td>\n",
       "      <td>0.101167</td>\n",
       "      <td>0.089826</td>\n",
       "      <td>0.368733</td>\n",
       "      <td>0.084306</td>\n",
       "      <td>0.089437</td>\n",
       "      <td>34</td>\n",
       "      <td>0</td>\n",
       "    </tr>\n",
       "    <tr>\n",
       "      <th>20</th>\n",
       "      <td>0.176213</td>\n",
       "      <td>0.068378</td>\n",
       "      <td>0.113942</td>\n",
       "      <td>0.101167</td>\n",
       "      <td>0.078158</td>\n",
       "      <td>0.368733</td>\n",
       "      <td>0.075511</td>\n",
       "      <td>0.077976</td>\n",
       "      <td>34</td>\n",
       "      <td>0</td>\n",
       "    </tr>\n",
       "    <tr>\n",
       "      <th>21</th>\n",
       "      <td>1.641245</td>\n",
       "      <td>1.891979</td>\n",
       "      <td>1.440581</td>\n",
       "      <td>1.847836</td>\n",
       "      <td>1.911818</td>\n",
       "      <td>0.368733</td>\n",
       "      <td>1.910360</td>\n",
       "      <td>1.911722</td>\n",
       "      <td>34</td>\n",
       "      <td>0</td>\n",
       "    </tr>\n",
       "    <tr>\n",
       "      <th>22</th>\n",
       "      <td>1.641245</td>\n",
       "      <td>6.679131</td>\n",
       "      <td>13.174539</td>\n",
       "      <td>13.652454</td>\n",
       "      <td>17.494849</td>\n",
       "      <td>0.368733</td>\n",
       "      <td>17.538260</td>\n",
       "      <td>17.498003</td>\n",
       "      <td>34</td>\n",
       "      <td>20</td>\n",
       "    </tr>\n",
       "    <tr>\n",
       "      <th>23</th>\n",
       "      <td>1.080727</td>\n",
       "      <td>0.572680</td>\n",
       "      <td>0.356436</td>\n",
       "      <td>1.558211</td>\n",
       "      <td>1.101921</td>\n",
       "      <td>0.368733</td>\n",
       "      <td>1.102929</td>\n",
       "      <td>1.101997</td>\n",
       "      <td>34</td>\n",
       "      <td>0</td>\n",
       "    </tr>\n",
       "    <tr>\n",
       "      <th>24</th>\n",
       "      <td>0.162842</td>\n",
       "      <td>0.065341</td>\n",
       "      <td>0.104742</td>\n",
       "      <td>0.101167</td>\n",
       "      <td>0.032973</td>\n",
       "      <td>0.368733</td>\n",
       "      <td>0.029973</td>\n",
       "      <td>0.032766</td>\n",
       "      <td>34</td>\n",
       "      <td>0</td>\n",
       "    </tr>\n",
       "    <tr>\n",
       "      <th>25</th>\n",
       "      <td>0.130672</td>\n",
       "      <td>0.070313</td>\n",
       "      <td>0.116223</td>\n",
       "      <td>0.101167</td>\n",
       "      <td>0.030938</td>\n",
       "      <td>0.368733</td>\n",
       "      <td>0.029136</td>\n",
       "      <td>0.030817</td>\n",
       "      <td>34</td>\n",
       "      <td>0</td>\n",
       "    </tr>\n",
       "    <tr>\n",
       "      <th>26</th>\n",
       "      <td>0.175008</td>\n",
       "      <td>0.164794</td>\n",
       "      <td>0.242972</td>\n",
       "      <td>0.101167</td>\n",
       "      <td>0.093324</td>\n",
       "      <td>0.368733</td>\n",
       "      <td>0.091505</td>\n",
       "      <td>0.093202</td>\n",
       "      <td>34</td>\n",
       "      <td>0</td>\n",
       "    </tr>\n",
       "    <tr>\n",
       "      <th>27</th>\n",
       "      <td>0.080975</td>\n",
       "      <td>0.040393</td>\n",
       "      <td>0.079344</td>\n",
       "      <td>0.101167</td>\n",
       "      <td>-0.048043</td>\n",
       "      <td>0.368733</td>\n",
       "      <td>-0.050116</td>\n",
       "      <td>-0.048183</td>\n",
       "      <td>34</td>\n",
       "      <td>0</td>\n",
       "    </tr>\n",
       "    <tr>\n",
       "      <th>28</th>\n",
       "      <td>0.098306</td>\n",
       "      <td>0.049905</td>\n",
       "      <td>0.087851</td>\n",
       "      <td>0.101167</td>\n",
       "      <td>0.045904</td>\n",
       "      <td>0.368733</td>\n",
       "      <td>0.044623</td>\n",
       "      <td>0.045821</td>\n",
       "      <td>34</td>\n",
       "      <td>0</td>\n",
       "    </tr>\n",
       "    <tr>\n",
       "      <th>29</th>\n",
       "      <td>0.190264</td>\n",
       "      <td>1.012305</td>\n",
       "      <td>0.596679</td>\n",
       "      <td>0.101167</td>\n",
       "      <td>0.274777</td>\n",
       "      <td>0.368733</td>\n",
       "      <td>0.247159</td>\n",
       "      <td>0.272790</td>\n",
       "      <td>34</td>\n",
       "      <td>0</td>\n",
       "    </tr>\n",
       "    <tr>\n",
       "      <th>30</th>\n",
       "      <td>0.080708</td>\n",
       "      <td>0.041427</td>\n",
       "      <td>0.081630</td>\n",
       "      <td>0.101167</td>\n",
       "      <td>-0.045386</td>\n",
       "      <td>0.368733</td>\n",
       "      <td>-0.047438</td>\n",
       "      <td>-0.045525</td>\n",
       "      <td>34</td>\n",
       "      <td>0</td>\n",
       "    </tr>\n",
       "    <tr>\n",
       "      <th>31</th>\n",
       "      <td>0.098190</td>\n",
       "      <td>0.050260</td>\n",
       "      <td>0.086215</td>\n",
       "      <td>0.101167</td>\n",
       "      <td>0.003510</td>\n",
       "      <td>0.368733</td>\n",
       "      <td>0.001409</td>\n",
       "      <td>0.003367</td>\n",
       "      <td>34</td>\n",
       "      <td>0</td>\n",
       "    </tr>\n",
       "    <tr>\n",
       "      <th>32</th>\n",
       "      <td>0.080975</td>\n",
       "      <td>0.043767</td>\n",
       "      <td>0.089032</td>\n",
       "      <td>0.101167</td>\n",
       "      <td>-0.041272</td>\n",
       "      <td>0.368733</td>\n",
       "      <td>-0.043055</td>\n",
       "      <td>-0.041392</td>\n",
       "      <td>34</td>\n",
       "      <td>0</td>\n",
       "    </tr>\n",
       "    <tr>\n",
       "      <th>33</th>\n",
       "      <td>0.080708</td>\n",
       "      <td>0.041088</td>\n",
       "      <td>0.079731</td>\n",
       "      <td>0.101167</td>\n",
       "      <td>-0.047211</td>\n",
       "      <td>0.368733</td>\n",
       "      <td>-0.049176</td>\n",
       "      <td>-0.047344</td>\n",
       "      <td>34</td>\n",
       "      <td>0</td>\n",
       "    </tr>\n",
       "    <tr>\n",
       "      <th>34</th>\n",
       "      <td>0.124571</td>\n",
       "      <td>0.053261</td>\n",
       "      <td>0.093392</td>\n",
       "      <td>0.101167</td>\n",
       "      <td>0.053370</td>\n",
       "      <td>0.368733</td>\n",
       "      <td>0.051709</td>\n",
       "      <td>0.053260</td>\n",
       "      <td>34</td>\n",
       "      <td>0</td>\n",
       "    </tr>\n",
       "    <tr>\n",
       "      <th>35</th>\n",
       "      <td>1.641245</td>\n",
       "      <td>1.446915</td>\n",
       "      <td>1.087915</td>\n",
       "      <td>1.847836</td>\n",
       "      <td>1.701214</td>\n",
       "      <td>0.368733</td>\n",
       "      <td>1.700444</td>\n",
       "      <td>1.701166</td>\n",
       "      <td>34</td>\n",
       "      <td>0</td>\n",
       "    </tr>\n",
       "    <tr>\n",
       "      <th>36</th>\n",
       "      <td>0.130018</td>\n",
       "      <td>0.065563</td>\n",
       "      <td>0.107611</td>\n",
       "      <td>0.101167</td>\n",
       "      <td>0.031439</td>\n",
       "      <td>0.368733</td>\n",
       "      <td>0.029650</td>\n",
       "      <td>0.031319</td>\n",
       "      <td>34</td>\n",
       "      <td>0</td>\n",
       "    </tr>\n",
       "    <tr>\n",
       "      <th>37</th>\n",
       "      <td>0.130018</td>\n",
       "      <td>0.065563</td>\n",
       "      <td>0.107611</td>\n",
       "      <td>0.101167</td>\n",
       "      <td>0.031439</td>\n",
       "      <td>0.368733</td>\n",
       "      <td>0.029649</td>\n",
       "      <td>0.031319</td>\n",
       "      <td>34</td>\n",
       "      <td>0</td>\n",
       "    </tr>\n",
       "    <tr>\n",
       "      <th>38</th>\n",
       "      <td>1.641245</td>\n",
       "      <td>6.679131</td>\n",
       "      <td>8.898213</td>\n",
       "      <td>13.652454</td>\n",
       "      <td>11.857196</td>\n",
       "      <td>0.368733</td>\n",
       "      <td>11.854789</td>\n",
       "      <td>11.857028</td>\n",
       "      <td>34</td>\n",
       "      <td>16</td>\n",
       "    </tr>\n",
       "    <tr>\n",
       "      <th>39</th>\n",
       "      <td>0.089735</td>\n",
       "      <td>0.037525</td>\n",
       "      <td>0.074556</td>\n",
       "      <td>0.101167</td>\n",
       "      <td>0.005676</td>\n",
       "      <td>0.368733</td>\n",
       "      <td>0.004430</td>\n",
       "      <td>0.005596</td>\n",
       "      <td>34</td>\n",
       "      <td>0</td>\n",
       "    </tr>\n",
       "  </tbody>\n",
       "</table>\n",
       "</div>"
      ],
      "text/plain": [
       "           1         2          3          4          5         6          7  \\\n",
       "0   0.080975  0.040767   0.078555   0.101167  -0.044547  0.368733  -0.046647   \n",
       "1   0.083267  0.046821   0.079323   0.101167  -0.019245  0.368733  -0.021498   \n",
       "2   1.641245  2.802875   2.573291   2.927199   3.006155  0.368733   3.009848   \n",
       "3   1.641245  6.679131  13.174539  13.652454  17.372078  0.368733  17.430754   \n",
       "4   1.641245  6.679131  13.174539  13.652454  17.522201  0.368733  17.579438   \n",
       "5   0.080708  0.041061   0.080151   0.101167  -0.047377  0.368733  -0.049513   \n",
       "6   0.082556  0.043852   0.084194   0.101167  -0.034273  0.368733  -0.036279   \n",
       "7   1.641245  1.961071   2.315777   1.847836   2.177071  0.368733   2.168458   \n",
       "8   0.107501  0.059441   0.082449   0.101167  -0.015625  0.368733  -0.017457   \n",
       "9   1.641245  6.679131  13.174539  13.652454  17.663673  0.368733  17.698487   \n",
       "10  0.102450  0.045264   0.085795   0.101167   0.058382  0.368733   0.057182   \n",
       "11  1.641245  2.235811   2.124381   1.961942   2.230364  0.368733   2.222809   \n",
       "12  1.641245  6.679131   7.599545  11.165354  10.510376  0.368733  10.504996   \n",
       "13  0.416286  0.539374   0.573177   0.439263   0.483589  0.368733   0.482904   \n",
       "14  0.107501  0.059441   0.082449   0.101167  -0.015625  0.368733  -0.017457   \n",
       "15  0.109237  0.055491   0.091241   0.101167  -0.004126  0.368733  -0.006591   \n",
       "16  0.324838  0.335940   0.492993   0.167798   0.448956  0.368733   0.446935   \n",
       "17  0.082556  0.043941   0.078465   0.101167  -0.026187  0.368733  -0.028462   \n",
       "18  0.324838  0.335940   0.492993   0.167798   0.448956  0.368733   0.446935   \n",
       "19  0.170619  0.067686   0.108392   0.101167   0.089826  0.368733   0.084306   \n",
       "20  0.176213  0.068378   0.113942   0.101167   0.078158  0.368733   0.075511   \n",
       "21  1.641245  1.891979   1.440581   1.847836   1.911818  0.368733   1.910360   \n",
       "22  1.641245  6.679131  13.174539  13.652454  17.494849  0.368733  17.538260   \n",
       "23  1.080727  0.572680   0.356436   1.558211   1.101921  0.368733   1.102929   \n",
       "24  0.162842  0.065341   0.104742   0.101167   0.032973  0.368733   0.029973   \n",
       "25  0.130672  0.070313   0.116223   0.101167   0.030938  0.368733   0.029136   \n",
       "26  0.175008  0.164794   0.242972   0.101167   0.093324  0.368733   0.091505   \n",
       "27  0.080975  0.040393   0.079344   0.101167  -0.048043  0.368733  -0.050116   \n",
       "28  0.098306  0.049905   0.087851   0.101167   0.045904  0.368733   0.044623   \n",
       "29  0.190264  1.012305   0.596679   0.101167   0.274777  0.368733   0.247159   \n",
       "30  0.080708  0.041427   0.081630   0.101167  -0.045386  0.368733  -0.047438   \n",
       "31  0.098190  0.050260   0.086215   0.101167   0.003510  0.368733   0.001409   \n",
       "32  0.080975  0.043767   0.089032   0.101167  -0.041272  0.368733  -0.043055   \n",
       "33  0.080708  0.041088   0.079731   0.101167  -0.047211  0.368733  -0.049176   \n",
       "34  0.124571  0.053261   0.093392   0.101167   0.053370  0.368733   0.051709   \n",
       "35  1.641245  1.446915   1.087915   1.847836   1.701214  0.368733   1.700444   \n",
       "36  0.130018  0.065563   0.107611   0.101167   0.031439  0.368733   0.029650   \n",
       "37  0.130018  0.065563   0.107611   0.101167   0.031439  0.368733   0.029649   \n",
       "38  1.641245  6.679131   8.898213  13.652454  11.857196  0.368733  11.854789   \n",
       "39  0.089735  0.037525   0.074556   0.101167   0.005676  0.368733   0.004430   \n",
       "\n",
       "            8  date_bulk  target  \n",
       "0   -0.044690         34       0  \n",
       "1   -0.019399         34       0  \n",
       "2    3.006432         34       3  \n",
       "3   17.376337         34      20  \n",
       "4   17.526357         34      20  \n",
       "5   -0.047522         34       0  \n",
       "6   -0.034409         34       0  \n",
       "7    2.176460         34       1  \n",
       "8   -0.015749         34       0  \n",
       "9   17.666207         34      20  \n",
       "10   0.058305         34       0  \n",
       "11   2.229829         34       3  \n",
       "12  10.509998         34       9  \n",
       "13   0.483549         34       0  \n",
       "14  -0.015749         34       0  \n",
       "15  -0.004295         34       0  \n",
       "16   0.448820         34       0  \n",
       "17  -0.026342         34       0  \n",
       "18   0.448820         34       0  \n",
       "19   0.089437         34       0  \n",
       "20   0.077976         34       0  \n",
       "21   1.911722         34       0  \n",
       "22  17.498003         34      20  \n",
       "23   1.101997         34       0  \n",
       "24   0.032766         34       0  \n",
       "25   0.030817         34       0  \n",
       "26   0.093202         34       0  \n",
       "27  -0.048183         34       0  \n",
       "28   0.045821         34       0  \n",
       "29   0.272790         34       0  \n",
       "30  -0.045525         34       0  \n",
       "31   0.003367         34       0  \n",
       "32  -0.041392         34       0  \n",
       "33  -0.047344         34       0  \n",
       "34   0.053260         34       0  \n",
       "35   1.701166         34       0  \n",
       "36   0.031319         34       0  \n",
       "37   0.031319         34       0  \n",
       "38  11.857028         34      16  \n",
       "39   0.005596         34       0  "
      ]
     },
     "execution_count": 171,
     "metadata": {},
     "output_type": "execute_result"
    }
   ],
   "source": [
    "d= df.copy()\n",
    "d['target']= y['target'][yy['date_bulk']==34].values\n",
    "d.head(40)"
   ]
  },
  {
   "cell_type": "code",
   "execution_count": null,
   "metadata": {
    "collapsed": true
   },
   "outputs": [],
   "source": []
  },
  {
   "cell_type": "code",
   "execution_count": null,
   "metadata": {
    "collapsed": true
   },
   "outputs": [],
   "source": []
  },
  {
   "cell_type": "code",
   "execution_count": 172,
   "metadata": {
    "scrolled": true
   },
   "outputs": [
    {
     "data": {
      "text/html": [
       "<div>\n",
       "<style scoped>\n",
       "    .dataframe tbody tr th:only-of-type {\n",
       "        vertical-align: middle;\n",
       "    }\n",
       "\n",
       "    .dataframe tbody tr th {\n",
       "        vertical-align: top;\n",
       "    }\n",
       "\n",
       "    .dataframe thead th {\n",
       "        text-align: right;\n",
       "    }\n",
       "</style>\n",
       "<table border=\"1\" class=\"dataframe\">\n",
       "  <thead>\n",
       "    <tr style=\"text-align: right;\">\n",
       "      <th></th>\n",
       "      <th>1</th>\n",
       "      <th>2</th>\n",
       "      <th>3</th>\n",
       "      <th>4</th>\n",
       "      <th>5</th>\n",
       "      <th>6</th>\n",
       "      <th>7</th>\n",
       "      <th>8</th>\n",
       "    </tr>\n",
       "  </thead>\n",
       "  <tbody>\n",
       "    <tr>\n",
       "      <th>0</th>\n",
       "      <td>0.817708</td>\n",
       "      <td>0.682206</td>\n",
       "      <td>0.651135</td>\n",
       "      <td>0.710525</td>\n",
       "      <td>0.970110</td>\n",
       "      <td>0.326568</td>\n",
       "      <td>0.840195</td>\n",
       "      <td>0.840341</td>\n",
       "    </tr>\n",
       "    <tr>\n",
       "      <th>1</th>\n",
       "      <td>0.817708</td>\n",
       "      <td>0.494642</td>\n",
       "      <td>0.498563</td>\n",
       "      <td>0.448047</td>\n",
       "      <td>0.524902</td>\n",
       "      <td>0.326568</td>\n",
       "      <td>0.387973</td>\n",
       "      <td>0.388181</td>\n",
       "    </tr>\n",
       "    <tr>\n",
       "      <th>2</th>\n",
       "      <td>0.817708</td>\n",
       "      <td>1.306023</td>\n",
       "      <td>1.350390</td>\n",
       "      <td>1.507322</td>\n",
       "      <td>1.474712</td>\n",
       "      <td>0.326568</td>\n",
       "      <td>1.353960</td>\n",
       "      <td>1.353683</td>\n",
       "    </tr>\n",
       "    <tr>\n",
       "      <th>3</th>\n",
       "      <td>0.817708</td>\n",
       "      <td>0.326817</td>\n",
       "      <td>0.362932</td>\n",
       "      <td>0.274682</td>\n",
       "      <td>0.530305</td>\n",
       "      <td>0.326568</td>\n",
       "      <td>0.392829</td>\n",
       "      <td>0.393039</td>\n",
       "    </tr>\n",
       "    <tr>\n",
       "      <th>4</th>\n",
       "      <td>0.817708</td>\n",
       "      <td>4.253409</td>\n",
       "      <td>3.795412</td>\n",
       "      <td>5.688313</td>\n",
       "      <td>5.103971</td>\n",
       "      <td>0.326568</td>\n",
       "      <td>5.008914</td>\n",
       "      <td>5.006646</td>\n",
       "    </tr>\n",
       "    <tr>\n",
       "      <th>5</th>\n",
       "      <td>0.817708</td>\n",
       "      <td>0.740783</td>\n",
       "      <td>0.517316</td>\n",
       "      <td>0.774383</td>\n",
       "      <td>0.947800</td>\n",
       "      <td>0.326568</td>\n",
       "      <td>0.822132</td>\n",
       "      <td>0.822397</td>\n",
       "    </tr>\n",
       "    <tr>\n",
       "      <th>6</th>\n",
       "      <td>0.817708</td>\n",
       "      <td>0.939559</td>\n",
       "      <td>0.870884</td>\n",
       "      <td>0.942323</td>\n",
       "      <td>1.348728</td>\n",
       "      <td>0.326568</td>\n",
       "      <td>1.152174</td>\n",
       "      <td>1.152647</td>\n",
       "    </tr>\n",
       "    <tr>\n",
       "      <th>7</th>\n",
       "      <td>0.181496</td>\n",
       "      <td>0.201800</td>\n",
       "      <td>0.223733</td>\n",
       "      <td>0.088265</td>\n",
       "      <td>0.306953</td>\n",
       "      <td>0.326568</td>\n",
       "      <td>0.177749</td>\n",
       "      <td>0.177936</td>\n",
       "    </tr>\n",
       "    <tr>\n",
       "      <th>8</th>\n",
       "      <td>0.817708</td>\n",
       "      <td>0.878358</td>\n",
       "      <td>0.876221</td>\n",
       "      <td>0.774383</td>\n",
       "      <td>1.091692</td>\n",
       "      <td>0.326568</td>\n",
       "      <td>1.057189</td>\n",
       "      <td>1.056474</td>\n",
       "    </tr>\n",
       "    <tr>\n",
       "      <th>9</th>\n",
       "      <td>0.817708</td>\n",
       "      <td>0.441020</td>\n",
       "      <td>0.450130</td>\n",
       "      <td>0.404110</td>\n",
       "      <td>0.646515</td>\n",
       "      <td>0.326568</td>\n",
       "      <td>0.502615</td>\n",
       "      <td>0.502851</td>\n",
       "    </tr>\n",
       "    <tr>\n",
       "      <th>10</th>\n",
       "      <td>0.817708</td>\n",
       "      <td>4.034066</td>\n",
       "      <td>2.437738</td>\n",
       "      <td>2.992631</td>\n",
       "      <td>2.772139</td>\n",
       "      <td>0.326568</td>\n",
       "      <td>2.648811</td>\n",
       "      <td>2.648456</td>\n",
       "    </tr>\n",
       "    <tr>\n",
       "      <th>11</th>\n",
       "      <td>0.817708</td>\n",
       "      <td>0.553563</td>\n",
       "      <td>0.444712</td>\n",
       "      <td>0.534661</td>\n",
       "      <td>0.796939</td>\n",
       "      <td>0.326568</td>\n",
       "      <td>0.662513</td>\n",
       "      <td>0.662537</td>\n",
       "    </tr>\n",
       "    <tr>\n",
       "      <th>12</th>\n",
       "      <td>0.181496</td>\n",
       "      <td>0.174268</td>\n",
       "      <td>0.180009</td>\n",
       "      <td>0.088265</td>\n",
       "      <td>0.289322</td>\n",
       "      <td>0.326568</td>\n",
       "      <td>0.128879</td>\n",
       "      <td>0.129101</td>\n",
       "    </tr>\n",
       "    <tr>\n",
       "      <th>13</th>\n",
       "      <td>0.817708</td>\n",
       "      <td>0.494479</td>\n",
       "      <td>0.521563</td>\n",
       "      <td>0.404110</td>\n",
       "      <td>0.667402</td>\n",
       "      <td>0.326568</td>\n",
       "      <td>0.512239</td>\n",
       "      <td>0.512709</td>\n",
       "    </tr>\n",
       "    <tr>\n",
       "      <th>14</th>\n",
       "      <td>0.817708</td>\n",
       "      <td>1.376767</td>\n",
       "      <td>1.402697</td>\n",
       "      <td>1.507322</td>\n",
       "      <td>1.699745</td>\n",
       "      <td>0.326568</td>\n",
       "      <td>1.522664</td>\n",
       "      <td>1.522817</td>\n",
       "    </tr>\n",
       "    <tr>\n",
       "      <th>15</th>\n",
       "      <td>0.817708</td>\n",
       "      <td>4.034066</td>\n",
       "      <td>2.494847</td>\n",
       "      <td>2.992631</td>\n",
       "      <td>3.320992</td>\n",
       "      <td>0.326568</td>\n",
       "      <td>3.037306</td>\n",
       "      <td>3.038519</td>\n",
       "    </tr>\n",
       "    <tr>\n",
       "      <th>16</th>\n",
       "      <td>0.178938</td>\n",
       "      <td>0.146689</td>\n",
       "      <td>0.141060</td>\n",
       "      <td>0.088265</td>\n",
       "      <td>0.275218</td>\n",
       "      <td>0.326568</td>\n",
       "      <td>0.136221</td>\n",
       "      <td>0.136374</td>\n",
       "    </tr>\n",
       "    <tr>\n",
       "      <th>17</th>\n",
       "      <td>0.181496</td>\n",
       "      <td>0.178297</td>\n",
       "      <td>0.184499</td>\n",
       "      <td>0.088265</td>\n",
       "      <td>0.284356</td>\n",
       "      <td>0.326568</td>\n",
       "      <td>0.175994</td>\n",
       "      <td>0.175971</td>\n",
       "    </tr>\n",
       "    <tr>\n",
       "      <th>18</th>\n",
       "      <td>0.817708</td>\n",
       "      <td>1.384388</td>\n",
       "      <td>1.348085</td>\n",
       "      <td>1.507322</td>\n",
       "      <td>1.686442</td>\n",
       "      <td>0.326568</td>\n",
       "      <td>1.581072</td>\n",
       "      <td>1.581105</td>\n",
       "    </tr>\n",
       "    <tr>\n",
       "      <th>19</th>\n",
       "      <td>0.337281</td>\n",
       "      <td>0.260167</td>\n",
       "      <td>0.217367</td>\n",
       "      <td>0.244895</td>\n",
       "      <td>0.402006</td>\n",
       "      <td>0.326568</td>\n",
       "      <td>0.258435</td>\n",
       "      <td>0.258722</td>\n",
       "    </tr>\n",
       "  </tbody>\n",
       "</table>\n",
       "</div>"
      ],
      "text/plain": [
       "           1         2         3         4         5         6         7  \\\n",
       "0   0.817708  0.682206  0.651135  0.710525  0.970110  0.326568  0.840195   \n",
       "1   0.817708  0.494642  0.498563  0.448047  0.524902  0.326568  0.387973   \n",
       "2   0.817708  1.306023  1.350390  1.507322  1.474712  0.326568  1.353960   \n",
       "3   0.817708  0.326817  0.362932  0.274682  0.530305  0.326568  0.392829   \n",
       "4   0.817708  4.253409  3.795412  5.688313  5.103971  0.326568  5.008914   \n",
       "5   0.817708  0.740783  0.517316  0.774383  0.947800  0.326568  0.822132   \n",
       "6   0.817708  0.939559  0.870884  0.942323  1.348728  0.326568  1.152174   \n",
       "7   0.181496  0.201800  0.223733  0.088265  0.306953  0.326568  0.177749   \n",
       "8   0.817708  0.878358  0.876221  0.774383  1.091692  0.326568  1.057189   \n",
       "9   0.817708  0.441020  0.450130  0.404110  0.646515  0.326568  0.502615   \n",
       "10  0.817708  4.034066  2.437738  2.992631  2.772139  0.326568  2.648811   \n",
       "11  0.817708  0.553563  0.444712  0.534661  0.796939  0.326568  0.662513   \n",
       "12  0.181496  0.174268  0.180009  0.088265  0.289322  0.326568  0.128879   \n",
       "13  0.817708  0.494479  0.521563  0.404110  0.667402  0.326568  0.512239   \n",
       "14  0.817708  1.376767  1.402697  1.507322  1.699745  0.326568  1.522664   \n",
       "15  0.817708  4.034066  2.494847  2.992631  3.320992  0.326568  3.037306   \n",
       "16  0.178938  0.146689  0.141060  0.088265  0.275218  0.326568  0.136221   \n",
       "17  0.181496  0.178297  0.184499  0.088265  0.284356  0.326568  0.175994   \n",
       "18  0.817708  1.384388  1.348085  1.507322  1.686442  0.326568  1.581072   \n",
       "19  0.337281  0.260167  0.217367  0.244895  0.402006  0.326568  0.258435   \n",
       "\n",
       "           8  \n",
       "0   0.840341  \n",
       "1   0.388181  \n",
       "2   1.353683  \n",
       "3   0.393039  \n",
       "4   5.006646  \n",
       "5   0.822397  \n",
       "6   1.152647  \n",
       "7   0.177936  \n",
       "8   1.056474  \n",
       "9   0.502851  \n",
       "10  2.648456  \n",
       "11  0.662537  \n",
       "12  0.129101  \n",
       "13  0.512709  \n",
       "14  1.522817  \n",
       "15  3.038519  \n",
       "16  0.136374  \n",
       "17  0.175971  \n",
       "18  1.581105  \n",
       "19  0.258722  "
      ]
     },
     "execution_count": 172,
     "metadata": {},
     "output_type": "execute_result"
    }
   ],
   "source": [
    "predicted_test.head(20)"
   ]
  },
  {
   "cell_type": "code",
   "execution_count": null,
   "metadata": {
    "collapsed": true
   },
   "outputs": [],
   "source": []
  },
  {
   "cell_type": "code",
   "execution_count": null,
   "metadata": {
    "collapsed": true
   },
   "outputs": [],
   "source": []
  },
  {
   "cell_type": "code",
   "execution_count": null,
   "metadata": {
    "collapsed": true
   },
   "outputs": [],
   "source": []
  },
  {
   "cell_type": "markdown",
   "metadata": {},
   "source": [
    "# Pridiction"
   ]
  },
  {
   "cell_type": "code",
   "execution_count": 173,
   "metadata": {
    "scrolled": true
   },
   "outputs": [
    {
     "name": "stderr",
     "output_type": "stream",
     "text": [
      "c:\\users\\eitanp\\appdata\\local\\programs\\python\\python37\\lib\\site-packages\\ipykernel_launcher.py:3: SettingWithCopyWarning: \n",
      "A value is trying to be set on a copy of a slice from a DataFrame.\n",
      "Try using .loc[row_indexer,col_indexer] = value instead\n",
      "\n",
      "See the caveats in the documentation: http://pandas.pydata.org/pandas-docs/stable/indexing.html#indexing-view-versus-copy\n",
      "  This is separate from the ipykernel package so we can avoid doing imports until\n",
      "c:\\users\\eitanp\\appdata\\local\\programs\\python\\python37\\lib\\site-packages\\ipykernel_launcher.py:7: SettingWithCopyWarning: \n",
      "A value is trying to be set on a copy of a slice from a DataFrame.\n",
      "Try using .loc[row_indexer,col_indexer] = value instead\n",
      "\n",
      "See the caveats in the documentation: http://pandas.pydata.org/pandas-docs/stable/indexing.html#indexing-view-versus-copy\n",
      "  import sys\n",
      "c:\\users\\eitanp\\appdata\\local\\programs\\python\\python37\\lib\\site-packages\\ipykernel_launcher.py:8: SettingWithCopyWarning: \n",
      "A value is trying to be set on a copy of a slice from a DataFrame.\n",
      "Try using .loc[row_indexer,col_indexer] = value instead\n",
      "\n",
      "See the caveats in the documentation: http://pandas.pydata.org/pandas-docs/stable/indexing.html#indexing-view-versus-copy\n",
      "  \n"
     ]
    },
    {
     "data": {
      "text/html": [
       "<div>\n",
       "<style scoped>\n",
       "    .dataframe tbody tr th:only-of-type {\n",
       "        vertical-align: middle;\n",
       "    }\n",
       "\n",
       "    .dataframe tbody tr th {\n",
       "        vertical-align: top;\n",
       "    }\n",
       "\n",
       "    .dataframe thead th {\n",
       "        text-align: right;\n",
       "    }\n",
       "</style>\n",
       "<table border=\"1\" class=\"dataframe\">\n",
       "  <thead>\n",
       "    <tr style=\"text-align: right;\">\n",
       "      <th></th>\n",
       "      <th>ID</th>\n",
       "      <th>item_cnt_month</th>\n",
       "    </tr>\n",
       "  </thead>\n",
       "  <tbody>\n",
       "    <tr>\n",
       "      <th>2781025</th>\n",
       "      <td>0</td>\n",
       "      <td>0.909075</td>\n",
       "    </tr>\n",
       "    <tr>\n",
       "      <th>2781026</th>\n",
       "      <td>1</td>\n",
       "      <td>0.598054</td>\n",
       "    </tr>\n",
       "    <tr>\n",
       "      <th>2781027</th>\n",
       "      <td>2</td>\n",
       "      <td>1.790960</td>\n",
       "    </tr>\n",
       "    <tr>\n",
       "      <th>2781028</th>\n",
       "      <td>3</td>\n",
       "      <td>0.446586</td>\n",
       "    </tr>\n",
       "    <tr>\n",
       "      <th>2781029</th>\n",
       "      <td>4</td>\n",
       "      <td>6.004537</td>\n",
       "    </tr>\n",
       "    <tr>\n",
       "      <th>2781030</th>\n",
       "      <td>5</td>\n",
       "      <td>0.851972</td>\n",
       "    </tr>\n",
       "    <tr>\n",
       "      <th>2781031</th>\n",
       "      <td>6</td>\n",
       "      <td>1.261256</td>\n",
       "    </tr>\n",
       "    <tr>\n",
       "      <th>2781032</th>\n",
       "      <td>7</td>\n",
       "      <td>0.226491</td>\n",
       "    </tr>\n",
       "    <tr>\n",
       "      <th>2781033</th>\n",
       "      <td>8</td>\n",
       "      <td>1.015073</td>\n",
       "    </tr>\n",
       "    <tr>\n",
       "      <th>2781034</th>\n",
       "      <td>9</td>\n",
       "      <td>0.585622</td>\n",
       "    </tr>\n",
       "  </tbody>\n",
       "</table>\n",
       "</div>"
      ],
      "text/plain": [
       "         ID  item_cnt_month\n",
       "2781025   0        0.909075\n",
       "2781026   1        0.598054\n",
       "2781027   2        1.790960\n",
       "2781028   3        0.446586\n",
       "2781029   4        6.004537\n",
       "2781030   5        0.851972\n",
       "2781031   6        1.261256\n",
       "2781032   7        0.226491\n",
       "2781033   8        1.015073\n",
       "2781034   9        0.585622"
      ]
     },
     "execution_count": 173,
     "metadata": {},
     "output_type": "execute_result"
    }
   ],
   "source": [
    "test_data['ID']= ID.values\n",
    "ID= test_data[['ID']];\n",
    "ID['ID']= ID['ID'].astype(int) \n",
    "\n",
    "#ID['item_cnt_month']= predicted_test.mean(axis=1).values;\n",
    "#ID['item_cnt_month']= predicted_test[2].values; #!!!!!\n",
    "ID['item_cnt_month']= pr2\n",
    "ID['item_cnt_month']= ID['item_cnt_month'].clip(0,20)\n",
    "ID.head(10)"
   ]
  },
  {
   "cell_type": "code",
   "execution_count": null,
   "metadata": {
    "collapsed": true
   },
   "outputs": [],
   "source": []
  },
  {
   "cell_type": "code",
   "execution_count": null,
   "metadata": {
    "collapsed": true
   },
   "outputs": [],
   "source": []
  },
  {
   "cell_type": "code",
   "execution_count": 174,
   "metadata": {
    "collapsed": true
   },
   "outputs": [],
   "source": [
    "ID.to_csv('SUBMISSION03MAY_1.csv', index=False)"
   ]
  }
 ],
 "metadata": {
  "kernelspec": {
   "display_name": "Python 3",
   "language": "python",
   "name": "python3"
  },
  "language_info": {
   "codemirror_mode": {
    "name": "ipython",
    "version": 3
   },
   "file_extension": ".py",
   "mimetype": "text/x-python",
   "name": "python",
   "nbconvert_exporter": "python",
   "pygments_lexer": "ipython3",
   "version": "3.6.5"
  }
 },
 "nbformat": 4,
 "nbformat_minor": 2
}
